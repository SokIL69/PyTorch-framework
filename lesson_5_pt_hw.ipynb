{
 "cells": [
  {
   "cell_type": "markdown",
   "metadata": {},
   "source": [
    "# Фреймворк PyTorch для разработки искусственных нейронных сетей\n",
    "# Урок 5. Рекурентные сети для обработки последовательностей"
   ]
  },
  {
   "cell_type": "markdown",
   "metadata": {},
   "source": [
    "# <font color='red'>Практическое задание</font>"
   ]
  },
  {
   "cell_type": "markdown",
   "metadata": {},
   "source": [
    "- Обучить GRU, LSTM для предсказания временного ряда на примере https://www.kaggle.com/c/favorita-grocery-sales-forecasting (для каждого типа продуктов)"
   ]
  },
  {
   "cell_type": "markdown",
   "metadata": {},
   "source": [
    "Выполнил ___Соковнин ИЛ___"
   ]
  },
  {
   "cell_type": "code",
   "execution_count": null,
   "metadata": {},
   "outputs": [],
   "source": []
  },
  {
   "cell_type": "code",
   "execution_count": null,
   "metadata": {},
   "outputs": [],
   "source": []
  },
  {
   "cell_type": "code",
   "execution_count": null,
   "metadata": {},
   "outputs": [],
   "source": []
  },
  {
   "cell_type": "code",
   "execution_count": null,
   "metadata": {},
   "outputs": [],
   "source": [
    "import numpy\n",
    "import matplotlib.pyplot as plt\n",
    "import pandas as pd\n",
    "import math\n",
    "from keras.models import Sequential\n",
    "from keras.layers import Dense,Dropout\n",
    "from keras.layers import LSTM\n",
    "from sklearn.preprocessing import MinMaxScaler\n",
    "from sklearn.metrics import mean_squared_error"
   ]
  },
  {
   "cell_type": "code",
   "execution_count": 1,
   "metadata": {},
   "outputs": [
    {
     "name": "stdout",
     "output_type": "stream",
     "text": [
      ".\\data\\\n"
     ]
    }
   ],
   "source": [
    "import os, sys\n",
    "import numpy as np # linear algebra\n",
    "import pandas as pd # data processing, CSV file I/O (e.g. pd.read_csv)\n",
    "\n",
    "# PATH_DATA = '/content/drive/lesson5/data/'\n",
    "PATH_DATA = '.\\\\data\\\\'\n",
    "print(PATH_DATA)"
   ]
  },
  {
   "cell_type": "code",
   "execution_count": null,
   "metadata": {},
   "outputs": [],
   "source": [
    "%%time\n",
    "\n",
    "train = pd.read_csv(PATH_DATA + \"train.csv\", sep=\",\")\n",
    "print(train.shape)\n",
    "# train = train.set_index('id')\n",
    "train.head(3)"
   ]
  },
  {
   "cell_type": "code",
   "execution_count": null,
   "metadata": {},
   "outputs": [],
   "source": [
    "train.info()"
   ]
  },
  {
   "cell_type": "code",
   "execution_count": 3,
   "metadata": {},
   "outputs": [],
   "source": [
    "# функция для оптимизации использования памяти\n",
    "def reduce_memory(df): \n",
    "    \"\"\"Снижает размерности строк\"\"\"\n",
    "\n",
    "    float_cols = df.select_dtypes(include=['float']).columns\n",
    "    int_cols = df.select_dtypes(include=['int64']).columns\n",
    "    \n",
    "    df[float_cols] = df[float_cols].astype('float32')\n",
    "    df[int_cols] = df[int_cols].astype('int32')\n",
    "    \n",
    "    return df"
   ]
  },
  {
   "cell_type": "code",
   "execution_count": 4,
   "metadata": {},
   "outputs": [],
   "source": [
    "reduce_memory(train)\n",
    "train.info()"
   ]
  },
  {
   "cell_type": "code",
   "execution_count": null,
   "metadata": {},
   "outputs": [],
   "source": [
    "train_dt = train[['date', 'store_nbr', 'unit_sales']]\n",
    "train_dt.info()\n",
    "# train_dt.info(memory_usage='deep')\n",
    "train_dt.head(3)"
   ]
  },
  {
   "cell_type": "code",
   "execution_count": null,
   "metadata": {},
   "outputs": [],
   "source": [
    "%%time\n",
    "\n",
    "train_dt.to_csv(PATH_DATA + 'train_dt.csv', index=False) "
   ]
  },
  {
   "cell_type": "code",
   "execution_count": null,
   "metadata": {},
   "outputs": [],
   "source": [
    "# del (train_dt)\n",
    "# del(train)\n",
    "\n",
    "# Освобождаем память\n",
    "import gc\n",
    "gc.collect()\n",
    "gc.collect() # два раза подряд, для надёжности"
   ]
  },
  {
   "cell_type": "code",
   "execution_count": 2,
   "metadata": {},
   "outputs": [
    {
     "name": "stdout",
     "output_type": "stream",
     "text": [
      "(125497040, 3)\n",
      "<class 'pandas.core.frame.DataFrame'>\n",
      "RangeIndex: 125497040 entries, 0 to 125497039\n",
      "Data columns (total 3 columns):\n",
      " #   Column      Dtype  \n",
      "---  ------      -----  \n",
      " 0   date        object \n",
      " 1   store_nbr   int64  \n",
      " 2   unit_sales  float64\n",
      "dtypes: float64(1), int64(1), object(1)\n",
      "memory usage: 2.8+ GB\n",
      "Wall time: 33.2 s\n"
     ]
    },
    {
     "data": {
      "text/html": [
       "<div>\n",
       "<style scoped>\n",
       "    .dataframe tbody tr th:only-of-type {\n",
       "        vertical-align: middle;\n",
       "    }\n",
       "\n",
       "    .dataframe tbody tr th {\n",
       "        vertical-align: top;\n",
       "    }\n",
       "\n",
       "    .dataframe thead th {\n",
       "        text-align: right;\n",
       "    }\n",
       "</style>\n",
       "<table border=\"1\" class=\"dataframe\">\n",
       "  <thead>\n",
       "    <tr style=\"text-align: right;\">\n",
       "      <th></th>\n",
       "      <th>date</th>\n",
       "      <th>store_nbr</th>\n",
       "      <th>unit_sales</th>\n",
       "    </tr>\n",
       "  </thead>\n",
       "  <tbody>\n",
       "    <tr>\n",
       "      <th>0</th>\n",
       "      <td>2013-01-01</td>\n",
       "      <td>25</td>\n",
       "      <td>7.0</td>\n",
       "    </tr>\n",
       "    <tr>\n",
       "      <th>1</th>\n",
       "      <td>2013-01-01</td>\n",
       "      <td>25</td>\n",
       "      <td>1.0</td>\n",
       "    </tr>\n",
       "    <tr>\n",
       "      <th>2</th>\n",
       "      <td>2013-01-01</td>\n",
       "      <td>25</td>\n",
       "      <td>2.0</td>\n",
       "    </tr>\n",
       "  </tbody>\n",
       "</table>\n",
       "</div>"
      ],
      "text/plain": [
       "         date  store_nbr  unit_sales\n",
       "0  2013-01-01         25         7.0\n",
       "1  2013-01-01         25         1.0\n",
       "2  2013-01-01         25         2.0"
      ]
     },
     "execution_count": 2,
     "metadata": {},
     "output_type": "execute_result"
    }
   ],
   "source": [
    "%%time\n",
    "\n",
    "train_dt = pd.read_csv(PATH_DATA + \"train_dt.csv\", sep=\",\")\n",
    "print(train_dt.shape)\n",
    "train_dt.info()\n",
    "train_dt.head(3)"
   ]
  },
  {
   "cell_type": "markdown",
   "metadata": {},
   "source": [
    "### Data processing\n",
    "Subseting, join and aggregating data"
   ]
  },
  {
   "cell_type": "code",
   "execution_count": 6,
   "metadata": {},
   "outputs": [],
   "source": [
    "stores = pd.read_csv(PATH_DATA + \"stores.csv\") "
   ]
  },
  {
   "cell_type": "code",
   "execution_count": 9,
   "metadata": {},
   "outputs": [
    {
     "name": "stdout",
     "output_type": "stream",
     "text": [
      "Wall time: 125 ms\n"
     ]
    }
   ],
   "source": [
    "%%time\n",
    "\n",
    "t=train_dt.groupby(['store_nbr','date'], as_index=False).agg({\"unit_sales\": \"sum\"})\n",
    "train = pd.merge(t, stores, how='left', on=['store_nbr'])\n",
    "mask=train['state']=='Pichincha'\n",
    "train=train.loc[mask]\n",
    "train=train.groupby(['date'], as_index=False).agg({\"unit_sales\": \"sum\"})"
   ]
  },
  {
   "cell_type": "markdown",
   "metadata": {},
   "source": [
    "### Sales for Pichincha state (train data)"
   ]
  },
  {
   "cell_type": "code",
   "execution_count": 23,
   "metadata": {},
   "outputs": [
    {
     "name": "stdout",
     "output_type": "stream",
     "text": [
      "(1679, 2)\n",
      "<class 'pandas.core.frame.DataFrame'>\n",
      "Int64Index: 1679 entries, 0 to 1678\n",
      "Data columns (total 2 columns):\n",
      " #   Column      Non-Null Count  Dtype  \n",
      "---  ------      --------------  -----  \n",
      " 0   date        1679 non-null   object \n",
      " 1   unit_sales  1679 non-null   float32\n",
      "dtypes: float32(1), object(1)\n",
      "memory usage: 32.8+ KB\n"
     ]
    },
    {
     "data": {
      "text/html": [
       "<div>\n",
       "<style scoped>\n",
       "    .dataframe tbody tr th:only-of-type {\n",
       "        vertical-align: middle;\n",
       "    }\n",
       "\n",
       "    .dataframe tbody tr th {\n",
       "        vertical-align: top;\n",
       "    }\n",
       "\n",
       "    .dataframe thead th {\n",
       "        text-align: right;\n",
       "    }\n",
       "</style>\n",
       "<table border=\"1\" class=\"dataframe\">\n",
       "  <thead>\n",
       "    <tr style=\"text-align: right;\">\n",
       "      <th></th>\n",
       "      <th>date</th>\n",
       "      <th>unit_sales</th>\n",
       "    </tr>\n",
       "  </thead>\n",
       "  <tbody>\n",
       "    <tr>\n",
       "      <th>1667</th>\n",
       "      <td>2017-08-04</td>\n",
       "      <td>425713.15625</td>\n",
       "    </tr>\n",
       "    <tr>\n",
       "      <th>1668</th>\n",
       "      <td>2017-08-05</td>\n",
       "      <td>500614.56250</td>\n",
       "    </tr>\n",
       "    <tr>\n",
       "      <th>1669</th>\n",
       "      <td>2017-08-06</td>\n",
       "      <td>547592.12500</td>\n",
       "    </tr>\n",
       "    <tr>\n",
       "      <th>1670</th>\n",
       "      <td>2017-08-07</td>\n",
       "      <td>396073.43750</td>\n",
       "    </tr>\n",
       "    <tr>\n",
       "      <th>1671</th>\n",
       "      <td>2017-08-08</td>\n",
       "      <td>347288.25000</td>\n",
       "    </tr>\n",
       "    <tr>\n",
       "      <th>1672</th>\n",
       "      <td>2017-08-09</td>\n",
       "      <td>367813.87500</td>\n",
       "    </tr>\n",
       "    <tr>\n",
       "      <th>1673</th>\n",
       "      <td>2017-08-10</td>\n",
       "      <td>315940.31250</td>\n",
       "    </tr>\n",
       "    <tr>\n",
       "      <th>1674</th>\n",
       "      <td>2017-08-11</td>\n",
       "      <td>406504.40625</td>\n",
       "    </tr>\n",
       "    <tr>\n",
       "      <th>1675</th>\n",
       "      <td>2017-08-12</td>\n",
       "      <td>389945.59375</td>\n",
       "    </tr>\n",
       "    <tr>\n",
       "      <th>1676</th>\n",
       "      <td>2017-08-13</td>\n",
       "      <td>438714.53125</td>\n",
       "    </tr>\n",
       "    <tr>\n",
       "      <th>1677</th>\n",
       "      <td>2017-08-14</td>\n",
       "      <td>377126.43750</td>\n",
       "    </tr>\n",
       "    <tr>\n",
       "      <th>1678</th>\n",
       "      <td>2017-08-15</td>\n",
       "      <td>363382.59375</td>\n",
       "    </tr>\n",
       "  </tbody>\n",
       "</table>\n",
       "</div>"
      ],
      "text/plain": [
       "            date    unit_sales\n",
       "1667  2017-08-04  425713.15625\n",
       "1668  2017-08-05  500614.56250\n",
       "1669  2017-08-06  547592.12500\n",
       "1670  2017-08-07  396073.43750\n",
       "1671  2017-08-08  347288.25000\n",
       "1672  2017-08-09  367813.87500\n",
       "1673  2017-08-10  315940.31250\n",
       "1674  2017-08-11  406504.40625\n",
       "1675  2017-08-12  389945.59375\n",
       "1676  2017-08-13  438714.53125\n",
       "1677  2017-08-14  377126.43750\n",
       "1678  2017-08-15  363382.59375"
      ]
     },
     "execution_count": 23,
     "metadata": {},
     "output_type": "execute_result"
    }
   ],
   "source": [
    "print(train.shape)\n",
    "train.info()\n",
    "train.tail(12)"
   ]
  },
  {
   "cell_type": "code",
   "execution_count": 24,
   "metadata": {},
   "outputs": [
    {
     "data": {
      "image/png": "[encoded data removed]",
      "text/plain": [
       "<Figure size 432x288 with 1 Axes>"
      ]
     },
     "metadata": {
      "needs_background": "light"
     },
     "output_type": "display_data"
    }
   ],
   "source": [
    "import matplotlib.pyplot as plt\n",
    "\n",
    "plt.plot(train['unit_sales'])\n",
    "plt.show()"
   ]
  },
  {
   "cell_type": "markdown",
   "metadata": {},
   "source": [
    "There is a trend over time especially for the 2015 year, by 2015 and 2016 the slope gets lower and loses trend. It’s easy to recognize how the sales increasing over the last quarters."
   ]
  },
  {
   "cell_type": "code",
   "execution_count": 25,
   "metadata": {},
   "outputs": [],
   "source": [
    "# Сохраняем результат в файл\n",
    "train.to_csv(PATH_DATA + 'train_data.csv', index=False) "
   ]
  },
  {
   "cell_type": "markdown",
   "metadata": {},
   "source": [
    "### Загрузка подготовленных данных"
   ]
  },
  {
   "cell_type": "code",
   "execution_count": 5,
   "metadata": {},
   "outputs": [
    {
     "name": "stdout",
     "output_type": "stream",
     "text": [
      "(1679, 2)\n",
      "<class 'pandas.core.frame.DataFrame'>\n",
      "RangeIndex: 1679 entries, 0 to 1678\n",
      "Data columns (total 2 columns):\n",
      " #   Column      Non-Null Count  Dtype  \n",
      "---  ------      --------------  -----  \n",
      " 0   date        1679 non-null   object \n",
      " 1   unit_sales  1679 non-null   float64\n",
      "dtypes: float64(1), object(1)\n",
      "memory usage: 26.4+ KB\n"
     ]
    },
    {
     "data": {
      "text/html": [
       "<div>\n",
       "<style scoped>\n",
       "    .dataframe tbody tr th:only-of-type {\n",
       "        vertical-align: middle;\n",
       "    }\n",
       "\n",
       "    .dataframe tbody tr th {\n",
       "        vertical-align: top;\n",
       "    }\n",
       "\n",
       "    .dataframe thead th {\n",
       "        text-align: right;\n",
       "    }\n",
       "</style>\n",
       "<table border=\"1\" class=\"dataframe\">\n",
       "  <thead>\n",
       "    <tr style=\"text-align: right;\">\n",
       "      <th></th>\n",
       "      <th>date</th>\n",
       "      <th>unit_sales</th>\n",
       "    </tr>\n",
       "  </thead>\n",
       "  <tbody>\n",
       "    <tr>\n",
       "      <th>0</th>\n",
       "      <td>2013-01-02</td>\n",
       "      <td>295729.00</td>\n",
       "    </tr>\n",
       "    <tr>\n",
       "      <th>1</th>\n",
       "      <td>2013-01-03</td>\n",
       "      <td>203589.56</td>\n",
       "    </tr>\n",
       "    <tr>\n",
       "      <th>2</th>\n",
       "      <td>2013-01-04</td>\n",
       "      <td>203090.77</td>\n",
       "    </tr>\n",
       "  </tbody>\n",
       "</table>\n",
       "</div>"
      ],
      "text/plain": [
       "         date  unit_sales\n",
       "0  2013-01-02   295729.00\n",
       "1  2013-01-03   203589.56\n",
       "2  2013-01-04   203090.77"
      ]
     },
     "execution_count": 5,
     "metadata": {},
     "output_type": "execute_result"
    }
   ],
   "source": [
    "train = pd.read_csv(PATH_DATA + \"train_data.csv\", sep=\",\")\n",
    "print(train.shape)\n",
    "train.info()\n",
    "train.head(3)"
   ]
  },
  {
   "cell_type": "markdown",
   "metadata": {},
   "source": [
    "### Разделение выборки для обучающих и тестовых данных"
   ]
  },
  {
   "cell_type": "code",
   "execution_count": 6,
   "metadata": {},
   "outputs": [
    {
     "name": "stdout",
     "output_type": "stream",
     "text": [
      "1259 420 1679\n"
     ]
    }
   ],
   "source": [
    "train_size = int(len(train) * 0.75)\n",
    "test_size = len(train) - train_size\n",
    "\n",
    "print(train_size,test_size, len(train))"
   ]
  },
  {
   "cell_type": "code",
   "execution_count": 7,
   "metadata": {},
   "outputs": [
    {
     "name": "stdout",
     "output_type": "stream",
     "text": [
      "1259 420\n"
     ]
    }
   ],
   "source": [
    "train1= train[0:train_size]\n",
    "test =  train[train_size:len(train)]\n",
    "print(len(train1), len(test))"
   ]
  },
  {
   "cell_type": "code",
   "execution_count": 8,
   "metadata": {},
   "outputs": [],
   "source": [
    "train1=train1.set_index(\"date\")\n",
    "test=test.set_index(\"date\")\n",
    "train=train.set_index(\"date\")\n",
    "train1=train1.values\n",
    "test=test.values\n",
    "train=train.values"
   ]
  },
  {
   "cell_type": "markdown",
   "metadata": {},
   "source": [
    "Determine the number of previous time steps to use as input variables to predict the next time period. In this case (look_back) determinated to 1"
   ]
  },
  {
   "cell_type": "code",
   "execution_count": 9,
   "metadata": {},
   "outputs": [],
   "source": [
    "def create_dataset(dataset, look_back=1):\n",
    "    dataX, dataY = [], []\n",
    "    for i in range(len(dataset)-look_back-1):\n",
    "        a = dataset[i:(i+look_back), 0]\n",
    "        dataX.append(a)\n",
    "        dataY.append(dataset[i + look_back, 0])\n",
    "    return numpy.array(dataX), numpy.array(dataY)"
   ]
  },
  {
   "cell_type": "code",
   "execution_count": 11,
   "metadata": {},
   "outputs": [],
   "source": [
    "# import numpy\n",
    "\n",
    "look_back = 1\n",
    "trainX, trainY = create_dataset(train1, look_back)\n",
    "testX, testY = create_dataset(test, look_back)"
   ]
  },
  {
   "cell_type": "code",
   "execution_count": 19,
   "metadata": {},
   "outputs": [
    {
     "data": {
      "text/plain": [
       "((1257, 1), (1257,))"
      ]
     },
     "execution_count": 19,
     "metadata": {},
     "output_type": "execute_result"
    }
   ],
   "source": [
    "trainX.shape, trainY.shape"
   ]
  },
  {
   "cell_type": "markdown",
   "metadata": {},
   "source": [
    "Multilayer Perceptron model\n",
    "A simple network with 1 input (look_back) , 1 hidden layer with 8 neurons and one (1) output layer."
   ]
  },
  {
   "cell_type": "code",
   "execution_count": 14,
   "metadata": {
    "scrolled": true
   },
   "outputs": [
    {
     "name": "stdout",
     "output_type": "stream",
     "text": [
      "Epoch 1/200\n",
      "629/629 - 5s - loss: 14533445632.0000 - 5s/epoch - 7ms/step\n",
      "Epoch 2/200\n",
      "629/629 - 2s - loss: 7524797440.0000 - 2s/epoch - 2ms/step\n",
      "Epoch 3/200\n",
      "629/629 - 1s - loss: 7560857088.0000 - 1s/epoch - 2ms/step\n",
      "Epoch 4/200\n",
      "629/629 - 1s - loss: 7531424256.0000 - 1s/epoch - 2ms/step\n",
      "Epoch 5/200\n",
      "629/629 - 2s - loss: 7566036480.0000 - 2s/epoch - 2ms/step\n",
      "Epoch 6/200\n",
      "629/629 - 2s - loss: 7550424576.0000 - 2s/epoch - 2ms/step\n",
      "Epoch 7/200\n",
      "629/629 - 2s - loss: 7579824128.0000 - 2s/epoch - 2ms/step\n",
      "Epoch 8/200\n",
      "629/629 - 2s - loss: 7572335616.0000 - 2s/epoch - 2ms/step\n",
      "Epoch 9/200\n",
      "629/629 - 1s - loss: 7573846016.0000 - 1s/epoch - 2ms/step\n",
      "Epoch 10/200\n",
      "629/629 - 1s - loss: 7536196608.0000 - 1s/epoch - 2ms/step\n",
      "Epoch 11/200\n",
      "629/629 - 1s - loss: 7586246144.0000 - 1s/epoch - 2ms/step\n",
      "Epoch 12/200\n",
      "629/629 - 1s - loss: 7436213248.0000 - 1s/epoch - 2ms/step\n",
      "Epoch 13/200\n",
      "629/629 - 1s - loss: 7567697408.0000 - 1s/epoch - 2ms/step\n",
      "Epoch 14/200\n",
      "629/629 - 1s - loss: 7576020992.0000 - 1s/epoch - 2ms/step\n",
      "Epoch 15/200\n",
      "629/629 - 1s - loss: 7553119744.0000 - 1s/epoch - 2ms/step\n",
      "Epoch 16/200\n",
      "629/629 - 2s - loss: 7570033152.0000 - 2s/epoch - 2ms/step\n",
      "Epoch 17/200\n",
      "629/629 - 2s - loss: 7547518464.0000 - 2s/epoch - 2ms/step\n",
      "Epoch 18/200\n",
      "629/629 - 2s - loss: 7503767552.0000 - 2s/epoch - 2ms/step\n",
      "Epoch 19/200\n",
      "629/629 - 2s - loss: 7573967872.0000 - 2s/epoch - 2ms/step\n",
      "Epoch 20/200\n",
      "629/629 - 2s - loss: 7589146112.0000 - 2s/epoch - 2ms/step\n",
      "Epoch 21/200\n",
      "629/629 - 2s - loss: 7523519488.0000 - 2s/epoch - 2ms/step\n",
      "Epoch 22/200\n",
      "629/629 - 1s - loss: 7504099328.0000 - 1s/epoch - 2ms/step\n",
      "Epoch 23/200\n",
      "629/629 - 2s - loss: 7552054784.0000 - 2s/epoch - 2ms/step\n",
      "Epoch 24/200\n",
      "629/629 - 1s - loss: 7556178944.0000 - 1s/epoch - 2ms/step\n",
      "Epoch 25/200\n",
      "629/629 - 2s - loss: 7550850048.0000 - 2s/epoch - 2ms/step\n",
      "Epoch 26/200\n",
      "629/629 - 2s - loss: 7561678848.0000 - 2s/epoch - 2ms/step\n",
      "Epoch 27/200\n",
      "629/629 - 2s - loss: 7445897216.0000 - 2s/epoch - 2ms/step\n",
      "Epoch 28/200\n",
      "629/629 - 2s - loss: 7550853120.0000 - 2s/epoch - 2ms/step\n",
      "Epoch 29/200\n",
      "629/629 - 2s - loss: 7562324992.0000 - 2s/epoch - 2ms/step\n",
      "Epoch 30/200\n",
      "629/629 - 1s - loss: 7546327040.0000 - 1s/epoch - 2ms/step\n",
      "Epoch 31/200\n",
      "629/629 - 2s - loss: 7520422912.0000 - 2s/epoch - 3ms/step\n",
      "Epoch 32/200\n",
      "629/629 - 2s - loss: 7559205376.0000 - 2s/epoch - 3ms/step\n",
      "Epoch 33/200\n",
      "629/629 - 2s - loss: 7530206208.0000 - 2s/epoch - 3ms/step\n",
      "Epoch 34/200\n",
      "629/629 - 2s - loss: 7559037440.0000 - 2s/epoch - 3ms/step\n",
      "Epoch 35/200\n",
      "629/629 - 2s - loss: 7529332224.0000 - 2s/epoch - 2ms/step\n",
      "Epoch 36/200\n",
      "629/629 - 2s - loss: 7545543680.0000 - 2s/epoch - 3ms/step\n",
      "Epoch 37/200\n",
      "629/629 - 2s - loss: 7560849408.0000 - 2s/epoch - 3ms/step\n",
      "Epoch 38/200\n",
      "629/629 - 2s - loss: 7551967744.0000 - 2s/epoch - 3ms/step\n",
      "Epoch 39/200\n",
      "629/629 - 2s - loss: 7505579520.0000 - 2s/epoch - 2ms/step\n",
      "Epoch 40/200\n",
      "629/629 - 2s - loss: 7524147712.0000 - 2s/epoch - 3ms/step\n",
      "Epoch 41/200\n",
      "629/629 - 2s - loss: 7563980800.0000 - 2s/epoch - 3ms/step\n",
      "Epoch 42/200\n",
      "629/629 - 2s - loss: 7549829120.0000 - 2s/epoch - 2ms/step\n",
      "Epoch 43/200\n",
      "629/629 - 2s - loss: 7561428480.0000 - 2s/epoch - 2ms/step\n",
      "Epoch 44/200\n",
      "629/629 - 2s - loss: 7521164288.0000 - 2s/epoch - 2ms/step\n",
      "Epoch 45/200\n",
      "629/629 - 2s - loss: 7537501184.0000 - 2s/epoch - 2ms/step\n",
      "Epoch 46/200\n",
      "629/629 - 2s - loss: 7567276032.0000 - 2s/epoch - 2ms/step\n",
      "Epoch 47/200\n",
      "629/629 - 2s - loss: 7584200192.0000 - 2s/epoch - 2ms/step\n",
      "Epoch 48/200\n",
      "629/629 - 2s - loss: 7538806784.0000 - 2s/epoch - 2ms/step\n",
      "Epoch 49/200\n",
      "629/629 - 1s - loss: 7537491456.0000 - 1s/epoch - 2ms/step\n",
      "Epoch 50/200\n",
      "629/629 - 1s - loss: 7557912064.0000 - 1s/epoch - 2ms/step\n",
      "Epoch 51/200\n",
      "629/629 - 2s - loss: 7566347776.0000 - 2s/epoch - 2ms/step\n",
      "Epoch 52/200\n",
      "629/629 - 2s - loss: 7574710272.0000 - 2s/epoch - 2ms/step\n",
      "Epoch 53/200\n",
      "629/629 - 2s - loss: 7532870656.0000 - 2s/epoch - 2ms/step\n",
      "Epoch 54/200\n",
      "629/629 - 1s - loss: 7494373888.0000 - 1s/epoch - 2ms/step\n",
      "Epoch 55/200\n",
      "629/629 - 1s - loss: 7548961280.0000 - 1s/epoch - 2ms/step\n",
      "Epoch 56/200\n",
      "629/629 - 1s - loss: 7548267520.0000 - 1s/epoch - 2ms/step\n",
      "Epoch 57/200\n",
      "629/629 - 2s - loss: 7582678528.0000 - 2s/epoch - 2ms/step\n",
      "Epoch 58/200\n",
      "629/629 - 1s - loss: 7545859072.0000 - 1s/epoch - 2ms/step\n",
      "Epoch 59/200\n",
      "629/629 - 2s - loss: 7545486848.0000 - 2s/epoch - 2ms/step\n",
      "Epoch 60/200\n",
      "629/629 - 1s - loss: 7537775104.0000 - 1s/epoch - 2ms/step\n",
      "Epoch 61/200\n",
      "629/629 - 2s - loss: 7544422400.0000 - 2s/epoch - 2ms/step\n",
      "Epoch 62/200\n",
      "629/629 - 1s - loss: 7550490624.0000 - 1s/epoch - 2ms/step\n",
      "Epoch 63/200\n",
      "629/629 - 2s - loss: 7549303296.0000 - 2s/epoch - 2ms/step\n",
      "Epoch 64/200\n",
      "629/629 - 2s - loss: 7525309440.0000 - 2s/epoch - 2ms/step\n",
      "Epoch 65/200\n",
      "629/629 - 2s - loss: 7566266880.0000 - 2s/epoch - 2ms/step\n",
      "Epoch 66/200\n",
      "629/629 - 2s - loss: 7476874752.0000 - 2s/epoch - 2ms/step\n",
      "Epoch 67/200\n",
      "629/629 - 2s - loss: 7554625536.0000 - 2s/epoch - 2ms/step\n",
      "Epoch 68/200\n",
      "629/629 - 2s - loss: 7545674752.0000 - 2s/epoch - 2ms/step\n",
      "Epoch 69/200\n",
      "629/629 - 2s - loss: 7530616832.0000 - 2s/epoch - 2ms/step\n",
      "Epoch 70/200\n",
      "629/629 - 2s - loss: 7553161728.0000 - 2s/epoch - 2ms/step\n",
      "Epoch 71/200\n",
      "629/629 - 2s - loss: 7506878464.0000 - 2s/epoch - 2ms/step\n",
      "Epoch 72/200\n",
      "629/629 - 1s - loss: 7539394048.0000 - 1s/epoch - 2ms/step\n",
      "Epoch 73/200\n",
      "629/629 - 2s - loss: 7538317312.0000 - 2s/epoch - 2ms/step\n",
      "Epoch 74/200\n",
      "629/629 - 2s - loss: 7543454720.0000 - 2s/epoch - 2ms/step\n",
      "Epoch 75/200\n",
      "629/629 - 2s - loss: 7526384640.0000 - 2s/epoch - 2ms/step\n",
      "Epoch 76/200\n",
      "629/629 - 1s - loss: 7545986560.0000 - 1s/epoch - 2ms/step\n",
      "Epoch 77/200\n",
      "629/629 - 2s - loss: 7542569984.0000 - 2s/epoch - 2ms/step\n",
      "Epoch 78/200\n",
      "629/629 - 2s - loss: 7545447936.0000 - 2s/epoch - 2ms/step\n",
      "Epoch 79/200\n",
      "629/629 - 2s - loss: 7565611008.0000 - 2s/epoch - 2ms/step\n",
      "Epoch 80/200\n",
      "629/629 - 2s - loss: 7539914752.0000 - 2s/epoch - 2ms/step\n",
      "Epoch 81/200\n",
      "629/629 - 2s - loss: 7524301312.0000 - 2s/epoch - 2ms/step\n",
      "Epoch 82/200\n",
      "629/629 - 1s - loss: 7535806464.0000 - 1s/epoch - 2ms/step\n",
      "Epoch 83/200\n",
      "629/629 - 1s - loss: 7554661376.0000 - 1s/epoch - 2ms/step\n",
      "Epoch 84/200\n",
      "629/629 - 2s - loss: 7541962752.0000 - 2s/epoch - 2ms/step\n",
      "Epoch 85/200\n",
      "629/629 - 1s - loss: 7547229696.0000 - 1s/epoch - 2ms/step\n",
      "Epoch 86/200\n",
      "629/629 - 1s - loss: 7562527232.0000 - 1s/epoch - 2ms/step\n",
      "Epoch 87/200\n",
      "629/629 - 1s - loss: 7551856640.0000 - 1s/epoch - 2ms/step\n",
      "Epoch 88/200\n",
      "629/629 - 1s - loss: 7560972288.0000 - 1s/epoch - 2ms/step\n",
      "Epoch 89/200\n",
      "629/629 - 1s - loss: 7551213056.0000 - 1s/epoch - 2ms/step\n",
      "Epoch 90/200\n",
      "629/629 - 1s - loss: 7499534848.0000 - 1s/epoch - 2ms/step\n",
      "Epoch 91/200\n",
      "629/629 - 2s - loss: 7543262208.0000 - 2s/epoch - 2ms/step\n",
      "Epoch 92/200\n",
      "629/629 - 2s - loss: 7563302912.0000 - 2s/epoch - 2ms/step\n",
      "Epoch 93/200\n",
      "629/629 - 2s - loss: 7519550464.0000 - 2s/epoch - 2ms/step\n",
      "Epoch 94/200\n",
      "629/629 - 2s - loss: 7515025920.0000 - 2s/epoch - 2ms/step\n",
      "Epoch 95/200\n",
      "629/629 - 2s - loss: 7522653696.0000 - 2s/epoch - 2ms/step\n",
      "Epoch 96/200\n",
      "629/629 - 2s - loss: 7539026432.0000 - 2s/epoch - 2ms/step\n",
      "Epoch 97/200\n",
      "629/629 - 2s - loss: 7527074816.0000 - 2s/epoch - 2ms/step\n",
      "Epoch 98/200\n",
      "629/629 - 2s - loss: 7496883712.0000 - 2s/epoch - 2ms/step\n",
      "Epoch 99/200\n",
      "629/629 - 2s - loss: 7555016704.0000 - 2s/epoch - 2ms/step\n",
      "Epoch 100/200\n",
      "629/629 - 2s - loss: 7542117888.0000 - 2s/epoch - 2ms/step\n",
      "Epoch 101/200\n",
      "629/629 - 2s - loss: 7567065088.0000 - 2s/epoch - 3ms/step\n",
      "Epoch 102/200\n",
      "629/629 - 2s - loss: 7550891520.0000 - 2s/epoch - 2ms/step\n",
      "Epoch 103/200\n",
      "629/629 - 2s - loss: 7524317184.0000 - 2s/epoch - 2ms/step\n",
      "Epoch 104/200\n",
      "629/629 - 2s - loss: 7536591360.0000 - 2s/epoch - 2ms/step\n",
      "Epoch 105/200\n",
      "629/629 - 2s - loss: 7545036288.0000 - 2s/epoch - 2ms/step\n",
      "Epoch 106/200\n",
      "629/629 - 1s - loss: 7497198080.0000 - 1s/epoch - 2ms/step\n",
      "Epoch 107/200\n",
      "629/629 - 2s - loss: 7554824704.0000 - 2s/epoch - 2ms/step\n",
      "Epoch 108/200\n",
      "629/629 - 2s - loss: 7554080768.0000 - 2s/epoch - 2ms/step\n",
      "Epoch 109/200\n",
      "629/629 - 2s - loss: 7582268928.0000 - 2s/epoch - 2ms/step\n",
      "Epoch 110/200\n",
      "629/629 - 2s - loss: 7532175872.0000 - 2s/epoch - 2ms/step\n",
      "Epoch 111/200\n",
      "629/629 - 2s - loss: 7562440192.0000 - 2s/epoch - 2ms/step\n",
      "Epoch 112/200\n",
      "629/629 - 2s - loss: 7547000320.0000 - 2s/epoch - 2ms/step\n",
      "Epoch 113/200\n",
      "629/629 - 2s - loss: 7492974080.0000 - 2s/epoch - 2ms/step\n",
      "Epoch 114/200\n",
      "629/629 - 2s - loss: 7561111552.0000 - 2s/epoch - 2ms/step\n"
     ]
    },
    {
     "name": "stdout",
     "output_type": "stream",
     "text": [
      "Epoch 115/200\n",
      "629/629 - 2s - loss: 7565471744.0000 - 2s/epoch - 2ms/step\n",
      "Epoch 116/200\n",
      "629/629 - 2s - loss: 7562579456.0000 - 2s/epoch - 3ms/step\n",
      "Epoch 117/200\n",
      "629/629 - 2s - loss: 7551458304.0000 - 2s/epoch - 2ms/step\n",
      "Epoch 118/200\n",
      "629/629 - 2s - loss: 7580190720.0000 - 2s/epoch - 3ms/step\n",
      "Epoch 119/200\n",
      "629/629 - 2s - loss: 7553456640.0000 - 2s/epoch - 2ms/step\n",
      "Epoch 120/200\n",
      "629/629 - 2s - loss: 7548702208.0000 - 2s/epoch - 3ms/step\n",
      "Epoch 121/200\n",
      "629/629 - 1s - loss: 7530082816.0000 - 1s/epoch - 2ms/step\n",
      "Epoch 122/200\n",
      "629/629 - 2s - loss: 7566064128.0000 - 2s/epoch - 2ms/step\n",
      "Epoch 123/200\n",
      "629/629 - 2s - loss: 7561574400.0000 - 2s/epoch - 2ms/step\n",
      "Epoch 124/200\n",
      "629/629 - 2s - loss: 7510500352.0000 - 2s/epoch - 2ms/step\n",
      "Epoch 125/200\n",
      "629/629 - 2s - loss: 7554005504.0000 - 2s/epoch - 2ms/step\n",
      "Epoch 126/200\n",
      "629/629 - 2s - loss: 7535081472.0000 - 2s/epoch - 3ms/step\n",
      "Epoch 127/200\n",
      "629/629 - 2s - loss: 7564379648.0000 - 2s/epoch - 2ms/step\n",
      "Epoch 128/200\n",
      "629/629 - 2s - loss: 7529616384.0000 - 2s/epoch - 2ms/step\n",
      "Epoch 129/200\n",
      "629/629 - 2s - loss: 7538862592.0000 - 2s/epoch - 2ms/step\n",
      "Epoch 130/200\n",
      "629/629 - 2s - loss: 7503348736.0000 - 2s/epoch - 2ms/step\n",
      "Epoch 131/200\n",
      "629/629 - 2s - loss: 7550839296.0000 - 2s/epoch - 3ms/step\n",
      "Epoch 132/200\n",
      "629/629 - 2s - loss: 7576257024.0000 - 2s/epoch - 3ms/step\n",
      "Epoch 133/200\n",
      "629/629 - 2s - loss: 7546149376.0000 - 2s/epoch - 3ms/step\n",
      "Epoch 134/200\n",
      "629/629 - 2s - loss: 7530232832.0000 - 2s/epoch - 2ms/step\n",
      "Epoch 135/200\n",
      "629/629 - 1s - loss: 7527638016.0000 - 1s/epoch - 2ms/step\n",
      "Epoch 136/200\n",
      "629/629 - 2s - loss: 7556926464.0000 - 2s/epoch - 2ms/step\n",
      "Epoch 137/200\n",
      "629/629 - 2s - loss: 7540263424.0000 - 2s/epoch - 2ms/step\n",
      "Epoch 138/200\n",
      "629/629 - 2s - loss: 7491461632.0000 - 2s/epoch - 2ms/step\n",
      "Epoch 139/200\n",
      "629/629 - 2s - loss: 7585547264.0000 - 2s/epoch - 2ms/step\n",
      "Epoch 140/200\n",
      "629/629 - 2s - loss: 7541757952.0000 - 2s/epoch - 2ms/step\n",
      "Epoch 141/200\n",
      "629/629 - 2s - loss: 7530182144.0000 - 2s/epoch - 2ms/step\n",
      "Epoch 142/200\n",
      "629/629 - 2s - loss: 7536546816.0000 - 2s/epoch - 3ms/step\n",
      "Epoch 143/200\n",
      "629/629 - 2s - loss: 7557068800.0000 - 2s/epoch - 2ms/step\n",
      "Epoch 144/200\n",
      "629/629 - 2s - loss: 7543398400.0000 - 2s/epoch - 2ms/step\n",
      "Epoch 145/200\n",
      "629/629 - 2s - loss: 7503833600.0000 - 2s/epoch - 2ms/step\n",
      "Epoch 146/200\n",
      "629/629 - 2s - loss: 7571831296.0000 - 2s/epoch - 2ms/step\n",
      "Epoch 147/200\n",
      "629/629 - 2s - loss: 7534415872.0000 - 2s/epoch - 2ms/step\n",
      "Epoch 148/200\n",
      "629/629 - 2s - loss: 7570247168.0000 - 2s/epoch - 2ms/step\n",
      "Epoch 149/200\n",
      "629/629 - 2s - loss: 7557673472.0000 - 2s/epoch - 2ms/step\n",
      "Epoch 150/200\n",
      "629/629 - 2s - loss: 7560715264.0000 - 2s/epoch - 2ms/step\n",
      "Epoch 151/200\n",
      "629/629 - 2s - loss: 7489755648.0000 - 2s/epoch - 2ms/step\n",
      "Epoch 152/200\n",
      "629/629 - 2s - loss: 7536837120.0000 - 2s/epoch - 2ms/step\n",
      "Epoch 153/200\n",
      "629/629 - 2s - loss: 7550049280.0000 - 2s/epoch - 2ms/step\n",
      "Epoch 154/200\n",
      "629/629 - 2s - loss: 7511013888.0000 - 2s/epoch - 2ms/step\n",
      "Epoch 155/200\n",
      "629/629 - 2s - loss: 7530647552.0000 - 2s/epoch - 2ms/step\n",
      "Epoch 156/200\n",
      "629/629 - 2s - loss: 7528705536.0000 - 2s/epoch - 2ms/step\n",
      "Epoch 157/200\n",
      "629/629 - 2s - loss: 7536407040.0000 - 2s/epoch - 2ms/step\n",
      "Epoch 158/200\n",
      "629/629 - 2s - loss: 7536734720.0000 - 2s/epoch - 2ms/step\n",
      "Epoch 159/200\n",
      "629/629 - 2s - loss: 7536403456.0000 - 2s/epoch - 2ms/step\n",
      "Epoch 160/200\n",
      "629/629 - 2s - loss: 7527626240.0000 - 2s/epoch - 2ms/step\n",
      "Epoch 161/200\n",
      "629/629 - 2s - loss: 7538988544.0000 - 2s/epoch - 2ms/step\n",
      "Epoch 162/200\n",
      "629/629 - 2s - loss: 7546064896.0000 - 2s/epoch - 2ms/step\n",
      "Epoch 163/200\n",
      "629/629 - 2s - loss: 7569481728.0000 - 2s/epoch - 2ms/step\n",
      "Epoch 164/200\n",
      "629/629 - 2s - loss: 7528361984.0000 - 2s/epoch - 2ms/step\n",
      "Epoch 165/200\n",
      "629/629 - 2s - loss: 7571622912.0000 - 2s/epoch - 2ms/step\n",
      "Epoch 166/200\n",
      "629/629 - 2s - loss: 7559343104.0000 - 2s/epoch - 2ms/step\n",
      "Epoch 167/200\n",
      "629/629 - 2s - loss: 7540267520.0000 - 2s/epoch - 2ms/step\n",
      "Epoch 168/200\n",
      "629/629 - 2s - loss: 7557550080.0000 - 2s/epoch - 2ms/step\n",
      "Epoch 169/200\n",
      "629/629 - 2s - loss: 7532909056.0000 - 2s/epoch - 2ms/step\n",
      "Epoch 170/200\n",
      "629/629 - 2s - loss: 7558196736.0000 - 2s/epoch - 2ms/step\n",
      "Epoch 171/200\n",
      "629/629 - 2s - loss: 7563707392.0000 - 2s/epoch - 2ms/step\n",
      "Epoch 172/200\n",
      "629/629 - 2s - loss: 7525774336.0000 - 2s/epoch - 2ms/step\n",
      "Epoch 173/200\n",
      "629/629 - 2s - loss: 7570762240.0000 - 2s/epoch - 2ms/step\n",
      "Epoch 174/200\n",
      "629/629 - 2s - loss: 7538808320.0000 - 2s/epoch - 2ms/step\n",
      "Epoch 175/200\n",
      "629/629 - 1s - loss: 7530444288.0000 - 1s/epoch - 2ms/step\n",
      "Epoch 176/200\n",
      "629/629 - 2s - loss: 7561303040.0000 - 2s/epoch - 2ms/step\n",
      "Epoch 177/200\n",
      "629/629 - 2s - loss: 7535980544.0000 - 2s/epoch - 2ms/step\n",
      "Epoch 178/200\n",
      "629/629 - 1s - loss: 7499989504.0000 - 1s/epoch - 2ms/step\n",
      "Epoch 179/200\n",
      "629/629 - 2s - loss: 7528432640.0000 - 2s/epoch - 2ms/step\n",
      "Epoch 180/200\n",
      "629/629 - 2s - loss: 7562184192.0000 - 2s/epoch - 2ms/step\n",
      "Epoch 181/200\n",
      "629/629 - 2s - loss: 7528063488.0000 - 2s/epoch - 2ms/step\n",
      "Epoch 182/200\n",
      "629/629 - 2s - loss: 7542766080.0000 - 2s/epoch - 2ms/step\n",
      "Epoch 183/200\n",
      "629/629 - 2s - loss: 7551694336.0000 - 2s/epoch - 2ms/step\n",
      "Epoch 184/200\n",
      "629/629 - 2s - loss: 7554587136.0000 - 2s/epoch - 2ms/step\n",
      "Epoch 185/200\n",
      "629/629 - 1s - loss: 7523164672.0000 - 1s/epoch - 2ms/step\n",
      "Epoch 186/200\n",
      "629/629 - 2s - loss: 7538614272.0000 - 2s/epoch - 2ms/step\n",
      "Epoch 187/200\n",
      "629/629 - 2s - loss: 7540581888.0000 - 2s/epoch - 2ms/step\n",
      "Epoch 188/200\n",
      "629/629 - 2s - loss: 7543838720.0000 - 2s/epoch - 2ms/step\n",
      "Epoch 189/200\n",
      "629/629 - 2s - loss: 7527691264.0000 - 2s/epoch - 2ms/step\n",
      "Epoch 190/200\n",
      "629/629 - 1s - loss: 7540853248.0000 - 1s/epoch - 2ms/step\n",
      "Epoch 191/200\n",
      "629/629 - 2s - loss: 7523596800.0000 - 2s/epoch - 2ms/step\n",
      "Epoch 192/200\n",
      "629/629 - 2s - loss: 7538753536.0000 - 2s/epoch - 2ms/step\n",
      "Epoch 193/200\n",
      "629/629 - 2s - loss: 7538040832.0000 - 2s/epoch - 2ms/step\n",
      "Epoch 194/200\n",
      "629/629 - 2s - loss: 7528481792.0000 - 2s/epoch - 2ms/step\n",
      "Epoch 195/200\n",
      "629/629 - 2s - loss: 7528880128.0000 - 2s/epoch - 2ms/step\n",
      "Epoch 196/200\n",
      "629/629 - 2s - loss: 7550623744.0000 - 2s/epoch - 2ms/step\n",
      "Epoch 197/200\n",
      "629/629 - 2s - loss: 7524472320.0000 - 2s/epoch - 2ms/step\n",
      "Epoch 198/200\n",
      "629/629 - 2s - loss: 7545498624.0000 - 2s/epoch - 2ms/step\n",
      "Epoch 199/200\n",
      "629/629 - 2s - loss: 7543248896.0000 - 2s/epoch - 2ms/step\n",
      "Epoch 200/200\n",
      "629/629 - 2s - loss: 7511184384.0000 - 2s/epoch - 2ms/step\n"
     ]
    },
    {
     "data": {
      "text/plain": [
       "<keras.callbacks.History at 0xd3ce5465e0>"
      ]
     },
     "execution_count": 14,
     "metadata": {},
     "output_type": "execute_result"
    }
   ],
   "source": [
    "model = Sequential()\n",
    "model.add(Dense(8, input_dim=look_back, activation='relu'))\n",
    "model.add(Dense(1))\n",
    "model.compile(loss='mean_squared_error', optimizer='adam')\n",
    "model.fit(trainX, trainY, epochs=200, batch_size=2, verbose=2)"
   ]
  },
  {
   "cell_type": "markdown",
   "metadata": {},
   "source": [
    "### "
   ]
  },
  {
   "cell_type": "code",
   "execution_count": 16,
   "metadata": {},
   "outputs": [
    {
     "name": "stdout",
     "output_type": "stream",
     "text": [
      "Train Score: 7544227328.00 MSE (86857.51 RMSE)\n",
      "Test Score: 13193974784.00 MSE (114865.03 RMSE)\n"
     ]
    }
   ],
   "source": [
    "trainScore = model.evaluate(trainX, trainY, verbose=0)\n",
    "print('Train Score: %.2f MSE (%.2f RMSE)' % (trainScore, math.sqrt(trainScore)))\n",
    "testScore = model.evaluate(testX, testY, verbose=0)\n",
    "print('Test Score: %.2f MSE (%.2f RMSE)' % (testScore, math.sqrt(testScore)))"
   ]
  },
  {
   "cell_type": "code",
   "execution_count": 17,
   "metadata": {},
   "outputs": [
    {
     "data": {
      "image/png": "[encoded data removed]",
      "text/plain": [
       "<Figure size 432x288 with 1 Axes>"
      ]
     },
     "metadata": {
      "needs_background": "light"
     },
     "output_type": "display_data"
    },
    {
     "data": {
      "image/png": "[encoded data removed]",
      "text/plain": [
       "<Figure size 432x288 with 1 Axes>"
      ]
     },
     "metadata": {
      "needs_background": "light"
     },
     "output_type": "display_data"
    },
    {
     "data": {
      "image/png": "[encoded data removed]",
      "text/plain": [
       "<Figure size 432x288 with 1 Axes>"
      ]
     },
     "metadata": {
      "needs_background": "light"
     },
     "output_type": "display_data"
    }
   ],
   "source": [
    "trainPredict = model.predict(trainX)\n",
    "testPredict = model.predict(testX)\n",
    " \n",
    "trainPredictPlot = numpy.empty_like(train)\n",
    "trainPredictPlot[:, :] = numpy.nan\n",
    "trainPredictPlot[look_back:len(trainPredict)+look_back, :] = trainPredict\n",
    " \n",
    "testPredictPlot = numpy.empty_like(train)\n",
    "testPredictPlot[:, :] = numpy.nan\n",
    "testPredictPlot[len(trainPredict)+(look_back*2)+1:len(train)-1, :] = testPredict\n",
    " \n",
    "plt.plot(train)\n",
    "plt.show()\n",
    "plt.plot(trainPredictPlot)\n",
    "plt.plot(testPredictPlot)\n",
    "plt.show()\n",
    "plt.plot(train)\n",
    "plt.plot(trainPredictPlot)\n",
    "plt.plot(testPredictPlot)\n",
    "plt.show()\n"
   ]
  },
  {
   "cell_type": "markdown",
   "metadata": {},
   "source": [
    "The average error in the training data is 86.857 units and the averrage in the test data is 114.865 units sold per day"
   ]
  },
  {
   "cell_type": "markdown",
   "metadata": {},
   "source": [
    "**сеть:  LSTM слои+Conv1D +Dense слой.**"
   ]
  },
  {
   "cell_type": "code",
   "execution_count": null,
   "metadata": {},
   "outputs": [],
   "source": [
    "callbaсk = EarlyStopping(monitor='val_mae', patience=2)\n",
    "\n",
    "model = Sequential()\n",
    "\n",
    "model.add(LSTM(64, input_shape = (inputs.shape[1], inputs.shape[2]), return_sequences=\"True\"))\n",
    "model.add(LSTM(64, return_sequences=\"True\")) # <None, 3,32>\n",
    "model.add(Conv1D(64, 3, activation=\"linear\")) #(None,3,64)\n",
    "#model.add(Conv1D(64, 1, activation=\"linear\"))\n",
    "model.add(Flatten())                          # (None, 3*64)\n",
    "model.add(Dense(3, activation=\"linear\"))      # (None,3)\n",
    "\n",
    "model.add(Dense(1, activation=\"linear\"))\n",
    "\n",
    "model.compile(loss=\"mse\", optimizer=\"adam\", metrics=['mae'])\n",
    "\n",
    "history = model.fit(\n",
    "    dataset_train,\n",
    "    epochs=epochs,\n",
    "    validation_data=dataset_val,\n",
    "    callbacks=[callbaсk, tensorboard_callback])\n",
    "\n",
    "\n",
    "plt.plot(history.history['mae'][1:], \n",
    "         label='Средняя абсолютная ошибка на обучающем наборе')\n",
    "plt.plot(history.history['val_mae'][1:], \n",
    "         label='Средняя абсолютная ошибка на проверочном наборе')\n",
    "plt.ylabel('Средняя ошибка')\n",
    "plt.legend()\n",
    "plt.show()"
   ]
  },
  {
   "cell_type": "code",
   "execution_count": null,
   "metadata": {},
   "outputs": [],
   "source": [
    "\n",
    "\n",
    "\n"
   ]
  },
  {
   "cell_type": "code",
   "execution_count": null,
   "metadata": {},
   "outputs": [],
   "source": []
  },
  {
   "cell_type": "code",
   "execution_count": null,
   "metadata": {},
   "outputs": [],
   "source": []
  },
  {
   "cell_type": "markdown",
   "metadata": {},
   "source": [
    "Все параметры класса RNN<br>\n",
    "Приведём список всех параметров класса RNN в фреймворке PyTorch:<br>\n",
    "nn.RNN<br>\n",
    "__… (input_size, hidden_size, num_layers=1, nonlinearity='tanh', bias=True, … batch_first=False, dropout=0, bidirectional=False) [doc]__\n",
    "\n",
    "Отметим не упомянутый ранее параметр dropout. По умолчанию он равен нулю. При ненулевом значении, после каждого слоя (num_layers > 1), кроме последнего, вставляется слой dropout, который с вероятностью dropout случайно \"отключает\" (делает нулевыми) часть элементов тензоров на выходах каждой ячейке.\n",
    "\n",
    "Установка параметра bias в значение False ликвидирует вектор смещения после перемножения матриц."
   ]
  },
  {
   "cell_type": "code",
   "execution_count": null,
   "metadata": {},
   "outputs": [],
   "source": [
    "https://qudata.com/ml/ru/NN_RNN_Torch.html - ML: Рекуррентные сети на PyTorch"
   ]
  }
 ],
 "metadata": {
  "kernelspec": {
   "display_name": "Python 3.8 (causalml)",
   "language": "python",
   "name": "causalml-py38"
  },
  "language_info": {
   "codemirror_mode": {
    "name": "ipython",
    "version": 3
   },
   "file_extension": ".py",
   "mimetype": "text/x-python",
   "name": "python",
   "nbconvert_exporter": "python",
   "pygments_lexer": "ipython3",
   "version": "3.8.5"
  }
 },
 "nbformat": 4,
 "nbformat_minor": 4
}
