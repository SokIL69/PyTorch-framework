{
 "cells": [
  {
   "cell_type": "markdown",
   "metadata": {},
   "source": [
    "# Фреймворк PyTorch для разработки искусственных нейронных сетей\n",
    "# Урок 5. Рекурентные сети для обработки последовательностей"
   ]
  },
  {
   "cell_type": "markdown",
   "metadata": {},
   "source": [
    "# <font color='red'>Практическое задание</font>"
   ]
  },
  {
   "cell_type": "markdown",
   "metadata": {},
   "source": [
    "- Обучить GRU, LSTM для предсказания временного ряда на примере https://www.kaggle.com/c/favorita-grocery-sales-forecasting (для каждого типа продуктов)"
   ]
  },
  {
   "cell_type": "markdown",
   "metadata": {},
   "source": [
    "Выполнил ___Соковнин ИЛ___"
   ]
  },
  {
   "cell_type": "markdown",
   "metadata": {},
   "source": [
    "## Набор данных и определение проблемы"
   ]
  },
  {
   "cell_type": "code",
   "execution_count": null,
   "metadata": {},
   "outputs": [],
   "source": [
    "import torch\n",
    "import torch.nn as nn\n",
    "\n",
    "import seaborn as sns\n",
    "import numpy as np  # linear algebra\n",
    "import pandas as pd  # data processing, CSV file I/O (e.g. pd.read_csv)\n",
    "import matplotlib.pyplot as plt\n",
    "%matplotlib inline"
   ]
  },
  {
   "cell_type": "code",
   "execution_count": 1,
   "metadata": {},
   "outputs": [
    {
     "name": "stdout",
     "output_type": "stream",
     "text": [
      ".\\data\\\n"
     ]
    }
   ],
   "source": [
    "import os, sys\n",
    "\n",
    "PATH_DATA = '.\\\\data\\\\'\n",
    "print(PATH_DATA)"
   ]
  },
  {
   "cell_type": "code",
   "execution_count": null,
   "metadata": {},
   "outputs": [],
   "source": [
    "%%time\n",
    "\n",
    "train = pd.read_csv(PATH_DATA + \"train.csv\", sep=\",\")\n",
    "print(train.shape)\n",
    "# train = train.set_index('id')\n",
    "train.head(3)"
   ]
  },
  {
   "cell_type": "code",
   "execution_count": null,
   "metadata": {},
   "outputs": [],
   "source": [
    "train.info()"
   ]
  },
  {
   "cell_type": "code",
   "execution_count": 3,
   "metadata": {},
   "outputs": [],
   "source": [
    "# функция для оптимизации использования памяти\n",
    "def reduce_memory(df): \n",
    "    \"\"\"Снижает размерности строк\"\"\"\n",
    "\n",
    "    float_cols = df.select_dtypes(include=['float']).columns\n",
    "    int_cols = df.select_dtypes(include=['int64']).columns\n",
    "    \n",
    "    df[float_cols] = df[float_cols].astype('float32')\n",
    "    df[int_cols] = df[int_cols].astype('int32')\n",
    "    \n",
    "    return df"
   ]
  },
  {
   "cell_type": "code",
   "execution_count": 4,
   "metadata": {},
   "outputs": [],
   "source": [
    "reduce_memory(train)\n",
    "train.info()"
   ]
  },
  {
   "cell_type": "code",
   "execution_count": null,
   "metadata": {},
   "outputs": [],
   "source": [
    "train_dt = train[['date', 'store_nbr', 'unit_sales']]\n",
    "train_dt.info()\n",
    "# train_dt.info(memory_usage='deep')\n",
    "train_dt.head(3)"
   ]
  },
  {
   "cell_type": "code",
   "execution_count": null,
   "metadata": {},
   "outputs": [],
   "source": [
    "%%time\n",
    "\n",
    "train_dt.to_csv(PATH_DATA + 'train_dt.csv', index=False) "
   ]
  },
  {
   "cell_type": "code",
   "execution_count": null,
   "metadata": {},
   "outputs": [],
   "source": [
    "# del (train_dt)\n",
    "# del(train)\n",
    "\n",
    "# Освобождаем память\n",
    "import gc\n",
    "gc.collect()\n",
    "gc.collect() # два раза подряд, для надёжности"
   ]
  },
  {
   "cell_type": "code",
   "execution_count": 2,
   "metadata": {},
   "outputs": [
    {
     "name": "stdout",
     "output_type": "stream",
     "text": [
      "(125497040, 3)\n",
      "<class 'pandas.core.frame.DataFrame'>\n",
      "RangeIndex: 125497040 entries, 0 to 125497039\n",
      "Data columns (total 3 columns):\n",
      " #   Column      Dtype  \n",
      "---  ------      -----  \n",
      " 0   date        object \n",
      " 1   store_nbr   int64  \n",
      " 2   unit_sales  float64\n",
      "dtypes: float64(1), int64(1), object(1)\n",
      "memory usage: 2.8+ GB\n",
      "Wall time: 33.2 s\n"
     ]
    },
    {
     "data": {
      "text/html": [
       "<div>\n",
       "<style scoped>\n",
       "    .dataframe tbody tr th:only-of-type {\n",
       "        vertical-align: middle;\n",
       "    }\n",
       "\n",
       "    .dataframe tbody tr th {\n",
       "        vertical-align: top;\n",
       "    }\n",
       "\n",
       "    .dataframe thead th {\n",
       "        text-align: right;\n",
       "    }\n",
       "</style>\n",
       "<table border=\"1\" class=\"dataframe\">\n",
       "  <thead>\n",
       "    <tr style=\"text-align: right;\">\n",
       "      <th></th>\n",
       "      <th>date</th>\n",
       "      <th>store_nbr</th>\n",
       "      <th>unit_sales</th>\n",
       "    </tr>\n",
       "  </thead>\n",
       "  <tbody>\n",
       "    <tr>\n",
       "      <th>0</th>\n",
       "      <td>2013-01-01</td>\n",
       "      <td>25</td>\n",
       "      <td>7.0</td>\n",
       "    </tr>\n",
       "    <tr>\n",
       "      <th>1</th>\n",
       "      <td>2013-01-01</td>\n",
       "      <td>25</td>\n",
       "      <td>1.0</td>\n",
       "    </tr>\n",
       "    <tr>\n",
       "      <th>2</th>\n",
       "      <td>2013-01-01</td>\n",
       "      <td>25</td>\n",
       "      <td>2.0</td>\n",
       "    </tr>\n",
       "  </tbody>\n",
       "</table>\n",
       "</div>"
      ],
      "text/plain": [
       "         date  store_nbr  unit_sales\n",
       "0  2013-01-01         25         7.0\n",
       "1  2013-01-01         25         1.0\n",
       "2  2013-01-01         25         2.0"
      ]
     },
     "execution_count": 2,
     "metadata": {},
     "output_type": "execute_result"
    }
   ],
   "source": [
    "%%time\n",
    "\n",
    "train_dt = pd.read_csv(PATH_DATA + \"train_dt.csv\", sep=\",\")\n",
    "print(train_dt.shape)\n",
    "train_dt.info()\n",
    "train_dt.head(3)"
   ]
  },
  {
   "cell_type": "markdown",
   "metadata": {},
   "source": [
    "### Data processing\n",
    "Subseting, join and aggregating data"
   ]
  },
  {
   "cell_type": "code",
   "execution_count": 6,
   "metadata": {},
   "outputs": [],
   "source": [
    "stores = pd.read_csv(PATH_DATA + \"stores.csv\") "
   ]
  },
  {
   "cell_type": "code",
   "execution_count": 9,
   "metadata": {},
   "outputs": [
    {
     "name": "stdout",
     "output_type": "stream",
     "text": [
      "Wall time: 125 ms\n"
     ]
    }
   ],
   "source": [
    "%%time\n",
    "\n",
    "t=train_dt.groupby(['store_nbr','date'], as_index=False).agg({\"unit_sales\": \"sum\"})\n",
    "train = pd.merge(t, stores, how='left', on=['store_nbr'])\n",
    "mask=train['state']=='Pichincha'\n",
    "train=train.loc[mask]\n",
    "train=train.groupby(['date'], as_index=False).agg({\"unit_sales\": \"sum\"})"
   ]
  },
  {
   "cell_type": "markdown",
   "metadata": {},
   "source": [
    "### Sales for Pichincha state (train data)"
   ]
  },
  {
   "cell_type": "code",
   "execution_count": 23,
   "metadata": {},
   "outputs": [
    {
     "name": "stdout",
     "output_type": "stream",
     "text": [
      "(1679, 2)\n",
      "<class 'pandas.core.frame.DataFrame'>\n",
      "Int64Index: 1679 entries, 0 to 1678\n",
      "Data columns (total 2 columns):\n",
      " #   Column      Non-Null Count  Dtype  \n",
      "---  ------      --------------  -----  \n",
      " 0   date        1679 non-null   object \n",
      " 1   unit_sales  1679 non-null   float32\n",
      "dtypes: float32(1), object(1)\n",
      "memory usage: 32.8+ KB\n"
     ]
    },
    {
     "data": {
      "text/html": [
       "<div>\n",
       "<style scoped>\n",
       "    .dataframe tbody tr th:only-of-type {\n",
       "        vertical-align: middle;\n",
       "    }\n",
       "\n",
       "    .dataframe tbody tr th {\n",
       "        vertical-align: top;\n",
       "    }\n",
       "\n",
       "    .dataframe thead th {\n",
       "        text-align: right;\n",
       "    }\n",
       "</style>\n",
       "<table border=\"1\" class=\"dataframe\">\n",
       "  <thead>\n",
       "    <tr style=\"text-align: right;\">\n",
       "      <th></th>\n",
       "      <th>date</th>\n",
       "      <th>unit_sales</th>\n",
       "    </tr>\n",
       "  </thead>\n",
       "  <tbody>\n",
       "    <tr>\n",
       "      <th>1667</th>\n",
       "      <td>2017-08-04</td>\n",
       "      <td>425713.15625</td>\n",
       "    </tr>\n",
       "    <tr>\n",
       "      <th>1668</th>\n",
       "      <td>2017-08-05</td>\n",
       "      <td>500614.56250</td>\n",
       "    </tr>\n",
       "    <tr>\n",
       "      <th>1669</th>\n",
       "      <td>2017-08-06</td>\n",
       "      <td>547592.12500</td>\n",
       "    </tr>\n",
       "    <tr>\n",
       "      <th>1670</th>\n",
       "      <td>2017-08-07</td>\n",
       "      <td>396073.43750</td>\n",
       "    </tr>\n",
       "    <tr>\n",
       "      <th>1671</th>\n",
       "      <td>2017-08-08</td>\n",
       "      <td>347288.25000</td>\n",
       "    </tr>\n",
       "    <tr>\n",
       "      <th>1672</th>\n",
       "      <td>2017-08-09</td>\n",
       "      <td>367813.87500</td>\n",
       "    </tr>\n",
       "    <tr>\n",
       "      <th>1673</th>\n",
       "      <td>2017-08-10</td>\n",
       "      <td>315940.31250</td>\n",
       "    </tr>\n",
       "    <tr>\n",
       "      <th>1674</th>\n",
       "      <td>2017-08-11</td>\n",
       "      <td>406504.40625</td>\n",
       "    </tr>\n",
       "    <tr>\n",
       "      <th>1675</th>\n",
       "      <td>2017-08-12</td>\n",
       "      <td>389945.59375</td>\n",
       "    </tr>\n",
       "    <tr>\n",
       "      <th>1676</th>\n",
       "      <td>2017-08-13</td>\n",
       "      <td>438714.53125</td>\n",
       "    </tr>\n",
       "    <tr>\n",
       "      <th>1677</th>\n",
       "      <td>2017-08-14</td>\n",
       "      <td>377126.43750</td>\n",
       "    </tr>\n",
       "    <tr>\n",
       "      <th>1678</th>\n",
       "      <td>2017-08-15</td>\n",
       "      <td>363382.59375</td>\n",
       "    </tr>\n",
       "  </tbody>\n",
       "</table>\n",
       "</div>"
      ],
      "text/plain": [
       "            date    unit_sales\n",
       "1667  2017-08-04  425713.15625\n",
       "1668  2017-08-05  500614.56250\n",
       "1669  2017-08-06  547592.12500\n",
       "1670  2017-08-07  396073.43750\n",
       "1671  2017-08-08  347288.25000\n",
       "1672  2017-08-09  367813.87500\n",
       "1673  2017-08-10  315940.31250\n",
       "1674  2017-08-11  406504.40625\n",
       "1675  2017-08-12  389945.59375\n",
       "1676  2017-08-13  438714.53125\n",
       "1677  2017-08-14  377126.43750\n",
       "1678  2017-08-15  363382.59375"
      ]
     },
     "execution_count": 23,
     "metadata": {},
     "output_type": "execute_result"
    }
   ],
   "source": [
    "print(train.shape)\n",
    "train.info()\n",
    "train.tail(12)"
   ]
  },
  {
   "cell_type": "code",
   "execution_count": 24,
   "metadata": {},
   "outputs": [
    {
     "data": {
      "image/png": "[encoded data removed]",
      "text/plain": [
       "<Figure size 432x288 with 1 Axes>"
      ]
     },
     "metadata": {
      "needs_background": "light"
     },
     "output_type": "display_data"
    }
   ],
   "source": [
    "import matplotlib.pyplot as plt\n",
    "\n",
    "plt.plot(train['unit_sales'])\n",
    "plt.show()"
   ]
  },
  {
   "cell_type": "markdown",
   "metadata": {},
   "source": [
    "There is a trend over time especially for the 2015 year, by 2015 and 2016 the slope gets lower and loses trend. It’s easy to recognize how the sales increasing over the last quarters."
   ]
  },
  {
   "cell_type": "code",
   "execution_count": 25,
   "metadata": {},
   "outputs": [],
   "source": [
    "# Сохраняем результат в файл\n",
    "train.to_csv(PATH_DATA + 'train_data.csv', index=False) "
   ]
  },
  {
   "cell_type": "markdown",
   "metadata": {},
   "source": [
    "# \n",
    "### Задача состоит в том, чтобы предсказать продажи, k дней, исходя из первых n дней."
   ]
  },
  {
   "cell_type": "markdown",
   "metadata": {},
   "source": [
    "# "
   ]
  },
  {
   "cell_type": "markdown",
   "metadata": {},
   "source": [
    "# Решение - 1"
   ]
  },
  {
   "cell_type": "markdown",
   "metadata": {},
   "source": [
    "При выполниении Д/З использовалась статья:<br>\n",
    "Прогнозирование временных рядов с LSTM в Python - https://pythobyte.com/time-series-prediction-using-lstm-with-pytorch-in-python-521ce3ed/"
   ]
  },
  {
   "cell_type": "markdown",
   "metadata": {},
   "source": [
    "### Загрузка подготовленных данных"
   ]
  },
  {
   "cell_type": "code",
   "execution_count": 36,
   "metadata": {},
   "outputs": [
    {
     "name": "stdout",
     "output_type": "stream",
     "text": [
      "(1679, 2)\n",
      "<class 'pandas.core.frame.DataFrame'>\n",
      "RangeIndex: 1679 entries, 0 to 1678\n",
      "Data columns (total 2 columns):\n",
      " #   Column      Non-Null Count  Dtype  \n",
      "---  ------      --------------  -----  \n",
      " 0   date        1679 non-null   object \n",
      " 1   unit_sales  1679 non-null   float64\n",
      "dtypes: float64(1), object(1)\n",
      "memory usage: 26.4+ KB\n"
     ]
    },
    {
     "data": {
      "text/html": [
       "<div>\n",
       "<style scoped>\n",
       "    .dataframe tbody tr th:only-of-type {\n",
       "        vertical-align: middle;\n",
       "    }\n",
       "\n",
       "    .dataframe tbody tr th {\n",
       "        vertical-align: top;\n",
       "    }\n",
       "\n",
       "    .dataframe thead th {\n",
       "        text-align: right;\n",
       "    }\n",
       "</style>\n",
       "<table border=\"1\" class=\"dataframe\">\n",
       "  <thead>\n",
       "    <tr style=\"text-align: right;\">\n",
       "      <th></th>\n",
       "      <th>date</th>\n",
       "      <th>unit_sales</th>\n",
       "    </tr>\n",
       "  </thead>\n",
       "  <tbody>\n",
       "    <tr>\n",
       "      <th>0</th>\n",
       "      <td>2013-01-02</td>\n",
       "      <td>295729.00</td>\n",
       "    </tr>\n",
       "    <tr>\n",
       "      <th>1</th>\n",
       "      <td>2013-01-03</td>\n",
       "      <td>203589.56</td>\n",
       "    </tr>\n",
       "    <tr>\n",
       "      <th>2</th>\n",
       "      <td>2013-01-04</td>\n",
       "      <td>203090.77</td>\n",
       "    </tr>\n",
       "  </tbody>\n",
       "</table>\n",
       "</div>"
      ],
      "text/plain": [
       "         date  unit_sales\n",
       "0  2013-01-02   295729.00\n",
       "1  2013-01-03   203589.56\n",
       "2  2013-01-04   203090.77"
      ]
     },
     "execution_count": 36,
     "metadata": {},
     "output_type": "execute_result"
    }
   ],
   "source": [
    "data_df = pd.read_csv(PATH_DATA + \"train_data.csv\", sep=\",\")\n",
    "print(data_df.shape)\n",
    "data_df.info()\n",
    "data_df.head(3)"
   ]
  },
  {
   "cell_type": "markdown",
   "metadata": {},
   "source": [
    "Задача состоит в том, чтобы предсказать продажи, k дней, исходя из первых n дней."
   ]
  },
  {
   "cell_type": "code",
   "execution_count": 56,
   "metadata": {},
   "outputs": [
    {
     "data": {
      "text/plain": [
       "[<matplotlib.lines.Line2D at 0xd3d88faac0>]"
      ]
     },
     "execution_count": 56,
     "metadata": {},
     "output_type": "execute_result"
    },
    {
     "data": {
      "image/png": "[encoded data removed]",
      "text/plain": [
       "<Figure size 432x288 with 1 Axes>"
      ]
     },
     "metadata": {
      "needs_background": "light"
     },
     "output_type": "display_data"
    }
   ],
   "source": [
    "plt.title('Day vs unit_sales (stores.csv -> state==''Pichincha'')')\n",
    "plt.ylabel('Total unit_sales')\n",
    "plt.xlabel('Days')\n",
    "plt.grid(True)\n",
    "plt.autoscale(axis='x',tight=True)\n",
    "plt.plot(data_df['unit_sales'])\n",
    "\n",
    "# Период: [2013-01-02, 2017-08-15]\n",
    "# stores.csv-> 'state'=='Pichincha'"
   ]
  },
  {
   "cell_type": "markdown",
   "metadata": {},
   "source": [
    "Вывод показывает, что со временем среднее количество продаж, увеличилось. Количество продаж в течение года, колеблется."
   ]
  },
  {
   "cell_type": "code",
   "execution_count": 38,
   "metadata": {},
   "outputs": [
    {
     "data": {
      "text/plain": [
       "(0    2013-01-02\n",
       " Name: date, dtype: object,\n",
       " 1678    2017-08-15\n",
       " Name: date, dtype: object)"
      ]
     },
     "execution_count": 38,
     "metadata": {},
     "output_type": "execute_result"
    }
   ],
   "source": [
    "data_df['date'].head(1), data_df['date'].tail(1)"
   ]
  },
  {
   "cell_type": "code",
   "execution_count": 39,
   "metadata": {},
   "outputs": [
    {
     "data": {
      "text/plain": [
       "(0    295729.0\n",
       " Name: unit_sales, dtype: float64,)"
      ]
     },
     "execution_count": 39,
     "metadata": {},
     "output_type": "execute_result"
    }
   ],
   "source": [
    "data_df['unit_sales'].head(1),"
   ]
  },
  {
   "cell_type": "code",
   "execution_count": 40,
   "metadata": {},
   "outputs": [
    {
     "data": {
      "text/plain": [
       "(1679, 2)"
      ]
     },
     "execution_count": 40,
     "metadata": {},
     "output_type": "execute_result"
    }
   ],
   "source": [
    "data_df.shape"
   ]
  },
  {
   "cell_type": "code",
   "execution_count": 41,
   "metadata": {},
   "outputs": [
    {
     "data": {
      "text/plain": [
       "Index(['date', 'unit_sales'], dtype='object')"
      ]
     },
     "execution_count": 41,
     "metadata": {},
     "output_type": "execute_result"
    }
   ],
   "source": [
    "data_df.columns"
   ]
  },
  {
   "cell_type": "code",
   "execution_count": 45,
   "metadata": {},
   "outputs": [
    {
     "name": "stdout",
     "output_type": "stream",
     "text": [
      "1679\n",
      "[295729.   203589.56 203090.77 ... 438714.53 377126.44 363382.6 ]\n"
     ]
    }
   ],
   "source": [
    "all_data = data_df['unit_sales'].values.astype(float)\n",
    "print(len(all_data))\n",
    "print(all_data)"
   ]
  },
  {
   "cell_type": "markdown",
   "metadata": {},
   "source": [
    "Далее мы разделим наш набор данных на обучающие и тестовые наборы. Алгоритм LSTM будет обучаться на обучающем наборе. Затем модель будет использоваться для составления прогнозов на тестовом наборе. Прогнозы будут сравниваться с фактическими значениями в тестовом наборе для оценки производительности обученной модели."
   ]
  },
  {
   "cell_type": "markdown",
   "metadata": {},
   "source": [
    "Первые 1179 записи будут использоваться для обучения модели, а последние 500 записей будут использоваться в качестве тестового набора. Следующий сценарий делит данные на обучающие и тестовые наборы."
   ]
  },
  {
   "cell_type": "markdown",
   "metadata": {},
   "source": [
    "#### Рзделил на train и test"
   ]
  },
  {
   "cell_type": "code",
   "execution_count": 46,
   "metadata": {},
   "outputs": [
    {
     "name": "stdout",
     "output_type": "stream",
     "text": [
      "1179\n",
      "500\n"
     ]
    }
   ],
   "source": [
    "test_data_size = 500\n",
    "\n",
    "train_data = all_data[:-test_data_size]\n",
    "test_data = all_data[-test_data_size:]\n",
    "print(len(train_data))\n",
    "print(len(test_data))"
   ]
  },
  {
   "cell_type": "code",
   "execution_count": 47,
   "metadata": {},
   "outputs": [
    {
     "name": "stdout",
     "output_type": "stream",
     "text": [
      "[463464.44 662771.7  777635.6  432228.84 379148.5  408562.4  315344.3\n",
      " 379869.22 525681.7  615886.7  361546.75 346025.97 365172.22 286234.47\n",
      " 360473.7  485494.7  758259.1  733211.44 598701.94 574309.44 607436.5\n",
      " 455092.47 566246.06 607025.3  360556.84 395416.12 367973.34 282274.84\n",
      " 382455.6  588470.2  726919.8  576447.8  410174.12 436490.8  336640.72\n",
      " 412194.03 583969.56 430678.62 407555.06 341508.56 396695.16 327221.53\n",
      " 357535.9  505352.3  591819.7  392385.44 334703.4  376803.2  302710.72\n",
      " 383055.9  492384.97 570427.56 371079.28 298319.9  343448.9  300307.38\n",
      " 467630.97 434441.28 529404.56 405086.6  505375.12 438254.8  366658.94\n",
      " 405301.44 548177.75 626164.5  398302.34 339516.12 379247.56 289516.16\n",
      " 352132.06 456281.03 516675.97 373675.47 312857.   375318.47 323141.56\n",
      " 418650.4  530918.4  448298.   384105.88 339030.47 362372.9  293393.9\n",
      " 350778.4  470979.47 527770.75 374150.75 304862.3  340076.1  286655.62\n",
      " 461741.25 572743.44 608798.56 466160.44 377913.47 410742.7  313421.22\n",
      " 383011.3  465985.66 500112.28 359535.84 320359.03 347832.47 277695.56\n",
      " 361476.   468647.   493292.88 362288.12 319602.28 365259.8  308444.06\n",
      " 354514.62 432444.7  471421.72 354865.16 304890.97 349297.38 277917.6\n",
      " 356431.6  473099.4  527954.8  466867.88 394504.8  419023.25 328737.88\n",
      " 385499.25 453629.66 480067.   372139.97 314227.84 350280.4  310392.84\n",
      " 392851.78 365451.3  396912.6  364645.88 369110.06 383001.78 291589.3\n",
      " 360458.12 441714.9  473626.2  374471.38 334228.   357303.8  289464.56\n",
      " 354701.28 419565.34 465837.   348012.9  315536.5  387690.44 358075.\n",
      " 467590.12 586909.56 616427.25 441514.03 398499.22 417547.3  325860.97\n",
      " 368710.3  522037.94 592226.5  359018.38 305653.3  341224.72 293501.22\n",
      " 375220.56 505287.72 583639.44 362657.12 336675.56 368436.12 277358.06\n",
      " 367296.   484823.44 549001.3  353791.1  304356.25 348458.47 272319.28\n",
      " 387961.9  673548.5  770145.06 460402.16 381965.38 423668.34 309891.94\n",
      " 390995.12 534073.5  641770.7  371162.5  310525.88 361760.53 287210.3\n",
      " 363509.8  483937.22 634696.9  378508.62 319655.25 349989.8  313285.1\n",
      " 380458.12 478035.62 590154.2  345732.6  319530.34 350665.06 282527.5\n",
      " 352199.94 463279.6  550229.75 337697.75 404710.97 520685.6  423444.5\n",
      " 484246.88 501860.66 669286.56 445955.06 402756.62 436370.12 311151.03\n",
      " 389851.25 518677.66 689669.4  392302.12 349324.94 456319.97 329310.7\n",
      " 392253.62 524196.44 653760.2  411857.78 344049.22 412258.53 311151.4\n",
      " 397537.9  494591.25 612632.3  405711.72 326923.53 416376.1  443592.12\n",
      " 451991.84 607862.5  738212.56 435581.78 558682.06 484160.   369419.75\n",
      " 434574.6  513729.78 631380.1  432274.8  393365.56 456990.9  398098.25\n",
      " 491535.38 588138.3  708790.56 553564.25 565971.5  630885.44 593527.75\n",
      " 657560.44 615579.3  573048.1  434090.47 491901.9  450327.34 588584.75\n",
      " 511673.2  821605.   593083.06 543055.9  421969.25 475042.25 635830.94\n",
      " 699178.06 439697.3  383640.38 424036.25 331650.94 425414.9  576171.25\n",
      " 687957.44 440458.38 374599.56 422154.56 314912.16 389002.44 614338.3\n",
      " 677396.06 423388.75 367988.   396213.1  302443.12 396694.22 534258.94\n",
      " 612420.75 360612.38 392637.56 518516.12 391475.6  461979.97 627573.94\n",
      " 647873.3  424168.56 386743.12 437854.97 338544.06 420857.53 519171.56\n",
      " 625173.   429363.56 326573.   395921.94 346731.53 414260.78 601157.7\n",
      " 481698.84 392746.38 371873.8  389214.97 342609.3  412215.84 506520.84\n",
      " 415810.72 427032.12 574030.56 528591.44 437234.75 486198.8  634886.4\n",
      " 719913.7  428920.88 392718.1  414182.44 337546.1  427418.56 560114.9\n",
      " 688801.4  405771.2  358424.9  435844.38 360524.06 444982.66 580663.2\n",
      " 698361.94 440732.56 387534.6  414912.06 341132.47 421799.47 577746.25\n",
      " 655279.2  414395.4  343433.16 435010.4  333400.88 479072.4  846761.25\n",
      " 667628.3  425840.8  426987.44 465979.1  359403.88 410164.1  557645.9\n",
      " 661129.25 383562.53 363347.75 390707.84 381376.3  391271.53 489505.72\n",
      " 588035.75 403925.78 365425.62 413136.34 336920.56 418117.84 520669.4\n",
      " 643719.56 376779.84 357462.38 389982.44 305131.8  410782.12 549925.25\n",
      " 553516.56 724922.56 466016.6  480529.78 369266.84 419505.38 559246.44\n",
      " 666372.7  412736.88 359063.25 398554.88 312685.2  396189.72 585819.94\n",
      " 457783.03 404543.4  410219.22 430186.28 317481.28 407295.38 544834.3\n",
      " 646224.56 395874.84 355708.9  384084.3  307008.34 508710.8  470003.12\n",
      " 566144.1  383562.25 357776.4  419738.88 402582.66 499819.66 641629.75\n",
      " 769796.9  479630.72 403969.7  450756.72 334530.47 420854.84 537741.4\n",
      " 660609.25 387059.38 369275.25 401436.8  340075.72 450500.03 584338.9\n",
      " 502295.06 409387.53 402469.4  401057.4  310034.2  402967.3  511104.44\n",
      " 595126.9  373753.88 331420.5  377250.38 308123.25 423757.34 641649.8\n",
      " 705943.   484996.62 421630.56 450327.84 352576.66 421154.5  521784.4\n",
      " 581352.06 400255.25 351584.75 380746.44 315660.2  390896.06 495107.34\n",
      " 574725.94 412239.56 358715.53 396156.7  346297.7  408199.94 482838.97\n",
      " 552268.1  398815.53 343215.47 371557.16 314677.34 421051.9  516314.22\n",
      " 580407.25 440220.3  478229.34 482223.4  365336.56 425713.16 500614.56\n",
      " 547592.1  396073.44 347288.25 367813.88 315940.3  406504.4  389945.6\n",
      " 438714.53 377126.44 363382.6 ]\n"
     ]
    }
   ],
   "source": [
    "print(test_data)"
   ]
  },
  {
   "cell_type": "markdown",
   "metadata": {},
   "source": [
    "#### Нормализуем данные с помощью скалера min/max с минимальными и максимальными значениями -1 и 1 соответственно."
   ]
  },
  {
   "cell_type": "code",
   "execution_count": 48,
   "metadata": {},
   "outputs": [],
   "source": [
    "from sklearn.preprocessing import MinMaxScaler\n",
    "\n",
    "scaler = MinMaxScaler(feature_range=(-1, 1))\n",
    "train_data_normalized = scaler.fit_transform(train_data .reshape(-1, 1))"
   ]
  },
  {
   "cell_type": "code",
   "execution_count": 49,
   "metadata": {},
   "outputs": [
    {
     "name": "stdout",
     "output_type": "stream",
     "text": [
      "[[-0.46759538]\n",
      " [-0.76280631]\n",
      " [-0.76440442]\n",
      " [-0.51727788]\n",
      " [-0.38837831]]\n",
      "[[ 0.17825205]\n",
      " [-0.29365632]\n",
      " [-0.39480955]\n",
      " [-0.28146193]\n",
      " [-0.34653452]]\n"
     ]
    }
   ],
   "source": [
    "print(train_data_normalized[:5])\n",
    "print(train_data_normalized[-5:])"
   ]
  },
  {
   "cell_type": "markdown",
   "metadata": {},
   "source": [
    "##### Преобразуем наборы данных в тензоры для использования в модели PyTorch"
   ]
  },
  {
   "cell_type": "code",
   "execution_count": 50,
   "metadata": {},
   "outputs": [],
   "source": [
    "train_data_normalized = torch.FloatTensor(train_data_normalized).view(-1)"
   ]
  },
  {
   "cell_type": "markdown",
   "metadata": {},
   "source": [
    "#### Преобразование обучающих данных в последовательности и соответствующие метки."
   ]
  },
  {
   "cell_type": "code",
   "execution_count": 51,
   "metadata": {},
   "outputs": [],
   "source": [
    "train_window = 12"
   ]
  },
  {
   "cell_type": "code",
   "execution_count": 52,
   "metadata": {},
   "outputs": [],
   "source": [
    "# Далее мы определим функцию с именем create_input_sequences . \n",
    "# Функция примет необработанные входные данные и вернет список кортежей.\n",
    "# В каждом кортеже первый элемент будет содержать список из 12 пунктов, соответствующих продажам, за 12 дней,\n",
    "# второй элемент кортежа будет содержать один пункт, т. е. количество продаж за 12+1-й день.\n",
    "\n",
    "def create_inout_sequences(input_data, tw):\n",
    "    \"\"\"Функция принимает необработанные входные данные и возвращает список кортежей.\"\"\"\n",
    "\n",
    "    inout_seq = []\n",
    "    L = len(input_data)\n",
    "    for i in range(L-tw):\n",
    "        train_seq = input_data[i:i+tw]\n",
    "        train_label = input_data[i+tw:i+tw+1]\n",
    "        inout_seq.append((train_seq ,train_label))\n",
    "        \n",
    "    return inout_seq"
   ]
  },
  {
   "cell_type": "code",
   "execution_count": 57,
   "metadata": {},
   "outputs": [],
   "source": [
    "#Создаём последовательности\n",
    "train_inout_seq = create_inout_sequences(train_data_normalized, train_window)"
   ]
  },
  {
   "cell_type": "code",
   "execution_count": 58,
   "metadata": {},
   "outputs": [
    {
     "data": {
      "text/plain": [
       "[(tensor([-0.4676, -0.7628, -0.7644, -0.5173, -0.3884, -0.8063, -0.8378, -0.8758,\n",
       "          -0.9611, -0.8950, -0.6928, -0.5331]),\n",
       "  tensor([-0.9013])),\n",
       " (tensor([-0.7628, -0.7644, -0.5173, -0.3884, -0.8063, -0.8378, -0.8758, -0.9611,\n",
       "          -0.8950, -0.6928, -0.5331, -0.9013]),\n",
       "  tensor([-0.9053])),\n",
       " (tensor([-0.7644, -0.5173, -0.3884, -0.8063, -0.8378, -0.8758, -0.9611, -0.8950,\n",
       "          -0.6928, -0.5331, -0.9013, -0.9053]),\n",
       "  tensor([-0.8320])),\n",
       " (tensor([-0.5173, -0.3884, -0.8063, -0.8378, -0.8758, -0.9611, -0.8950, -0.6928,\n",
       "          -0.5331, -0.9013, -0.9053, -0.8320]),\n",
       "  tensor([-0.9536])),\n",
       " (tensor([-0.3884, -0.8063, -0.8378, -0.8758, -0.9611, -0.8950, -0.6928, -0.5331,\n",
       "          -0.9013, -0.9053, -0.8320, -0.9536]),\n",
       "  tensor([-0.8745]))]"
      ]
     },
     "execution_count": 58,
     "metadata": {},
     "output_type": "execute_result"
    }
   ],
   "source": [
    "train_inout_seq[:5]"
   ]
  },
  {
   "cell_type": "markdown",
   "metadata": {},
   "source": [
    "# LSTM"
   ]
  },
  {
   "cell_type": "markdown",
   "metadata": {},
   "source": [
    "- __input_size__ : Соответствует количеству объектов во входных данных. Хотя длина нашей последовательности равна 12, для каждого дня у нас есть только 1 значение, то есть общее количество выручки, поэтому входной размер будет равен 1.\n",
    "- __hidden_layer_size__ : Определяет количество скрытых слоев вместе с количеством нейронов в каждом слое. У нас будет один слой из 100 нейронов.\n",
    "- __output_size__ : Количество элементов в выводе, так как мы хотим предсказать количество выручки на 1 день в будущем, размер вывода будет равен 1."
   ]
  },
  {
   "cell_type": "code",
   "execution_count": 60,
   "metadata": {},
   "outputs": [],
   "source": [
    "class LSTM(nn.Module):\n",
    "    def __init__(self, input_size=1, hidden_layer_size=100, output_size=1):\n",
    "        super().__init__()\n",
    "        self.hidden_layer_size = hidden_layer_size\n",
    "\n",
    "        self.lstm = nn.LSTM(input_size, hidden_layer_size)\n",
    "\n",
    "        self.linear = nn.Linear(hidden_layer_size, output_size)\n",
    "\n",
    "        self.hidden_cell = (torch.zeros(1,1,self.hidden_layer_size),\n",
    "                            torch.zeros(1,1,self.hidden_layer_size))\n",
    "\n",
    "    def forward(self, input_seq):\n",
    "        lstm_out, self.hidden_cell = self.lstm(input_seq.view(len(input_seq) ,1, -1), self.hidden_cell)\n",
    "        predictions = self.linear(lstm_out.view(len(input_seq), -1))\n",
    "        return predictions[-1]"
   ]
  },
  {
   "cell_type": "code",
   "execution_count": 61,
   "metadata": {},
   "outputs": [],
   "source": [
    "model = LSTM()\n",
    "loss_function = nn.MSELoss()\n",
    "optimizer = torch.optim.Adam(model.parameters(), lr=0.001)"
   ]
  },
  {
   "cell_type": "code",
   "execution_count": 62,
   "metadata": {},
   "outputs": [
    {
     "name": "stdout",
     "output_type": "stream",
     "text": [
      "LSTM(\n",
      "  (lstm): LSTM(1, 100)\n",
      "  (linear): Linear(in_features=100, out_features=1, bias=True)\n",
      ")\n"
     ]
    }
   ],
   "source": [
    "print(model)"
   ]
  },
  {
   "cell_type": "markdown",
   "metadata": {},
   "source": [
    "#### Обучение модели"
   ]
  },
  {
   "cell_type": "markdown",
   "metadata": {},
   "source": [
    "Мы будем тренировать нашу модель в течение 300 эпох. Потери будут печататься через каждые 25 эпох."
   ]
  },
  {
   "cell_type": "code",
   "execution_count": 99,
   "metadata": {},
   "outputs": [
    {
     "name": "stdout",
     "output_type": "stream",
     "text": [
      "epoch:   1 loss: 0.01400300\n",
      "epoch:  26 loss: 0.02697833\n",
      "epoch:  51 loss: 0.01458593\n",
      "epoch:  76 loss: 0.01115733\n",
      "epoch: 101 loss: 0.00395531\n",
      "epoch: 126 loss: 0.00441030\n",
      "epoch: 151 loss: 0.00000258\n",
      "epoch: 176 loss: 0.00243663\n",
      "epoch: 201 loss: 0.00056983\n",
      "epoch: 226 loss: 0.00014471\n",
      "epoch: 251 loss: 0.00329403\n",
      "epoch: 276 loss: 0.00000148\n",
      "epoch: 299 loss: 0.0005294156\n"
     ]
    }
   ],
   "source": [
    "epochs = 300\n",
    "\n",
    "for i in range(epochs):\n",
    "    for seq, labels in train_inout_seq:\n",
    "        optimizer.zero_grad()\n",
    "        model.hidden_cell = (torch.zeros(1, 1, model.hidden_layer_size),\n",
    "                        torch.zeros(1, 1, model.hidden_layer_size))\n",
    "\n",
    "        y_pred = model(seq)\n",
    "\n",
    "        single_loss = loss_function(y_pred, labels)\n",
    "        single_loss.backward()\n",
    "        optimizer.step()\n",
    "\n",
    "    if i%25 == 1:\n",
    "        print(f'epoch: {i:3} loss: {single_loss.item():10.8f}')\n",
    "\n",
    "print(f'epoch: {i:3} loss: {single_loss.item():10.10f}')\n"
   ]
  },
  {
   "cell_type": "markdown",
   "metadata": {},
   "source": [
    "### Прогнозы"
   ]
  },
  {
   "cell_type": "markdown",
   "metadata": {},
   "source": [
    "__Отфильтруем последние 10 значений из обучающего набора:__"
   ]
  },
  {
   "cell_type": "code",
   "execution_count": 100,
   "metadata": {},
   "outputs": [
    {
     "name": "stdout",
     "output_type": "stream",
     "text": [
      "[0.3236887753009796, -0.25877830386161804, -0.4524434804916382, -0.20583787560462952, -0.34753096103668213, -0.3208041191101074, 0.007369729224592447, 0.17825205624103546, -0.2936563193798065, -0.3948095440864563, -0.2814619243144989, -0.34653452038764954]\n"
     ]
    }
   ],
   "source": [
    "fut_pred = 300\n",
    "\n",
    "test_inputs = train_data_normalized[-train_window:].tolist()\n",
    "print(test_inputs)"
   ]
  },
  {
   "cell_type": "markdown",
   "metadata": {},
   "source": [
    "### Составление прогнозов"
   ]
  },
  {
   "cell_type": "code",
   "execution_count": 101,
   "metadata": {},
   "outputs": [],
   "source": [
    "model.eval()\n",
    "\n",
    "for i in range(fut_pred):\n",
    "    seq = torch.FloatTensor(test_inputs[-train_window:])\n",
    "    with torch.no_grad():\n",
    "        model.hidden = (torch.zeros(1, 1, model.hidden_layer_size),\n",
    "                        torch.zeros(1, 1, model.hidden_layer_size))\n",
    "        test_inputs.append(model(seq).item())\n"
   ]
  },
  {
   "cell_type": "code",
   "execution_count": 102,
   "metadata": {},
   "outputs": [
    {
     "data": {
      "text/plain": [
       "[0.08698885142803192,\n",
       " 0.3161541819572449,\n",
       " 0.2977752685546875,\n",
       " 0.15500690042972565,\n",
       " 0.15066291391849518,\n",
       " 0.07353302836418152,\n",
       " 0.030370503664016724,\n",
       " 0.06411997973918915,\n",
       " 0.2871330976486206,\n",
       " 0.33945566415786743,\n",
       " 0.16767989099025726,\n",
       " 0.1467825025320053]"
      ]
     },
     "execution_count": 102,
     "metadata": {},
     "output_type": "execute_result"
    }
   ],
   "source": [
    "test_inputs[fut_pred:]"
   ]
  },
  {
   "cell_type": "markdown",
   "metadata": {},
   "source": [
    "### Преобразовать нормализованные прогнозные значения в фактические прогнозные значения. "
   ]
  },
  {
   "cell_type": "code",
   "execution_count": 103,
   "metadata": {},
   "outputs": [
    {
     "name": "stdout",
     "output_type": "stream",
     "text": [
      "[[404058.11764047]\n",
      " [542398.9875933 ]\n",
      " [468210.59817248]\n",
      " [377573.35956626]\n",
      " [380596.39515483]\n",
      " [386168.75301129]\n",
      " [311055.08434328]\n",
      " [382434.19634088]\n",
      " [508278.56423947]\n",
      " [483710.74173009]\n",
      " [375164.1072417 ]\n",
      " [376226.09386062]\n",
      " [360450.07990559]\n",
      " [304520.40314166]\n",
      " [380576.20112176]\n",
      " [493397.20827097]\n",
      " [550540.55944484]\n",
      " [405321.8422777 ]\n",
      " [383533.4316956 ]\n",
      " [428962.67634893]\n",
      " [335536.48457663]\n",
      " [399944.19499045]\n",
      " [526771.00120265]\n",
      " [589467.77193204]\n",
      " [406229.19943681]\n",
      " [361537.19046892]\n",
      " [399025.47345552]\n",
      " [322861.40346025]\n",
      " [380910.66305041]\n",
      " [500795.06113857]\n",
      " [555451.77433236]\n",
      " [367159.12183955]\n",
      " [338324.7680189 ]\n",
      " [406158.99470875]\n",
      " [345566.15666251]\n",
      " [404060.98722094]\n",
      " [563571.02205706]\n",
      " [594099.80501   ]\n",
      " [402292.22339714]\n",
      " [358375.64762589]\n",
      " [401031.89621297]\n",
      " [313768.11687466]\n",
      " [380254.25465671]\n",
      " [512284.2753355 ]\n",
      " [530520.98942573]\n",
      " [361432.26707278]\n",
      " [319925.22267767]\n",
      " [369415.77480457]\n",
      " [296195.79205348]\n",
      " [357677.35824007]\n",
      " [505195.23025413]\n",
      " [551497.35291775]\n",
      " [370975.80804242]\n",
      " [332368.19798695]\n",
      " [381988.10447631]\n",
      " [320017.58875247]\n",
      " [391495.23851577]\n",
      " [537505.76223132]\n",
      " [502248.22227003]\n",
      " [335466.13567192]\n",
      " [311728.29629329]\n",
      " [361101.12585799]\n",
      " [303414.57751866]\n",
      " [374131.84891836]\n",
      " [513614.71888139]\n",
      " [535054.72193184]\n",
      " [427016.11713285]\n",
      " [399075.94923648]\n",
      " [453025.02946719]\n",
      " [403127.60617606]\n",
      " [491313.41846144]\n",
      " [546565.74866104]\n",
      " [519740.70578175]\n",
      " [442952.99735064]\n",
      " [428922.18596387]\n",
      " [402004.48400562]\n",
      " [403596.30121906]\n",
      " [477698.96599281]\n",
      " [538094.05878386]\n",
      " [496521.41401186]\n",
      " [485832.97554638]\n",
      " [457001.10993571]\n",
      " [441757.47524634]\n",
      " [441555.3767864 ]\n",
      " [483674.20457583]\n",
      " [518720.34900853]\n",
      " [545503.26905099]\n",
      " [548838.69823866]\n",
      " [512622.23471069]\n",
      " [499708.9830661 ]\n",
      " [442858.25003564]\n",
      " [415538.83006577]\n",
      " [435918.92543161]\n",
      " [508494.02927035]\n",
      " [520281.34032349]\n",
      " [462157.03446027]\n",
      " [448951.95531842]\n",
      " [444662.54177714]\n",
      " [427771.71208719]\n",
      " [462283.31925529]\n",
      " [564762.03282739]\n",
      " [539863.22723246]\n",
      " [473828.01820914]\n",
      " [483915.32374914]\n",
      " [450424.46402649]\n",
      " [438098.97873642]\n",
      " [468416.80799244]\n",
      " [548896.79677876]\n",
      " [522827.79766177]\n",
      " [473125.45933406]\n",
      " [471348.55185482]\n",
      " [448494.45489486]\n",
      " [437107.01546202]\n",
      " [481572.07177542]\n",
      " [555249.36891568]\n",
      " [521164.11071248]\n",
      " [487630.30960168]\n",
      " [477572.05333173]\n",
      " [454999.38454661]\n",
      " [444435.04962292]\n",
      " [469336.63643199]\n",
      " [540286.49267734]\n",
      " [514916.18757098]\n",
      " [469579.84849219]\n",
      " [466559.58481604]\n",
      " [445275.13442106]\n",
      " [436783.98534665]\n",
      " [481474.2641947 ]\n",
      " [558933.46375771]\n",
      " [515161.71575934]\n",
      " [479019.94968995]\n",
      " [472351.09118431]\n",
      " [447296.08181353]\n",
      " [442094.16028596]\n",
      " [480378.62395457]\n",
      " [549640.24601283]\n",
      " [512709.81970166]\n",
      " [483214.65312312]\n",
      " [473654.07605418]\n",
      " [453419.19913343]\n",
      " [443552.24202705]\n",
      " [473706.50054537]\n",
      " [545225.70574061]\n",
      " [514006.44219539]\n",
      " [472748.76759879]\n",
      " [468808.79175459]\n",
      " [447215.09639256]\n",
      " [439477.61449112]\n",
      " [480084.4756783 ]\n",
      " [555244.71805592]\n",
      " [513560.2945205 ]\n",
      " [477336.76633656]\n",
      " [470848.51931877]\n",
      " [447265.48845804]\n",
      " [441644.34773358]\n",
      " [481430.3693803 ]\n",
      " [550819.68544409]\n",
      " [514598.74778904]\n",
      " [485124.44496737]\n",
      " [474973.40404524]\n",
      " [454630.69229014]\n",
      " [444485.1765894 ]\n",
      " [470823.97208096]\n",
      " [541300.39870808]\n",
      " [514585.22308886]\n",
      " [471532.05617744]\n",
      " [467920.36592013]\n",
      " [447378.15088483]\n",
      " [438963.95493598]\n",
      " [479106.26034535]\n",
      " [556026.84383975]\n",
      " [512813.21761581]\n",
      " [474572.99292522]\n",
      " [469986.22201443]\n",
      " [444943.25837043]\n",
      " [441069.33868737]\n",
      " [485195.93798358]\n",
      " [553431.90593935]\n",
      " [517780.36374278]\n",
      " [493591.87465701]\n",
      " [481327.25051774]\n",
      " [461405.18112261]\n",
      " [447016.2953922 ]\n",
      " [457426.39850458]\n",
      " [522249.71439726]\n",
      " [523660.76664447]\n",
      " [468759.01825345]\n",
      " [464317.20068875]\n",
      " [452146.47275714]\n",
      " [438300.956274  ]\n",
      " [468244.34481089]\n",
      " [549583.78457537]\n",
      " [526649.70678015]\n",
      " [479251.7950489 ]\n",
      " [481376.92169996]\n",
      " [450729.87668509]\n",
      " [444712.20365764]\n",
      " [476886.98168934]\n",
      " [547771.28871726]\n",
      " [519933.02813447]\n",
      " [487127.77490308]\n",
      " [481207.58389616]\n",
      " [456511.02558868]\n",
      " [447545.62834472]\n",
      " [472258.0553857 ]\n",
      " [544075.62253615]\n",
      " [521652.48819398]\n",
      " [479403.84095612]\n",
      " [477185.52967894]\n",
      " [452307.21112124]\n",
      " [442954.85769454]\n",
      " [476807.91707345]\n",
      " [556586.82595808]\n",
      " [522757.81152413]\n",
      " [480623.82658275]\n",
      " [481789.09949518]\n",
      " [453274.05975295]\n",
      " [444518.33721947]\n",
      " [476869.24331022]\n",
      " [552193.32617541]\n",
      " [515563.97792155]\n",
      " [476192.41299132]\n",
      " [473772.32881439]\n",
      " [448004.65890114]\n",
      " [440265.87940983]\n",
      " [483577.54110662]\n",
      " [557869.79352756]\n",
      " [515191.60218414]\n",
      " [482560.86316346]\n",
      " [475614.72970075]\n",
      " [451579.718987  ]\n",
      " [442781.3294661 ]\n",
      " [476240.03779525]\n",
      " [548956.99750747]\n",
      " [509370.99538637]\n",
      " [470580.79722764]\n",
      " [466818.32609697]\n",
      " [444374.95121313]\n",
      " [437945.81662286]\n",
      " [486059.28638222]\n",
      " [558659.17465261]\n",
      " [515878.54347216]\n",
      " [486231.45190875]\n",
      " [475614.65528699]\n",
      " [453836.57658985]\n",
      " [443485.03710354]\n",
      " [468511.62972119]\n",
      " [538915.00994495]\n",
      " [507520.89267625]\n",
      " [462993.86830743]\n",
      " [461181.58173801]\n",
      " [442553.60011804]\n",
      " [435674.1320791 ]\n",
      " [485483.78899573]\n",
      " [558148.82650962]\n",
      " [511007.53061638]\n",
      " [480490.89570913]\n",
      " [468628.71976647]\n",
      " [447337.30703443]\n",
      " [443548.27949454]\n",
      " [479911.15673855]\n",
      " [542010.49197597]\n",
      " [513932.52143039]\n",
      " [489867.73591247]\n",
      " [476833.14333678]\n",
      " [459945.42507201]\n",
      " [448672.08518161]\n",
      " [462810.48955803]\n",
      " [526814.44023279]\n",
      " [526600.4448736 ]\n",
      " [479890.50692122]\n",
      " [473331.81798153]\n",
      " [455554.75301206]\n",
      " [442880.6532271 ]\n",
      " [466361.66282816]\n",
      " [538864.91088363]\n",
      " [527818.82130275]\n",
      " [483007.68056216]\n",
      " [482773.83533351]\n",
      " [454025.32708228]\n",
      " [446412.63704987]\n",
      " [471410.75245322]\n",
      " [543516.49617601]\n",
      " [526983.28504546]\n",
      " [488123.03098619]\n",
      " [487299.7916021 ]\n",
      " [459875.91332206]\n",
      " [450668.97367656]\n",
      " [468822.45598056]\n",
      " [540348.1444743 ]\n",
      " [534611.82985878]\n",
      " [490051.83554514]\n",
      " [488696.01690841]\n",
      " [464622.70636455]\n",
      " [451151.0817991 ]\n",
      " [461684.76290612]\n",
      " [531290.26023319]\n",
      " [547620.86130924]\n",
      " [494007.25224374]\n",
      " [487484.88651876]]\n"
     ]
    }
   ],
   "source": [
    "actual_predictions = scaler.inverse_transform(np.array(test_inputs[train_window:] ).reshape(-1, 1))\n",
    "print(actual_predictions)"
   ]
  },
  {
   "cell_type": "code",
   "execution_count": null,
   "metadata": {},
   "outputs": [],
   "source": []
  },
  {
   "cell_type": "code",
   "execution_count": 104,
   "metadata": {},
   "outputs": [
    {
     "name": "stdout",
     "output_type": "stream",
     "text": [
      "[1378 1379 1380 1381 1382 1383 1384 1385 1386 1387 1388 1389 1390 1391\n",
      " 1392 1393 1394 1395 1396 1397 1398 1399 1400 1401 1402 1403 1404 1405\n",
      " 1406 1407 1408 1409 1410 1411 1412 1413 1414 1415 1416 1417 1418 1419\n",
      " 1420 1421 1422 1423 1424 1425 1426 1427 1428 1429 1430 1431 1432 1433\n",
      " 1434 1435 1436 1437 1438 1439 1440 1441 1442 1443 1444 1445 1446 1447\n",
      " 1448 1449 1450 1451 1452 1453 1454 1455 1456 1457 1458 1459 1460 1461\n",
      " 1462 1463 1464 1465 1466 1467 1468 1469 1470 1471 1472 1473 1474 1475\n",
      " 1476 1477 1478 1479 1480 1481 1482 1483 1484 1485 1486 1487 1488 1489\n",
      " 1490 1491 1492 1493 1494 1495 1496 1497 1498 1499 1500 1501 1502 1503\n",
      " 1504 1505 1506 1507 1508 1509 1510 1511 1512 1513 1514 1515 1516 1517\n",
      " 1518 1519 1520 1521 1522 1523 1524 1525 1526 1527 1528 1529 1530 1531\n",
      " 1532 1533 1534 1535 1536 1537 1538 1539 1540 1541 1542 1543 1544 1545\n",
      " 1546 1547 1548 1549 1550 1551 1552 1553 1554 1555 1556 1557 1558 1559\n",
      " 1560 1561 1562 1563 1564 1565 1566 1567 1568 1569 1570 1571 1572 1573\n",
      " 1574 1575 1576 1577 1578 1579 1580 1581 1582 1583 1584 1585 1586 1587\n",
      " 1588 1589 1590 1591 1592 1593 1594 1595 1596 1597 1598 1599 1600 1601\n",
      " 1602 1603 1604 1605 1606 1607 1608 1609 1610 1611 1612 1613 1614 1615\n",
      " 1616 1617 1618 1619 1620 1621 1622 1623 1624 1625 1626 1627 1628 1629\n",
      " 1630 1631 1632 1633 1634 1635 1636 1637 1638 1639 1640 1641 1642 1643\n",
      " 1644 1645 1646 1647 1648 1649 1650 1651 1652 1653 1654 1655 1656 1657\n",
      " 1658 1659 1660 1661 1662 1663 1664 1665 1666 1667 1668 1669 1670 1671\n",
      " 1672 1673 1674 1675 1676 1677]\n"
     ]
    }
   ],
   "source": [
    "x = np.arange(1378, 1678, 1)\n",
    "print(x)"
   ]
  },
  {
   "cell_type": "code",
   "execution_count": 105,
   "metadata": {},
   "outputs": [
    {
     "data": {
      "image/png": "[encoded data removed]",
      "text/plain": [
       "<Figure size 432x288 with 1 Axes>"
      ]
     },
     "metadata": {
      "needs_background": "light"
     },
     "output_type": "display_data"
    }
   ],
   "source": [
    "plt.title('Day vs unit_sales (stores.csv -> state==''Pichincha'')')\n",
    "plt.ylabel('Total unit_sales')\n",
    "plt.grid(True)\n",
    "plt.autoscale(axis='x', tight=True)\n",
    "plt.plot(data_df['unit_sales'])\n",
    "plt.plot(x, actual_predictions)\n",
    "plt.show()"
   ]
  },
  {
   "cell_type": "code",
   "execution_count": 106,
   "metadata": {},
   "outputs": [
    {
     "data": {
      "image/png": "[encoded data removed]",
      "text/plain": [
       "<Figure size 432x288 with 1 Axes>"
      ]
     },
     "metadata": {
      "needs_background": "light"
     },
     "output_type": "display_data"
    }
   ],
   "source": [
    "plt.title('Day vs unit_sales (stores.csv -> state==''Pichincha'')')\n",
    "plt.ylabel('Total unit_sales')\n",
    "plt.xlabel('Days')\n",
    "plt.grid(True)\n",
    "plt.autoscale(axis='x',tight=True)\n",
    "plt.plot(data_df['unit_sales'])\n",
    "plt.plot(x,actual_predictions)\n",
    "plt.show()"
   ]
  },
  {
   "cell_type": "code",
   "execution_count": 107,
   "metadata": {},
   "outputs": [
    {
     "data": {
      "image/png": "[encoded data removed]",
      "text/plain": [
       "<Figure size 432x288 with 1 Axes>"
      ]
     },
     "metadata": {
      "needs_background": "light"
     },
     "output_type": "display_data"
    }
   ],
   "source": [
    "plt.title('Day vs unit_sales')\n",
    "plt.ylabel('Total unit_sales')\n",
    "plt.grid(True)\n",
    "plt.autoscale(axis='x', tight=True)\n",
    "\n",
    "plt.plot(data_df['unit_sales'][-train_window:])\n",
    "plt.plot(x,actual_predictions)\n",
    "plt.show()"
   ]
  },
  {
   "cell_type": "markdown",
   "metadata": {},
   "source": [
    "Прогнозы не очень точны, но алгоритм смог уловить тенденцию"
   ]
  },
  {
   "cell_type": "markdown",
   "metadata": {},
   "source": [
    "### GRU (меняем LSTM на GRU как на лекции)"
   ]
  },
  {
   "cell_type": "code",
   "execution_count": 108,
   "metadata": {},
   "outputs": [],
   "source": [
    "class GRU(nn.Module):\n",
    "    def __init__(self, input_size=1, hidden_layer_size=100, output_size=1):\n",
    "        super().__init__()\n",
    "        self.hidden_layer_size = hidden_layer_size\n",
    "        self.gru = nn.GRU(input_size, hidden_layer_size)\n",
    "        self.linear = nn.Linear(hidden_layer_size, output_size)\n",
    "        self.hidden_cell = (torch.zeros(1,1,self.hidden_layer_size),\n",
    "                            torch.zeros(1,1,self.hidden_layer_size))\n",
    "\n",
    "    def forward(self, input_seq):\n",
    "        gru_out, self.hidden_cell = self.gru(input_seq.view(len(input_seq) ,1, -1), self.hidden_cell)\n",
    "        predictions = self.linear(gru_out.view(len(input_seq), -1))\n",
    "        return predictions[-1]"
   ]
  },
  {
   "cell_type": "code",
   "execution_count": 109,
   "metadata": {},
   "outputs": [],
   "source": [
    "model = GRU()\n",
    "loss_function = nn.MSELoss()\n",
    "optimizer = torch.optim.Adam(model.parameters(), lr=0.001)"
   ]
  },
  {
   "cell_type": "code",
   "execution_count": 110,
   "metadata": {},
   "outputs": [
    {
     "name": "stdout",
     "output_type": "stream",
     "text": [
      "GRU(\n",
      "  (gru): GRU(1, 100)\n",
      "  (linear): Linear(in_features=100, out_features=1, bias=True)\n",
      ")\n"
     ]
    }
   ],
   "source": [
    "print(model)"
   ]
  },
  {
   "cell_type": "code",
   "execution_count": null,
   "metadata": {},
   "outputs": [],
   "source": [
    "epochs = 10\n",
    "\n",
    "for i in range(epochs):\n",
    "    for seq, labels in train_inout_seq:\n",
    "        optimizer.zero_grad()\n",
    "        model.hidden_cell = (torch.zeros(1, 1, model.hidden_layer_size),\n",
    "                             torch.zeros(1, 1, model.hidden_layer_size))\n",
    "\n",
    "        y_pred = model(seq)\n",
    "\n",
    "        single_loss = loss_function(y_pred, labels)\n",
    "        single_loss.backward()\n",
    "        optimizer.step()\n",
    "\n",
    "    if i%25 == 1:\n",
    "        print(f'epoch: {i:3} loss: {single_loss.item():10.8f}')\n",
    "\n",
    "print(f'epoch: {i:3} loss: {single_loss.item():10.10f}')"
   ]
  },
  {
   "cell_type": "code",
   "execution_count": null,
   "metadata": {},
   "outputs": [],
   "source": []
  },
  {
   "cell_type": "code",
   "execution_count": null,
   "metadata": {},
   "outputs": [],
   "source": []
  },
  {
   "cell_type": "code",
   "execution_count": null,
   "metadata": {},
   "outputs": [],
   "source": []
  },
  {
   "cell_type": "code",
   "execution_count": null,
   "metadata": {},
   "outputs": [],
   "source": []
  },
  {
   "cell_type": "code",
   "execution_count": null,
   "metadata": {},
   "outputs": [],
   "source": []
  },
  {
   "cell_type": "code",
   "execution_count": null,
   "metadata": {},
   "outputs": [],
   "source": []
  },
  {
   "cell_type": "code",
   "execution_count": null,
   "metadata": {},
   "outputs": [],
   "source": []
  },
  {
   "cell_type": "code",
   "execution_count": null,
   "metadata": {},
   "outputs": [],
   "source": []
  },
  {
   "cell_type": "markdown",
   "metadata": {},
   "source": [
    "# Решение - 2 "
   ]
  },
  {
   "cell_type": "code",
   "execution_count": null,
   "metadata": {},
   "outputs": [],
   "source": [
    "import numpy\n",
    "import matplotlib.pyplot as plt\n",
    "import pandas as pd\n",
    "import math\n",
    "from keras.models import Sequential\n",
    "from keras.layers import Dense,Dropout\n",
    "from keras.layers import LSTM\n",
    "from sklearn.preprocessing import MinMaxScaler\n",
    "from sklearn.metrics import mean_squared_error"
   ]
  },
  {
   "cell_type": "markdown",
   "metadata": {},
   "source": [
    "### Загрузка подготовленных данных"
   ]
  },
  {
   "cell_type": "code",
   "execution_count": 5,
   "metadata": {},
   "outputs": [
    {
     "name": "stdout",
     "output_type": "stream",
     "text": [
      "(1679, 2)\n",
      "<class 'pandas.core.frame.DataFrame'>\n",
      "RangeIndex: 1679 entries, 0 to 1678\n",
      "Data columns (total 2 columns):\n",
      " #   Column      Non-Null Count  Dtype  \n",
      "---  ------      --------------  -----  \n",
      " 0   date        1679 non-null   object \n",
      " 1   unit_sales  1679 non-null   float64\n",
      "dtypes: float64(1), object(1)\n",
      "memory usage: 26.4+ KB\n"
     ]
    },
    {
     "data": {
      "text/html": [
       "<div>\n",
       "<style scoped>\n",
       "    .dataframe tbody tr th:only-of-type {\n",
       "        vertical-align: middle;\n",
       "    }\n",
       "\n",
       "    .dataframe tbody tr th {\n",
       "        vertical-align: top;\n",
       "    }\n",
       "\n",
       "    .dataframe thead th {\n",
       "        text-align: right;\n",
       "    }\n",
       "</style>\n",
       "<table border=\"1\" class=\"dataframe\">\n",
       "  <thead>\n",
       "    <tr style=\"text-align: right;\">\n",
       "      <th></th>\n",
       "      <th>date</th>\n",
       "      <th>unit_sales</th>\n",
       "    </tr>\n",
       "  </thead>\n",
       "  <tbody>\n",
       "    <tr>\n",
       "      <th>0</th>\n",
       "      <td>2013-01-02</td>\n",
       "      <td>295729.00</td>\n",
       "    </tr>\n",
       "    <tr>\n",
       "      <th>1</th>\n",
       "      <td>2013-01-03</td>\n",
       "      <td>203589.56</td>\n",
       "    </tr>\n",
       "    <tr>\n",
       "      <th>2</th>\n",
       "      <td>2013-01-04</td>\n",
       "      <td>203090.77</td>\n",
       "    </tr>\n",
       "  </tbody>\n",
       "</table>\n",
       "</div>"
      ],
      "text/plain": [
       "         date  unit_sales\n",
       "0  2013-01-02   295729.00\n",
       "1  2013-01-03   203589.56\n",
       "2  2013-01-04   203090.77"
      ]
     },
     "execution_count": 5,
     "metadata": {},
     "output_type": "execute_result"
    }
   ],
   "source": [
    "train = pd.read_csv(PATH_DATA + \"train_data.csv\", sep=\",\")\n",
    "print(train.shape)\n",
    "train.info()\n",
    "train.head(3)"
   ]
  },
  {
   "cell_type": "markdown",
   "metadata": {},
   "source": [
    "### Разделение выборки для обучающих и тестовых данных"
   ]
  },
  {
   "cell_type": "code",
   "execution_count": 6,
   "metadata": {},
   "outputs": [
    {
     "name": "stdout",
     "output_type": "stream",
     "text": [
      "1259 420 1679\n"
     ]
    }
   ],
   "source": [
    "train_size = int(len(train) * 0.75)\n",
    "test_size = len(train) - train_size\n",
    "\n",
    "print(train_size,test_size, len(train))"
   ]
  },
  {
   "cell_type": "code",
   "execution_count": 7,
   "metadata": {},
   "outputs": [
    {
     "name": "stdout",
     "output_type": "stream",
     "text": [
      "1259 420\n"
     ]
    }
   ],
   "source": [
    "train1= train[0:train_size]\n",
    "test =  train[train_size:len(train)]\n",
    "print(len(train1), len(test))"
   ]
  },
  {
   "cell_type": "code",
   "execution_count": 8,
   "metadata": {},
   "outputs": [],
   "source": [
    "train1=train1.set_index(\"date\")\n",
    "test=test.set_index(\"date\")\n",
    "train=train.set_index(\"date\")\n",
    "train1=train1.values\n",
    "test=test.values\n",
    "train=train.values"
   ]
  },
  {
   "cell_type": "markdown",
   "metadata": {},
   "source": [
    "Determine the number of previous time steps to use as input variables to predict the next time period. In this case (look_back) determinated to 1"
   ]
  },
  {
   "cell_type": "code",
   "execution_count": 9,
   "metadata": {},
   "outputs": [],
   "source": [
    "def create_dataset(dataset, look_back=1):\n",
    "    dataX, dataY = [], []\n",
    "    for i in range(len(dataset)-look_back-1):\n",
    "        a = dataset[i:(i+look_back), 0]\n",
    "        dataX.append(a)\n",
    "        dataY.append(dataset[i + look_back, 0])\n",
    "    return numpy.array(dataX), numpy.array(dataY)"
   ]
  },
  {
   "cell_type": "code",
   "execution_count": 11,
   "metadata": {},
   "outputs": [],
   "source": [
    "# import numpy\n",
    "\n",
    "look_back = 1\n",
    "trainX, trainY = create_dataset(train1, look_back)\n",
    "testX, testY = create_dataset(test, look_back)"
   ]
  },
  {
   "cell_type": "code",
   "execution_count": 19,
   "metadata": {},
   "outputs": [
    {
     "data": {
      "text/plain": [
       "((1257, 1), (1257,))"
      ]
     },
     "execution_count": 19,
     "metadata": {},
     "output_type": "execute_result"
    }
   ],
   "source": [
    "trainX.shape, trainY.shape"
   ]
  },
  {
   "cell_type": "markdown",
   "metadata": {},
   "source": [
    "Multilayer Perceptron model\n",
    "A simple network with 1 input (look_back) , 1 hidden layer with 8 neurons and one (1) output layer."
   ]
  },
  {
   "cell_type": "code",
   "execution_count": 14,
   "metadata": {
    "scrolled": true
   },
   "outputs": [
    {
     "name": "stdout",
     "output_type": "stream",
     "text": [
      "Epoch 1/200\n",
      "629/629 - 5s - loss: 14533445632.0000 - 5s/epoch - 7ms/step\n",
      "Epoch 2/200\n",
      "629/629 - 2s - loss: 7524797440.0000 - 2s/epoch - 2ms/step\n",
      "Epoch 3/200\n",
      "629/629 - 1s - loss: 7560857088.0000 - 1s/epoch - 2ms/step\n",
      "Epoch 4/200\n",
      "629/629 - 1s - loss: 7531424256.0000 - 1s/epoch - 2ms/step\n",
      "Epoch 5/200\n",
      "629/629 - 2s - loss: 7566036480.0000 - 2s/epoch - 2ms/step\n",
      "Epoch 6/200\n",
      "629/629 - 2s - loss: 7550424576.0000 - 2s/epoch - 2ms/step\n",
      "Epoch 7/200\n",
      "629/629 - 2s - loss: 7579824128.0000 - 2s/epoch - 2ms/step\n",
      "Epoch 8/200\n",
      "629/629 - 2s - loss: 7572335616.0000 - 2s/epoch - 2ms/step\n",
      "Epoch 9/200\n",
      "629/629 - 1s - loss: 7573846016.0000 - 1s/epoch - 2ms/step\n",
      "Epoch 10/200\n",
      "629/629 - 1s - loss: 7536196608.0000 - 1s/epoch - 2ms/step\n",
      "Epoch 11/200\n",
      "629/629 - 1s - loss: 7586246144.0000 - 1s/epoch - 2ms/step\n",
      "Epoch 12/200\n",
      "629/629 - 1s - loss: 7436213248.0000 - 1s/epoch - 2ms/step\n",
      "Epoch 13/200\n",
      "629/629 - 1s - loss: 7567697408.0000 - 1s/epoch - 2ms/step\n",
      "Epoch 14/200\n",
      "629/629 - 1s - loss: 7576020992.0000 - 1s/epoch - 2ms/step\n",
      "Epoch 15/200\n",
      "629/629 - 1s - loss: 7553119744.0000 - 1s/epoch - 2ms/step\n",
      "Epoch 16/200\n",
      "629/629 - 2s - loss: 7570033152.0000 - 2s/epoch - 2ms/step\n",
      "Epoch 17/200\n",
      "629/629 - 2s - loss: 7547518464.0000 - 2s/epoch - 2ms/step\n",
      "Epoch 18/200\n",
      "629/629 - 2s - loss: 7503767552.0000 - 2s/epoch - 2ms/step\n",
      "Epoch 19/200\n",
      "629/629 - 2s - loss: 7573967872.0000 - 2s/epoch - 2ms/step\n",
      "Epoch 20/200\n",
      "629/629 - 2s - loss: 7589146112.0000 - 2s/epoch - 2ms/step\n",
      "Epoch 21/200\n",
      "629/629 - 2s - loss: 7523519488.0000 - 2s/epoch - 2ms/step\n",
      "Epoch 22/200\n",
      "629/629 - 1s - loss: 7504099328.0000 - 1s/epoch - 2ms/step\n",
      "Epoch 23/200\n",
      "629/629 - 2s - loss: 7552054784.0000 - 2s/epoch - 2ms/step\n",
      "Epoch 24/200\n",
      "629/629 - 1s - loss: 7556178944.0000 - 1s/epoch - 2ms/step\n",
      "Epoch 25/200\n",
      "629/629 - 2s - loss: 7550850048.0000 - 2s/epoch - 2ms/step\n",
      "Epoch 26/200\n",
      "629/629 - 2s - loss: 7561678848.0000 - 2s/epoch - 2ms/step\n",
      "Epoch 27/200\n",
      "629/629 - 2s - loss: 7445897216.0000 - 2s/epoch - 2ms/step\n",
      "Epoch 28/200\n",
      "629/629 - 2s - loss: 7550853120.0000 - 2s/epoch - 2ms/step\n",
      "Epoch 29/200\n",
      "629/629 - 2s - loss: 7562324992.0000 - 2s/epoch - 2ms/step\n",
      "Epoch 30/200\n",
      "629/629 - 1s - loss: 7546327040.0000 - 1s/epoch - 2ms/step\n",
      "Epoch 31/200\n",
      "629/629 - 2s - loss: 7520422912.0000 - 2s/epoch - 3ms/step\n",
      "Epoch 32/200\n",
      "629/629 - 2s - loss: 7559205376.0000 - 2s/epoch - 3ms/step\n",
      "Epoch 33/200\n",
      "629/629 - 2s - loss: 7530206208.0000 - 2s/epoch - 3ms/step\n",
      "Epoch 34/200\n",
      "629/629 - 2s - loss: 7559037440.0000 - 2s/epoch - 3ms/step\n",
      "Epoch 35/200\n",
      "629/629 - 2s - loss: 7529332224.0000 - 2s/epoch - 2ms/step\n",
      "Epoch 36/200\n",
      "629/629 - 2s - loss: 7545543680.0000 - 2s/epoch - 3ms/step\n",
      "Epoch 37/200\n",
      "629/629 - 2s - loss: 7560849408.0000 - 2s/epoch - 3ms/step\n",
      "Epoch 38/200\n",
      "629/629 - 2s - loss: 7551967744.0000 - 2s/epoch - 3ms/step\n",
      "Epoch 39/200\n",
      "629/629 - 2s - loss: 7505579520.0000 - 2s/epoch - 2ms/step\n",
      "Epoch 40/200\n",
      "629/629 - 2s - loss: 7524147712.0000 - 2s/epoch - 3ms/step\n",
      "Epoch 41/200\n",
      "629/629 - 2s - loss: 7563980800.0000 - 2s/epoch - 3ms/step\n",
      "Epoch 42/200\n",
      "629/629 - 2s - loss: 7549829120.0000 - 2s/epoch - 2ms/step\n",
      "Epoch 43/200\n",
      "629/629 - 2s - loss: 7561428480.0000 - 2s/epoch - 2ms/step\n",
      "Epoch 44/200\n",
      "629/629 - 2s - loss: 7521164288.0000 - 2s/epoch - 2ms/step\n",
      "Epoch 45/200\n",
      "629/629 - 2s - loss: 7537501184.0000 - 2s/epoch - 2ms/step\n",
      "Epoch 46/200\n",
      "629/629 - 2s - loss: 7567276032.0000 - 2s/epoch - 2ms/step\n",
      "Epoch 47/200\n",
      "629/629 - 2s - loss: 7584200192.0000 - 2s/epoch - 2ms/step\n",
      "Epoch 48/200\n",
      "629/629 - 2s - loss: 7538806784.0000 - 2s/epoch - 2ms/step\n",
      "Epoch 49/200\n",
      "629/629 - 1s - loss: 7537491456.0000 - 1s/epoch - 2ms/step\n",
      "Epoch 50/200\n",
      "629/629 - 1s - loss: 7557912064.0000 - 1s/epoch - 2ms/step\n",
      "Epoch 51/200\n",
      "629/629 - 2s - loss: 7566347776.0000 - 2s/epoch - 2ms/step\n",
      "Epoch 52/200\n",
      "629/629 - 2s - loss: 7574710272.0000 - 2s/epoch - 2ms/step\n",
      "Epoch 53/200\n",
      "629/629 - 2s - loss: 7532870656.0000 - 2s/epoch - 2ms/step\n",
      "Epoch 54/200\n",
      "629/629 - 1s - loss: 7494373888.0000 - 1s/epoch - 2ms/step\n",
      "Epoch 55/200\n",
      "629/629 - 1s - loss: 7548961280.0000 - 1s/epoch - 2ms/step\n",
      "Epoch 56/200\n",
      "629/629 - 1s - loss: 7548267520.0000 - 1s/epoch - 2ms/step\n",
      "Epoch 57/200\n",
      "629/629 - 2s - loss: 7582678528.0000 - 2s/epoch - 2ms/step\n",
      "Epoch 58/200\n",
      "629/629 - 1s - loss: 7545859072.0000 - 1s/epoch - 2ms/step\n",
      "Epoch 59/200\n",
      "629/629 - 2s - loss: 7545486848.0000 - 2s/epoch - 2ms/step\n",
      "Epoch 60/200\n",
      "629/629 - 1s - loss: 7537775104.0000 - 1s/epoch - 2ms/step\n",
      "Epoch 61/200\n",
      "629/629 - 2s - loss: 7544422400.0000 - 2s/epoch - 2ms/step\n",
      "Epoch 62/200\n",
      "629/629 - 1s - loss: 7550490624.0000 - 1s/epoch - 2ms/step\n",
      "Epoch 63/200\n",
      "629/629 - 2s - loss: 7549303296.0000 - 2s/epoch - 2ms/step\n",
      "Epoch 64/200\n",
      "629/629 - 2s - loss: 7525309440.0000 - 2s/epoch - 2ms/step\n",
      "Epoch 65/200\n",
      "629/629 - 2s - loss: 7566266880.0000 - 2s/epoch - 2ms/step\n",
      "Epoch 66/200\n",
      "629/629 - 2s - loss: 7476874752.0000 - 2s/epoch - 2ms/step\n",
      "Epoch 67/200\n",
      "629/629 - 2s - loss: 7554625536.0000 - 2s/epoch - 2ms/step\n",
      "Epoch 68/200\n",
      "629/629 - 2s - loss: 7545674752.0000 - 2s/epoch - 2ms/step\n",
      "Epoch 69/200\n",
      "629/629 - 2s - loss: 7530616832.0000 - 2s/epoch - 2ms/step\n",
      "Epoch 70/200\n",
      "629/629 - 2s - loss: 7553161728.0000 - 2s/epoch - 2ms/step\n",
      "Epoch 71/200\n",
      "629/629 - 2s - loss: 7506878464.0000 - 2s/epoch - 2ms/step\n",
      "Epoch 72/200\n",
      "629/629 - 1s - loss: 7539394048.0000 - 1s/epoch - 2ms/step\n",
      "Epoch 73/200\n",
      "629/629 - 2s - loss: 7538317312.0000 - 2s/epoch - 2ms/step\n",
      "Epoch 74/200\n",
      "629/629 - 2s - loss: 7543454720.0000 - 2s/epoch - 2ms/step\n",
      "Epoch 75/200\n",
      "629/629 - 2s - loss: 7526384640.0000 - 2s/epoch - 2ms/step\n",
      "Epoch 76/200\n",
      "629/629 - 1s - loss: 7545986560.0000 - 1s/epoch - 2ms/step\n",
      "Epoch 77/200\n",
      "629/629 - 2s - loss: 7542569984.0000 - 2s/epoch - 2ms/step\n",
      "Epoch 78/200\n",
      "629/629 - 2s - loss: 7545447936.0000 - 2s/epoch - 2ms/step\n",
      "Epoch 79/200\n",
      "629/629 - 2s - loss: 7565611008.0000 - 2s/epoch - 2ms/step\n",
      "Epoch 80/200\n",
      "629/629 - 2s - loss: 7539914752.0000 - 2s/epoch - 2ms/step\n",
      "Epoch 81/200\n",
      "629/629 - 2s - loss: 7524301312.0000 - 2s/epoch - 2ms/step\n",
      "Epoch 82/200\n",
      "629/629 - 1s - loss: 7535806464.0000 - 1s/epoch - 2ms/step\n",
      "Epoch 83/200\n",
      "629/629 - 1s - loss: 7554661376.0000 - 1s/epoch - 2ms/step\n",
      "Epoch 84/200\n",
      "629/629 - 2s - loss: 7541962752.0000 - 2s/epoch - 2ms/step\n",
      "Epoch 85/200\n",
      "629/629 - 1s - loss: 7547229696.0000 - 1s/epoch - 2ms/step\n",
      "Epoch 86/200\n",
      "629/629 - 1s - loss: 7562527232.0000 - 1s/epoch - 2ms/step\n",
      "Epoch 87/200\n",
      "629/629 - 1s - loss: 7551856640.0000 - 1s/epoch - 2ms/step\n",
      "Epoch 88/200\n",
      "629/629 - 1s - loss: 7560972288.0000 - 1s/epoch - 2ms/step\n",
      "Epoch 89/200\n",
      "629/629 - 1s - loss: 7551213056.0000 - 1s/epoch - 2ms/step\n",
      "Epoch 90/200\n",
      "629/629 - 1s - loss: 7499534848.0000 - 1s/epoch - 2ms/step\n",
      "Epoch 91/200\n",
      "629/629 - 2s - loss: 7543262208.0000 - 2s/epoch - 2ms/step\n",
      "Epoch 92/200\n",
      "629/629 - 2s - loss: 7563302912.0000 - 2s/epoch - 2ms/step\n",
      "Epoch 93/200\n",
      "629/629 - 2s - loss: 7519550464.0000 - 2s/epoch - 2ms/step\n",
      "Epoch 94/200\n",
      "629/629 - 2s - loss: 7515025920.0000 - 2s/epoch - 2ms/step\n",
      "Epoch 95/200\n",
      "629/629 - 2s - loss: 7522653696.0000 - 2s/epoch - 2ms/step\n",
      "Epoch 96/200\n",
      "629/629 - 2s - loss: 7539026432.0000 - 2s/epoch - 2ms/step\n",
      "Epoch 97/200\n",
      "629/629 - 2s - loss: 7527074816.0000 - 2s/epoch - 2ms/step\n",
      "Epoch 98/200\n",
      "629/629 - 2s - loss: 7496883712.0000 - 2s/epoch - 2ms/step\n",
      "Epoch 99/200\n",
      "629/629 - 2s - loss: 7555016704.0000 - 2s/epoch - 2ms/step\n",
      "Epoch 100/200\n",
      "629/629 - 2s - loss: 7542117888.0000 - 2s/epoch - 2ms/step\n",
      "Epoch 101/200\n",
      "629/629 - 2s - loss: 7567065088.0000 - 2s/epoch - 3ms/step\n",
      "Epoch 102/200\n",
      "629/629 - 2s - loss: 7550891520.0000 - 2s/epoch - 2ms/step\n",
      "Epoch 103/200\n",
      "629/629 - 2s - loss: 7524317184.0000 - 2s/epoch - 2ms/step\n",
      "Epoch 104/200\n",
      "629/629 - 2s - loss: 7536591360.0000 - 2s/epoch - 2ms/step\n",
      "Epoch 105/200\n",
      "629/629 - 2s - loss: 7545036288.0000 - 2s/epoch - 2ms/step\n",
      "Epoch 106/200\n",
      "629/629 - 1s - loss: 7497198080.0000 - 1s/epoch - 2ms/step\n",
      "Epoch 107/200\n",
      "629/629 - 2s - loss: 7554824704.0000 - 2s/epoch - 2ms/step\n",
      "Epoch 108/200\n",
      "629/629 - 2s - loss: 7554080768.0000 - 2s/epoch - 2ms/step\n",
      "Epoch 109/200\n",
      "629/629 - 2s - loss: 7582268928.0000 - 2s/epoch - 2ms/step\n",
      "Epoch 110/200\n",
      "629/629 - 2s - loss: 7532175872.0000 - 2s/epoch - 2ms/step\n",
      "Epoch 111/200\n",
      "629/629 - 2s - loss: 7562440192.0000 - 2s/epoch - 2ms/step\n",
      "Epoch 112/200\n",
      "629/629 - 2s - loss: 7547000320.0000 - 2s/epoch - 2ms/step\n",
      "Epoch 113/200\n",
      "629/629 - 2s - loss: 7492974080.0000 - 2s/epoch - 2ms/step\n",
      "Epoch 114/200\n",
      "629/629 - 2s - loss: 7561111552.0000 - 2s/epoch - 2ms/step\n"
     ]
    },
    {
     "name": "stdout",
     "output_type": "stream",
     "text": [
      "Epoch 115/200\n",
      "629/629 - 2s - loss: 7565471744.0000 - 2s/epoch - 2ms/step\n",
      "Epoch 116/200\n",
      "629/629 - 2s - loss: 7562579456.0000 - 2s/epoch - 3ms/step\n",
      "Epoch 117/200\n",
      "629/629 - 2s - loss: 7551458304.0000 - 2s/epoch - 2ms/step\n",
      "Epoch 118/200\n",
      "629/629 - 2s - loss: 7580190720.0000 - 2s/epoch - 3ms/step\n",
      "Epoch 119/200\n",
      "629/629 - 2s - loss: 7553456640.0000 - 2s/epoch - 2ms/step\n",
      "Epoch 120/200\n",
      "629/629 - 2s - loss: 7548702208.0000 - 2s/epoch - 3ms/step\n",
      "Epoch 121/200\n",
      "629/629 - 1s - loss: 7530082816.0000 - 1s/epoch - 2ms/step\n",
      "Epoch 122/200\n",
      "629/629 - 2s - loss: 7566064128.0000 - 2s/epoch - 2ms/step\n",
      "Epoch 123/200\n",
      "629/629 - 2s - loss: 7561574400.0000 - 2s/epoch - 2ms/step\n",
      "Epoch 124/200\n",
      "629/629 - 2s - loss: 7510500352.0000 - 2s/epoch - 2ms/step\n",
      "Epoch 125/200\n",
      "629/629 - 2s - loss: 7554005504.0000 - 2s/epoch - 2ms/step\n",
      "Epoch 126/200\n",
      "629/629 - 2s - loss: 7535081472.0000 - 2s/epoch - 3ms/step\n",
      "Epoch 127/200\n",
      "629/629 - 2s - loss: 7564379648.0000 - 2s/epoch - 2ms/step\n",
      "Epoch 128/200\n",
      "629/629 - 2s - loss: 7529616384.0000 - 2s/epoch - 2ms/step\n",
      "Epoch 129/200\n",
      "629/629 - 2s - loss: 7538862592.0000 - 2s/epoch - 2ms/step\n",
      "Epoch 130/200\n",
      "629/629 - 2s - loss: 7503348736.0000 - 2s/epoch - 2ms/step\n",
      "Epoch 131/200\n",
      "629/629 - 2s - loss: 7550839296.0000 - 2s/epoch - 3ms/step\n",
      "Epoch 132/200\n",
      "629/629 - 2s - loss: 7576257024.0000 - 2s/epoch - 3ms/step\n",
      "Epoch 133/200\n",
      "629/629 - 2s - loss: 7546149376.0000 - 2s/epoch - 3ms/step\n",
      "Epoch 134/200\n",
      "629/629 - 2s - loss: 7530232832.0000 - 2s/epoch - 2ms/step\n",
      "Epoch 135/200\n",
      "629/629 - 1s - loss: 7527638016.0000 - 1s/epoch - 2ms/step\n",
      "Epoch 136/200\n",
      "629/629 - 2s - loss: 7556926464.0000 - 2s/epoch - 2ms/step\n",
      "Epoch 137/200\n",
      "629/629 - 2s - loss: 7540263424.0000 - 2s/epoch - 2ms/step\n",
      "Epoch 138/200\n",
      "629/629 - 2s - loss: 7491461632.0000 - 2s/epoch - 2ms/step\n",
      "Epoch 139/200\n",
      "629/629 - 2s - loss: 7585547264.0000 - 2s/epoch - 2ms/step\n",
      "Epoch 140/200\n",
      "629/629 - 2s - loss: 7541757952.0000 - 2s/epoch - 2ms/step\n",
      "Epoch 141/200\n",
      "629/629 - 2s - loss: 7530182144.0000 - 2s/epoch - 2ms/step\n",
      "Epoch 142/200\n",
      "629/629 - 2s - loss: 7536546816.0000 - 2s/epoch - 3ms/step\n",
      "Epoch 143/200\n",
      "629/629 - 2s - loss: 7557068800.0000 - 2s/epoch - 2ms/step\n",
      "Epoch 144/200\n",
      "629/629 - 2s - loss: 7543398400.0000 - 2s/epoch - 2ms/step\n",
      "Epoch 145/200\n",
      "629/629 - 2s - loss: 7503833600.0000 - 2s/epoch - 2ms/step\n",
      "Epoch 146/200\n",
      "629/629 - 2s - loss: 7571831296.0000 - 2s/epoch - 2ms/step\n",
      "Epoch 147/200\n",
      "629/629 - 2s - loss: 7534415872.0000 - 2s/epoch - 2ms/step\n",
      "Epoch 148/200\n",
      "629/629 - 2s - loss: 7570247168.0000 - 2s/epoch - 2ms/step\n",
      "Epoch 149/200\n",
      "629/629 - 2s - loss: 7557673472.0000 - 2s/epoch - 2ms/step\n",
      "Epoch 150/200\n",
      "629/629 - 2s - loss: 7560715264.0000 - 2s/epoch - 2ms/step\n",
      "Epoch 151/200\n",
      "629/629 - 2s - loss: 7489755648.0000 - 2s/epoch - 2ms/step\n",
      "Epoch 152/200\n",
      "629/629 - 2s - loss: 7536837120.0000 - 2s/epoch - 2ms/step\n",
      "Epoch 153/200\n",
      "629/629 - 2s - loss: 7550049280.0000 - 2s/epoch - 2ms/step\n",
      "Epoch 154/200\n",
      "629/629 - 2s - loss: 7511013888.0000 - 2s/epoch - 2ms/step\n",
      "Epoch 155/200\n",
      "629/629 - 2s - loss: 7530647552.0000 - 2s/epoch - 2ms/step\n",
      "Epoch 156/200\n",
      "629/629 - 2s - loss: 7528705536.0000 - 2s/epoch - 2ms/step\n",
      "Epoch 157/200\n",
      "629/629 - 2s - loss: 7536407040.0000 - 2s/epoch - 2ms/step\n",
      "Epoch 158/200\n",
      "629/629 - 2s - loss: 7536734720.0000 - 2s/epoch - 2ms/step\n",
      "Epoch 159/200\n",
      "629/629 - 2s - loss: 7536403456.0000 - 2s/epoch - 2ms/step\n",
      "Epoch 160/200\n",
      "629/629 - 2s - loss: 7527626240.0000 - 2s/epoch - 2ms/step\n",
      "Epoch 161/200\n",
      "629/629 - 2s - loss: 7538988544.0000 - 2s/epoch - 2ms/step\n",
      "Epoch 162/200\n",
      "629/629 - 2s - loss: 7546064896.0000 - 2s/epoch - 2ms/step\n",
      "Epoch 163/200\n",
      "629/629 - 2s - loss: 7569481728.0000 - 2s/epoch - 2ms/step\n",
      "Epoch 164/200\n",
      "629/629 - 2s - loss: 7528361984.0000 - 2s/epoch - 2ms/step\n",
      "Epoch 165/200\n",
      "629/629 - 2s - loss: 7571622912.0000 - 2s/epoch - 2ms/step\n",
      "Epoch 166/200\n",
      "629/629 - 2s - loss: 7559343104.0000 - 2s/epoch - 2ms/step\n",
      "Epoch 167/200\n",
      "629/629 - 2s - loss: 7540267520.0000 - 2s/epoch - 2ms/step\n",
      "Epoch 168/200\n",
      "629/629 - 2s - loss: 7557550080.0000 - 2s/epoch - 2ms/step\n",
      "Epoch 169/200\n",
      "629/629 - 2s - loss: 7532909056.0000 - 2s/epoch - 2ms/step\n",
      "Epoch 170/200\n",
      "629/629 - 2s - loss: 7558196736.0000 - 2s/epoch - 2ms/step\n",
      "Epoch 171/200\n",
      "629/629 - 2s - loss: 7563707392.0000 - 2s/epoch - 2ms/step\n",
      "Epoch 172/200\n",
      "629/629 - 2s - loss: 7525774336.0000 - 2s/epoch - 2ms/step\n",
      "Epoch 173/200\n",
      "629/629 - 2s - loss: 7570762240.0000 - 2s/epoch - 2ms/step\n",
      "Epoch 174/200\n",
      "629/629 - 2s - loss: 7538808320.0000 - 2s/epoch - 2ms/step\n",
      "Epoch 175/200\n",
      "629/629 - 1s - loss: 7530444288.0000 - 1s/epoch - 2ms/step\n",
      "Epoch 176/200\n",
      "629/629 - 2s - loss: 7561303040.0000 - 2s/epoch - 2ms/step\n",
      "Epoch 177/200\n",
      "629/629 - 2s - loss: 7535980544.0000 - 2s/epoch - 2ms/step\n",
      "Epoch 178/200\n",
      "629/629 - 1s - loss: 7499989504.0000 - 1s/epoch - 2ms/step\n",
      "Epoch 179/200\n",
      "629/629 - 2s - loss: 7528432640.0000 - 2s/epoch - 2ms/step\n",
      "Epoch 180/200\n",
      "629/629 - 2s - loss: 7562184192.0000 - 2s/epoch - 2ms/step\n",
      "Epoch 181/200\n",
      "629/629 - 2s - loss: 7528063488.0000 - 2s/epoch - 2ms/step\n",
      "Epoch 182/200\n",
      "629/629 - 2s - loss: 7542766080.0000 - 2s/epoch - 2ms/step\n",
      "Epoch 183/200\n",
      "629/629 - 2s - loss: 7551694336.0000 - 2s/epoch - 2ms/step\n",
      "Epoch 184/200\n",
      "629/629 - 2s - loss: 7554587136.0000 - 2s/epoch - 2ms/step\n",
      "Epoch 185/200\n",
      "629/629 - 1s - loss: 7523164672.0000 - 1s/epoch - 2ms/step\n",
      "Epoch 186/200\n",
      "629/629 - 2s - loss: 7538614272.0000 - 2s/epoch - 2ms/step\n",
      "Epoch 187/200\n",
      "629/629 - 2s - loss: 7540581888.0000 - 2s/epoch - 2ms/step\n",
      "Epoch 188/200\n",
      "629/629 - 2s - loss: 7543838720.0000 - 2s/epoch - 2ms/step\n",
      "Epoch 189/200\n",
      "629/629 - 2s - loss: 7527691264.0000 - 2s/epoch - 2ms/step\n",
      "Epoch 190/200\n",
      "629/629 - 1s - loss: 7540853248.0000 - 1s/epoch - 2ms/step\n",
      "Epoch 191/200\n",
      "629/629 - 2s - loss: 7523596800.0000 - 2s/epoch - 2ms/step\n",
      "Epoch 192/200\n",
      "629/629 - 2s - loss: 7538753536.0000 - 2s/epoch - 2ms/step\n",
      "Epoch 193/200\n",
      "629/629 - 2s - loss: 7538040832.0000 - 2s/epoch - 2ms/step\n",
      "Epoch 194/200\n",
      "629/629 - 2s - loss: 7528481792.0000 - 2s/epoch - 2ms/step\n",
      "Epoch 195/200\n",
      "629/629 - 2s - loss: 7528880128.0000 - 2s/epoch - 2ms/step\n",
      "Epoch 196/200\n",
      "629/629 - 2s - loss: 7550623744.0000 - 2s/epoch - 2ms/step\n",
      "Epoch 197/200\n",
      "629/629 - 2s - loss: 7524472320.0000 - 2s/epoch - 2ms/step\n",
      "Epoch 198/200\n",
      "629/629 - 2s - loss: 7545498624.0000 - 2s/epoch - 2ms/step\n",
      "Epoch 199/200\n",
      "629/629 - 2s - loss: 7543248896.0000 - 2s/epoch - 2ms/step\n",
      "Epoch 200/200\n",
      "629/629 - 2s - loss: 7511184384.0000 - 2s/epoch - 2ms/step\n"
     ]
    },
    {
     "data": {
      "text/plain": [
       "<keras.callbacks.History at 0xd3ce5465e0>"
      ]
     },
     "execution_count": 14,
     "metadata": {},
     "output_type": "execute_result"
    }
   ],
   "source": [
    "model = Sequential()\n",
    "model.add(Dense(8, input_dim=look_back, activation='relu'))\n",
    "model.add(Dense(1))\n",
    "model.compile(loss='mean_squared_error', optimizer='adam')\n",
    "model.fit(trainX, trainY, epochs=200, batch_size=2, verbose=2)"
   ]
  },
  {
   "cell_type": "markdown",
   "metadata": {},
   "source": [
    "### "
   ]
  },
  {
   "cell_type": "code",
   "execution_count": 16,
   "metadata": {},
   "outputs": [
    {
     "name": "stdout",
     "output_type": "stream",
     "text": [
      "Train Score: 7544227328.00 MSE (86857.51 RMSE)\n",
      "Test Score: 13193974784.00 MSE (114865.03 RMSE)\n"
     ]
    }
   ],
   "source": [
    "trainScore = model.evaluate(trainX, trainY, verbose=0)\n",
    "print('Train Score: %.2f MSE (%.2f RMSE)' % (trainScore, math.sqrt(trainScore)))\n",
    "testScore = model.evaluate(testX, testY, verbose=0)\n",
    "print('Test Score: %.2f MSE (%.2f RMSE)' % (testScore, math.sqrt(testScore)))"
   ]
  },
  {
   "cell_type": "code",
   "execution_count": 17,
   "metadata": {},
   "outputs": [
    {
     "data": {
      "image/png": "[encoded data removed]",
      "text/plain": [
       "<Figure size 432x288 with 1 Axes>"
      ]
     },
     "metadata": {
      "needs_background": "light"
     },
     "output_type": "display_data"
    },
    {
     "data": {
      "image/png": "[encoded data removed]",
      "text/plain": [
       "<Figure size 432x288 with 1 Axes>"
      ]
     },
     "metadata": {
      "needs_background": "light"
     },
     "output_type": "display_data"
    },
    {
     "data": {
      "image/png": "[encoded data removed]",
      "text/plain": [
       "<Figure size 432x288 with 1 Axes>"
      ]
     },
     "metadata": {
      "needs_background": "light"
     },
     "output_type": "display_data"
    }
   ],
   "source": [
    "trainPredict = model.predict(trainX)\n",
    "testPredict = model.predict(testX)\n",
    " \n",
    "trainPredictPlot = numpy.empty_like(train)\n",
    "trainPredictPlot[:, :] = numpy.nan\n",
    "trainPredictPlot[look_back:len(trainPredict)+look_back, :] = trainPredict\n",
    " \n",
    "testPredictPlot = numpy.empty_like(train)\n",
    "testPredictPlot[:, :] = numpy.nan\n",
    "testPredictPlot[len(trainPredict)+(look_back*2)+1:len(train)-1, :] = testPredict\n",
    " \n",
    "plt.plot(train)\n",
    "plt.show()\n",
    "plt.plot(trainPredictPlot)\n",
    "plt.plot(testPredictPlot)\n",
    "plt.show()\n",
    "plt.plot(train)\n",
    "plt.plot(trainPredictPlot)\n",
    "plt.plot(testPredictPlot)\n",
    "plt.show()\n"
   ]
  },
  {
   "cell_type": "markdown",
   "metadata": {},
   "source": [
    "The average error in the training data is 86.857 units and the averrage in the test data is 114.865 units sold per day"
   ]
  },
  {
   "cell_type": "markdown",
   "metadata": {},
   "source": [
    "**сеть:  LSTM слои+Conv1D +Dense слой.**"
   ]
  },
  {
   "cell_type": "code",
   "execution_count": null,
   "metadata": {},
   "outputs": [],
   "source": [
    "callbaсk = EarlyStopping(monitor='val_mae', patience=2)\n",
    "\n",
    "model = Sequential()\n",
    "\n",
    "model.add(LSTM(64, input_shape = (inputs.shape[1], inputs.shape[2]), return_sequences=\"True\"))\n",
    "model.add(LSTM(64, return_sequences=\"True\")) # <None, 3,32>\n",
    "model.add(Conv1D(64, 3, activation=\"linear\")) #(None,3,64)\n",
    "#model.add(Conv1D(64, 1, activation=\"linear\"))\n",
    "model.add(Flatten())                          # (None, 3*64)\n",
    "model.add(Dense(3, activation=\"linear\"))      # (None,3)\n",
    "\n",
    "model.add(Dense(1, activation=\"linear\"))\n",
    "\n",
    "model.compile(loss=\"mse\", optimizer=\"adam\", metrics=['mae'])\n",
    "\n",
    "history = model.fit(\n",
    "    dataset_train,\n",
    "    epochs=epochs,\n",
    "    validation_data=dataset_val,\n",
    "    callbacks=[callbaсk, tensorboard_callback])\n",
    "\n",
    "\n",
    "plt.plot(history.history['mae'][1:], \n",
    "         label='Средняя абсолютная ошибка на обучающем наборе')\n",
    "plt.plot(history.history['val_mae'][1:], \n",
    "         label='Средняя абсолютная ошибка на проверочном наборе')\n",
    "plt.ylabel('Средняя ошибка')\n",
    "plt.legend()\n",
    "plt.show()"
   ]
  },
  {
   "cell_type": "code",
   "execution_count": null,
   "metadata": {},
   "outputs": [],
   "source": [
    "\n",
    "\n",
    "\n"
   ]
  },
  {
   "cell_type": "code",
   "execution_count": null,
   "metadata": {},
   "outputs": [],
   "source": []
  },
  {
   "cell_type": "code",
   "execution_count": null,
   "metadata": {},
   "outputs": [],
   "source": []
  },
  {
   "cell_type": "markdown",
   "metadata": {},
   "source": [
    "Все параметры класса RNN<br>\n",
    "Приведём список всех параметров класса RNN в фреймворке PyTorch:<br>\n",
    "nn.RNN<br>\n",
    "__… (input_size, hidden_size, num_layers=1, nonlinearity='tanh', bias=True, … batch_first=False, dropout=0, bidirectional=False) [doc]__\n",
    "\n",
    "Отметим не упомянутый ранее параметр dropout. По умолчанию он равен нулю. При ненулевом значении, после каждого слоя (num_layers > 1), кроме последнего, вставляется слой dropout, который с вероятностью dropout случайно \"отключает\" (делает нулевыми) часть элементов тензоров на выходах каждой ячейке.\n",
    "\n",
    "Установка параметра bias в значение False ликвидирует вектор смещения после перемножения матриц."
   ]
  },
  {
   "cell_type": "markdown",
   "metadata": {},
   "source": [
    "https://qudata.com/ml/ru/NN_RNN_Torch.html - ML: Рекуррентные сети на PyTorch"
   ]
  },
  {
   "cell_type": "markdown",
   "metadata": {},
   "source": [
    "https://www.kaggle.com/code/byronvinu/lstm-network-for-regression/notebook              "
   ]
  },
  {
   "cell_type": "code",
   "execution_count": null,
   "metadata": {},
   "outputs": [],
   "source": []
  }
 ],
 "metadata": {
  "kernelspec": {
   "display_name": "Python 3.8 (causalml)",
   "language": "python",
   "name": "causalml-py38"
  },
  "language_info": {
   "codemirror_mode": {
    "name": "ipython",
    "version": 3
   },
   "file_extension": ".py",
   "mimetype": "text/x-python",
   "name": "python",
   "nbconvert_exporter": "python",
   "pygments_lexer": "ipython3",
   "version": "3.8.5"
  }
 },
 "nbformat": 4,
 "nbformat_minor": 4
}
