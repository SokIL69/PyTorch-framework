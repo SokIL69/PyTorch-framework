{
 "cells": [
  {
   "cell_type": "markdown",
   "metadata": {},
   "source": [
    "# Фреймворк PyTorch для разработки искусственных нейронных сетей\n",
    "# Урок 7. Рекурентные сети для обработки последовательностей"
   ]
  },
  {
   "cell_type": "markdown",
   "metadata": {},
   "source": [
    "# <font color='red'>Практическое задание</font>"
   ]
  },
  {
   "cell_type": "markdown",
   "metadata": {},
   "source": [
    "### Домашнее задание к уроку 7\n",
    "\n",
    "Как было сказано ранее, GAN обучается воспроизводить реальные данные. Поэтому Вам предлагается обучить генератор создавать точки, которые будут лежать на графике функции \n",
    " \n",
    "#### y=sin(x)/x-x/10\n",
    " \n",
    " При выполнении данного задания структура GAN остается той же, но Вам нужно:\n",
    "- Сгенерировать настоящие данные\n",
    "- Изменить архитектуру дискриминатора и генератора\n",
    "- Без графиков домашку не принимаю"
   ]
  },
  {
   "cell_type": "markdown",
   "metadata": {},
   "source": [
    "Выполнил ___Соковнин ИЛ___"
   ]
  },
  {
   "cell_type": "code",
   "execution_count": 1,
   "metadata": {},
   "outputs": [],
   "source": [
    "import os\n",
    "import numpy as np\n",
    "import math\n",
    "\n",
    "import matplotlib.pyplot as plt"
   ]
  },
  {
   "cell_type": "markdown",
   "metadata": {},
   "source": [
    "#### Построим график функции\n",
    "\n",
    "$$y=\\frac{sin(x)}{x}-\\frac{x}{10}$$"
   ]
  },
  {
   "cell_type": "code",
   "execution_count": 2,
   "metadata": {},
   "outputs": [],
   "source": [
    "MIN_X = -15\n",
    "MAX_X = 15"
   ]
  },
  {
   "cell_type": "code",
   "execution_count": 3,
   "metadata": {},
   "outputs": [],
   "source": [
    "x = np.linspace(MIN_X, MAX_X, 3500)\n",
    "y = lambda x: ((np.sin(x)/x) - (x/10))"
   ]
  },
  {
   "cell_type": "code",
   "execution_count": 4,
   "metadata": {},
   "outputs": [
    {
     "name": "stdout",
     "output_type": "stream",
     "text": [
      "3500 3500\n"
     ]
    },
    {
     "data": {
      "text/plain": [
       "(array([-15.        , -14.99142612, -14.98285224, ...,  14.98285224,\n",
       "         14.99142612,  15.        ]),\n",
       " array([ 1.54335252,  1.54295281,  1.5425504 , ..., -1.45402005,\n",
       "        -1.45533242, -1.45664748]))"
      ]
     },
     "execution_count": 4,
     "metadata": {},
     "output_type": "execute_result"
    }
   ],
   "source": [
    "print(len(x), len(y(x)))\n",
    "x, y(x)"
   ]
  },
  {
   "cell_type": "code",
   "execution_count": 5,
   "metadata": {},
   "outputs": [
    {
     "data": {
      "text/plain": [
       "<function matplotlib.pyplot.show(close=None, block=None)>"
      ]
     },
     "execution_count": 5,
     "metadata": {},
     "output_type": "execute_result"
    },
    {
     "data": {
      "image/png": "[encoded data removed]",
      "text/plain": [
       "<Figure size 432x288 with 1 Axes>"
      ]
     },
     "metadata": {
      "needs_background": "light"
     },
     "output_type": "display_data"
    }
   ],
   "source": [
    "plt.plot(x, y(x))\n",
    "plt.show"
   ]
  },
  {
   "cell_type": "code",
   "execution_count": 6,
   "metadata": {},
   "outputs": [],
   "source": [
    "import torch.nn as nn\n",
    "import torch"
   ]
  },
  {
   "cell_type": "markdown",
   "metadata": {},
   "source": [
    "Определим нужное нам устройство:"
   ]
  },
  {
   "cell_type": "code",
   "execution_count": 7,
   "metadata": {},
   "outputs": [
    {
     "name": "stdout",
     "output_type": "stream",
     "text": [
      "cpu\n"
     ]
    }
   ],
   "source": [
    "use_cuda = torch.cuda.is_available()\n",
    "# device = torch.device(\"cpu\")\n",
    "device = torch.device('cuda') if torch.cuda.is_available() else torch.device('cpu')\n",
    "print(device)"
   ]
  },
  {
   "cell_type": "markdown",
   "metadata": {},
   "source": [
    "### - Сгенерировать настоящие (обучающие) данные"
   ]
  },
  {
   "cell_type": "code",
   "execution_count": 8,
   "metadata": {},
   "outputs": [],
   "source": [
    "BATCH_SIZE = 256\n",
    "DATA_SIZE = BATCH_SIZE * 300\n",
    "\n",
    "NUM_POINT = 100500"
   ]
  },
  {
   "cell_type": "code",
   "execution_count": 9,
   "metadata": {},
   "outputs": [
    {
     "name": "stdout",
     "output_type": "stream",
     "text": [
      "76800\n"
     ]
    }
   ],
   "source": [
    "real_x = np.linspace(MIN_X, MAX_X, NUM_POINT)  # Return evenly spaced numbers over a specified interval.\n",
    "np.random.shuffle(real_x)  ## shuffle (перемешать) the array \n",
    "real_x = real_x[: DATA_SIZE]\n",
    "real_y = y(real_x)\n",
    "\n",
    "print(real_x.shape[0])"
   ]
  },
  {
   "cell_type": "code",
   "execution_count": 10,
   "metadata": {},
   "outputs": [
    {
     "data": {
      "text/plain": [
       "array([[-11.03667698,   1.01313724],\n",
       "       [-10.42353655,   0.96169009],\n",
       "       [ -9.46979572,   0.94222735],\n",
       "       ...,\n",
       "       [  7.17395198,  -0.60900946],\n",
       "       [ 14.72775849,  -1.41637817],\n",
       "       [ -9.87457587,   0.94342698]])"
      ]
     },
     "execution_count": 10,
     "metadata": {},
     "output_type": "execute_result"
    }
   ],
   "source": [
    "# Create an array.\n",
    "real_data = np.array([[real_x[i], real_y[i]] for i in range(real_x.shape[0])])\n",
    "real_data"
   ]
  },
  {
   "cell_type": "code",
   "execution_count": 11,
   "metadata": {},
   "outputs": [
    {
     "data": {
      "text/plain": [
       "76800"
      ]
     },
     "execution_count": 11,
     "metadata": {},
     "output_type": "execute_result"
    }
   ],
   "source": [
    "256 * 300"
   ]
  },
  {
   "cell_type": "code",
   "execution_count": 12,
   "metadata": {},
   "outputs": [
    {
     "data": {
      "text/plain": [
       "(76800, 2)"
      ]
     },
     "execution_count": 12,
     "metadata": {},
     "output_type": "execute_result"
    }
   ],
   "source": [
    "real_loader = torch.utils.data.DataLoader(\n",
    "    real_data, \n",
    "    batch_size=BATCH_SIZE,\n",
    "    num_workers=1,\n",
    "    shuffle=True,\n",
    ")\n",
    "\n",
    "real_loader.dataset.data.shape"
   ]
  },
  {
   "cell_type": "markdown",
   "metadata": {},
   "source": [
    "### 2. Создание модели"
   ]
  },
  {
   "cell_type": "markdown",
   "metadata": {},
   "source": [
    "#### 2.1 Генератор:\n",
    "\n",
    "Генератор G предназначен для отображения вектора скрытого пространства (z) в пространство данных. "
   ]
  },
  {
   "cell_type": "code",
   "execution_count": 13,
   "metadata": {},
   "outputs": [],
   "source": [
    "class Generator(nn.Module):\n",
    "    def __init__(self):\n",
    "        super().__init__()\n",
    "        \n",
    "        def block(in_feat, out_feat, normalize=True):  # activation='relu\n",
    "            layers = [nn.Linear(in_feat, out_feat)]  # Если мы создаем последовательность слоев - то мы задаем их\n",
    "                                                     # с помощью списка.\n",
    "            if normalize:\n",
    "                layers.append(nn.BatchNorm1d(out_feat, 0.8))\n",
    "            layers.append(nn.LeakyReLU(0.2, inplace=True))\n",
    "            return layers\n",
    "\n",
    "        self.model = nn.Sequential(\n",
    "            *block(LATENT_DIM, 128, normalize=False),  # Звездочка означает unpacking списка\n",
    "            *block(128, 256),\n",
    "            *block(256, 512),\n",
    "            *block(512, 1024),\n",
    "            nn.Linear(1024, 2)\n",
    "#             nn.Linear(1024, int(np.prod(img_shape))),\n",
    "#             nn.Tanh()  # переводит набор чисел в диапазон от -1 до 1\n",
    "        )\n",
    "\n",
    "    def forward(self, z):\n",
    "        img = self.model(z)\n",
    "#         img = img.view(img.size(0), *img_shape)\n",
    "        return img"
   ]
  },
  {
   "cell_type": "code",
   "execution_count": 14,
   "metadata": {},
   "outputs": [],
   "source": [
    "from torch.autograd import Variable  # Variable это надстройка над Tensor, \n",
    "# которая позволяет подсчитывать градиенты для обратного распространения ошибки."
   ]
  },
  {
   "cell_type": "markdown",
   "metadata": {},
   "source": [
    "#### 2.2 Дискриминатор:"
   ]
  },
  {
   "cell_type": "markdown",
   "metadata": {},
   "source": [
    "Создаём свой слой"
   ]
  },
  {
   "cell_type": "code",
   "execution_count": 15,
   "metadata": {},
   "outputs": [],
   "source": [
    "class CustomLinearLayer(nn.Module):\n",
    "    def __init__(self, size_in, size_out):\n",
    "        super().__init__()\n",
    "        self.size_in, self.size_out = size_in, size_out\n",
    "        \n",
    "        weights = torch.Tensor(size_out, size_in)\n",
    "        self.weights = nn.Parameter(weights) # Обьявляем веса кка параметры слоя\n",
    "\n",
    "        bias = torch.Tensor(size_out)\n",
    "        self.bias = nn.Parameter(bias)\n",
    "\n",
    "        nn.init.uniform_(self.weights, -0.005, 0.005) \n",
    "        nn.init.uniform_(self.bias, -0.005, 0.005)  \n",
    "\n",
    "    def forward(self, x):\n",
    "        # По формуле линейного слоя, нам нужно умножить наши данные на трнспонированные веса и добавить смещение\n",
    "        w_times_x = torch.mm(x, self.weights.t())\n",
    "        return torch.add(w_times_x, self.bias)  "
   ]
  },
  {
   "cell_type": "markdown",
   "metadata": {},
   "source": [
    "#### Создаем дискриминатор"
   ]
  },
  {
   "cell_type": "code",
   "execution_count": 16,
   "metadata": {},
   "outputs": [],
   "source": [
    "class Discriminator(nn.Module):\n",
    "    def __init__(self):\n",
    "        super().__init__()\n",
    "\n",
    "        self.model = nn.Sequential(\n",
    "            CustomLinearLayer(2, 512),\n",
    "            nn.LeakyReLU(0.2, inplace=True),\n",
    "            CustomLinearLayer(512, 256),\n",
    "            nn.LeakyReLU(0.2, inplace=True),\n",
    "            CustomLinearLayer(256, 1),  # на выходе 1 unit, на котором будет решаться задача классификации\n",
    "            nn.Sigmoid(),\n",
    "        )\n",
    "  \n",
    "\n",
    "    def forward(self, img):\n",
    "        img_flat = img.view(img.size(0), -1)\n",
    "        validity = self.model(img_flat)\n",
    "\n",
    "        return validity"
   ]
  },
  {
   "cell_type": "markdown",
   "metadata": {},
   "source": [
    "# 3. Обучение"
   ]
  },
  {
   "cell_type": "markdown",
   "metadata": {},
   "source": [
    "Инициализация:"
   ]
  },
  {
   "cell_type": "code",
   "execution_count": 17,
   "metadata": {},
   "outputs": [],
   "source": [
    "n_epochs = 200 # количество эпох\n",
    "lr = 0.0002 # шаг обучения\n",
    "\n",
    "b1 = 0.5 # гиперпараметр для оптимайзера Adam\n",
    "b2 = 0.999 # гиперпараметр для оптимайзера Adam\n",
    "\n",
    "LATENT_DIM = 100 # Размерность случайного вектора, который подается на вход генератору\n",
    "sample_interval = 25 # количество картинок для отображения процесса обучения"
   ]
  },
  {
   "cell_type": "code",
   "execution_count": 18,
   "metadata": {},
   "outputs": [],
   "source": [
    "generator = Generator().to(device)\n",
    "discriminator = Discriminator().to(device)"
   ]
  },
  {
   "cell_type": "code",
   "execution_count": 19,
   "metadata": {},
   "outputs": [],
   "source": [
    "# Для каждой нейронки свой опитимизатор\n",
    "optimizer_G = torch.optim.Adam(generator.parameters(), lr=lr, betas=(b1, b2))\n",
    "optimizer_D = torch.optim.Adam(discriminator.parameters(), lr=lr, betas=(b1, b2))\n",
    "\n",
    "# Функция ошибки одна общая\n",
    "adversarial_loss = torch.nn.BCELoss()"
   ]
  },
  {
   "cell_type": "code",
   "execution_count": 20,
   "metadata": {},
   "outputs": [],
   "source": [
    "d_loss_history = []\n",
    "g_loss_history = []"
   ]
  },
  {
   "cell_type": "code",
   "execution_count": 21,
   "metadata": {},
   "outputs": [],
   "source": [
    "from IPython import display"
   ]
  },
  {
   "cell_type": "markdown",
   "metadata": {},
   "source": [
    "Процесс обучения:"
   ]
  },
  {
   "cell_type": "code",
   "execution_count": 22,
   "metadata": {},
   "outputs": [
    {
     "name": "stdout",
     "output_type": "stream",
     "text": [
      "[Epoch 199/200] [Batch 281/256] [D loss: 0.695720] [G loss: 0.686756]\n"
     ]
    },
    {
     "data": {
      "text/plain": [
       "<Figure size 432x288 with 0 Axes>"
      ]
     },
     "metadata": {},
     "output_type": "display_data"
    },
    {
     "data": {
      "image/png": "[encoded data removed]",
      "text/plain": [
       "<Figure size 432x288 with 1 Axes>"
      ]
     },
     "metadata": {
      "needs_background": "light"
     },
     "output_type": "display_data"
    }
   ],
   "source": [
    "import matplotlib.patches as mpatches\n",
    "\n",
    "red_patch = mpatches.Patch(color='red', label='D loss')\n",
    "green_patch = mpatches.Patch(color='green', label='G loss')\n",
    "\n",
    "for epoch in range(n_epochs):\n",
    "           \n",
    "#     for i, (imgs, labels) in enumerate(real_data):\n",
    "      for i, data in enumerate(real_loader):\n",
    "        \n",
    "##################### Лейблы для данных: 1 - настоящие, 0 - сгенерированные ########\n",
    "        valid = torch.FloatTensor(BATCH_SIZE, 1).fill_(1.0).to(device)\n",
    "        fake = torch.FloatTensor(BATCH_SIZE, 1).fill_(0.0).to(device)\n",
    "\n",
    "#       real_imgs = imgs.type(torch.FloatTensor).to(device)\n",
    "        real_data = Variable(data.type(torch.FloatTensor)).to(device)\n",
    "\n",
    "######################  Тренировка генератора    ##########################\n",
    "\n",
    "        optimizer_G.zero_grad()\n",
    "    \n",
    "        #генерация шума\n",
    "        z = torch.FloatTensor(np.random.normal(0, 1, (BATCH_SIZE, LATENT_DIM))).to(device)  # размерность нашего вектора (выставляем сами)\n",
    "        \n",
    "        # Генерируем даные Генератором на основе шума\n",
    "        gen_imgs = generator(z)\n",
    "        \n",
    "        # Подаем сгенерированые данные на Дискриминатор \n",
    "        validity = discriminator(gen_imgs)\n",
    "        \n",
    "        # Тут сравниваем предсказанные значения Дискриминатора(на основе сгенерировнных данных) с настоящими\n",
    "        g_loss = adversarial_loss(validity, valid)\n",
    "        \n",
    "        # Делаем шаг обучения нашего Генератора\n",
    "        g_loss.backward()\n",
    "        optimizer_G.step()\n",
    "        \n",
    "######################  Тренировка дискриминатора    ##########################\n",
    "\n",
    "        optimizer_D.zero_grad()\n",
    "        \n",
    "        # Получаем предсказания дискриминатора на основе реальных данных\n",
    "#         real_pred = discriminator(real_imgs)\n",
    "        real_pred = discriminator(real_data)\n",
    "        \n",
    "        # Тут сравниваем предсказанные значения Дискриминатора(на основе настоящих данных) с настоящими\n",
    "        d_real_loss = adversarial_loss(real_pred, valid)\n",
    "        \n",
    "        # Опять делаем предсказание на Дискриминаторе с помощью сгенерированных данных\n",
    "        fake_pred = discriminator(gen_imgs.detach())\n",
    "        \n",
    "        # расчитываем ошибку предсказанного с фейковыми лейблами (36:30)\n",
    "        d_fake_loss = adversarial_loss(fake_pred, fake)\n",
    "        \n",
    "        # И усредняем два лосса в один\n",
    "        d_loss = (d_real_loss + d_fake_loss) / 2\n",
    "\n",
    "        d_loss.backward()\n",
    "        optimizer_D.step()\n",
    "        \n",
    "        \n",
    "######## Отображение процесса обучения и вывод функций потерь ############\n",
    "        batches_done = epoch * len(real_data) + i\n",
    "    \n",
    "        if batches_done % sample_interval == 0:\n",
    "            with torch.no_grad():\n",
    "                plt.clf()\n",
    "\n",
    "                display.clear_output(wait=False)\n",
    "#                 sample_image(gen_imgs)\n",
    "#                 print(gen_imgs)\n",
    "                print(\"[Epoch %d/%d] [Batch %d/%d] [D loss: %f] [G loss: %f]\"% (epoch, n_epochs, i, len(real_data), d_loss.item(), g_loss.item()) ) \n",
    "\n",
    "\n",
    "                display.display(plt.gcf())\n",
    "\n",
    "                d_loss = d_loss.cpu().detach()\n",
    "                g_loss = g_loss.cpu().detach()\n",
    "\n",
    "\n",
    "                d_loss_history.append(d_loss)\n",
    "                \n",
    "                \n",
    "                g_loss_history.append(g_loss)\n",
    "\n",
    "                plt.plot(np.log(np.array(d_loss_history)), label='D loss', color = 'red')\n",
    "                plt.plot(np.log(np.array(g_loss_history)), label='G loss', color = 'green')\n",
    "                plt.legend(handles=[red_patch, green_patch])\n",
    "                plt.show()\n"
   ]
  },
  {
   "cell_type": "code",
   "execution_count": 23,
   "metadata": {},
   "outputs": [],
   "source": [
    "generator.eval()\n",
    "\n",
    "x = torch.FloatTensor(\n",
    "        np.random.normal(\n",
    "                    0, 1, (BATCH_SIZE, LATENT_DIM)\n",
    "            )\n",
    "        ).to(device)  # размерность нашего вектора (выставляем сами)\n",
    "\n",
    "with torch.no_grad():\n",
    "    pred = generator(x)\n",
    "\n",
    "pred = pred.cpu().detach().numpy()"
   ]
  },
  {
   "cell_type": "code",
   "execution_count": 24,
   "metadata": {},
   "outputs": [
    {
     "data": {
      "image/png": "[encoded data removed]",
      "text/plain": [
       "<Figure size 1440x1440 with 1 Axes>"
      ]
     },
     "metadata": {
      "needs_background": "light"
     },
     "output_type": "display_data"
    }
   ],
   "source": [
    "from matplotlib.pyplot import figure\n",
    "\n",
    "figure(num=None, figsize=(20, 20))\n",
    "\n",
    "real_x = np.linspace(MIN_X, MAX_X, 3500)\n",
    "plt.plot(real_x, y(real_x), label='real y', color = 'red')\n",
    "\n",
    "p = pred[:,0].argsort()\n",
    "plt.plot(pred[:,0][p], pred[:, 1][p], label='pred y', color = 'darkblue')\n",
    "\n",
    "plt.legend()\n",
    "plt.show()"
   ]
  },
  {
   "cell_type": "code",
   "execution_count": null,
   "metadata": {},
   "outputs": [],
   "source": []
  }
 ],
 "metadata": {
  "kernelspec": {
   "display_name": "Python 3.8 (causalml)",
   "language": "python",
   "name": "causalml-py38"
  },
  "language_info": {
   "codemirror_mode": {
    "name": "ipython",
    "version": 3
   },
   "file_extension": ".py",
   "mimetype": "text/x-python",
   "name": "python",
   "nbconvert_exporter": "python",
   "pygments_lexer": "ipython3",
   "version": "3.8.5"
  }
 },
 "nbformat": 4,
 "nbformat_minor": 4
}
