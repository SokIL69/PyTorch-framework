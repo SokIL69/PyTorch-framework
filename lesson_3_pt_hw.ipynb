{
  "cells": [
    {
      "cell_type": "markdown",
      "metadata": {
        "id": "w37RraF5POtl"
      },
      "source": [
        "# Фреймворк PyTorch для разработки искусственных нейронных сетей\n",
        "# Урок 3. Dataset, Dataloader, BatchNorm, Dropout, Оптимизация"
      ]
    },
    {
      "cell_type": "markdown",
      "metadata": {
        "id": "kqSRAl3fQo-o"
      },
      "source": [
        "# <font color='red'>Практическое задание</font>\n"
      ]
    },
    {
      "cell_type": "markdown",
      "metadata": {
        "id": "taYFEzJ7Zuix"
      },
      "source": [
        "# Попрактикуемся с тем, что изучили\n",
        "\n",
        "Будем практиковаться на датасете:\n",
        "https://www.kaggle.com/c/avito-demand-prediction\n",
        "\n",
        "Ваша задача:\n",
        "1. Создать Dataset для загрузки данных (используем только числовые данные)\n",
        "2. Обернуть его в Dataloader\n",
        "3. Написать архитектуру сети, которая предсказывает число показов на основании числовых данных (вы всегда можете нагенерить дополнительных факторов). Сеть должна включать BatchNorm слои и Dropout (или НЕ включать, но нужно обосновать)\n",
        "4. Учить будем на функцию потерь с кагла (log RMSE) - нужно её реализовать\n",
        "5. Сравните сходимость Adam, RMSProp и SGD, сделайте вывод по качеству работы модели\n",
        "\n",
        "train-test разделение нужно сделать с помощью sklearn random_state=13, test_size = 0.25\n",
        "\n",
        "Вопросы? в личку @Kinetikm"
      ]
    },
    {
      "cell_type": "markdown",
      "metadata": {
        "id": "yyJqbkmOt8wp"
      },
      "source": [
        "Выполнил ___Соковнин ИЛ___"
      ]
    },
    {
      "cell_type": "markdown",
      "metadata": {
        "id": "s42lAjSWtzQQ"
      },
      "source": [
        "## Как загрузить данные на Colaboratory"
      ]
    },
    {
      "cell_type": "markdown",
      "metadata": {
        "id": "i7YzT8DStzVY"
      },
      "source": [
        "https://www.youtube.com/watch?v=Ve5oW1qqbZg<br>\n",
        "https://colab.research.google.com/drive/1e3bbNmpQ1Wremp4O5NiNOgqTV-_WG5wL#scrollTo=1_lwnzf4Bhlu"
      ]
    },
    {
      "cell_type": "markdown",
      "metadata": {
        "id": "cwUpWJETHLRI"
      },
      "source": [
        "## __Шаг 0. Подготовка данных__<br>\n",
        "\n",
        "Загружаем данные с Google Drive, затем распаковываем их в папку /content/drive/my_drive/data"
      ]
    },
    {
      "cell_type": "code",
      "execution_count": 1,
      "metadata": {
        "colab": {
          "base_uri": "https://localhost:8080/"
        },
        "id": "orjtfQkCxae8",
        "outputId": "87f55f50-8474-4ada-fcb0-af212a80b074"
      },
      "outputs": [
        {
          "output_type": "stream",
          "name": "stdout",
          "text": [
            "total 16\n",
            "drwxr-xr-x 1 root root 4096 Mar 23 14:22 .\n",
            "drwxr-xr-x 1 root root 4096 Mar 30 08:53 ..\n",
            "drwxr-xr-x 4 root root 4096 Mar 23 14:21 .config\n",
            "drwxr-xr-x 1 root root 4096 Mar 23 14:22 sample_data\n"
          ]
        }
      ],
      "source": [
        "!ls -la"
      ]
    },
    {
      "cell_type": "markdown",
      "metadata": {
        "id": "I_h6FEOBy6vt"
      },
      "source": [
        "Создаём дирректорию для данных"
      ]
    },
    {
      "cell_type": "code",
      "execution_count": 2,
      "metadata": {
        "id": "66P7xUn9xf2x"
      },
      "outputs": [],
      "source": [
        "!mkdir -p /content/drive/my_drive/data"
      ]
    },
    {
      "cell_type": "markdown",
      "metadata": {
        "id": "KA7vI9LSiKBm"
      },
      "source": [
        "## Использование Google Drive\n",
        "\n",
        "Копирование больших файлов просходит значительно быстрее, если использовать Google Drive.\n",
        "\n",
        "Подключение Google Drive к виртуальной машине:"
      ]
    },
    {
      "cell_type": "code",
      "execution_count": 3,
      "metadata": {
        "colab": {
          "base_uri": "https://localhost:8080/"
        },
        "id": "lPAImmf-aFc2",
        "outputId": "b840d399-a6e9-492f-9a72-91bfc73a2219"
      },
      "outputs": [
        {
          "output_type": "stream",
          "name": "stdout",
          "text": [
            "Mounted at /content/gdrive\n"
          ]
        }
      ],
      "source": [
        "from google.colab import drive\n",
        "drive.mount('/content/gdrive', force_remount=True)"
      ]
    },
    {
      "cell_type": "code",
      "execution_count": 4,
      "metadata": {
        "colab": {
          "base_uri": "https://localhost:8080/"
        },
        "id": "-0Q4w4QfuNN2",
        "outputId": "1823dd34-6fd3-42cd-de78-d16fa3da529f"
      },
      "outputs": [
        {
          "output_type": "stream",
          "name": "stdout",
          "text": [
            "total 2332713\n",
            "drwx------ 2 root root       4096 Dec  9  2020 'Colab Notebooks'\n",
            "-rw------- 1 root root 2388667849 Dec  4 16:43  features.csv.zip\n",
            "drwx------ 2 root root       4096 Jan 21 08:43  nn\n",
            "drwx------ 2 root root       4096 Mar 27 08:53  PyTorch\n",
            "-rw------- 1 root root      15020 Oct 29  2020  task_1.drawio\n",
            "-rw------- 1 root root       1767 Oct 29  2020 'Untitled Diagram.drawio'\n",
            "-rw------- 1 root root        143 Apr  2  2021  Резюме.gdoc\n"
          ]
        }
      ],
      "source": [
        "!ls /content/gdrive/\"My Drive\" -la"
      ]
    },
    {
      "cell_type": "code",
      "execution_count": 5,
      "metadata": {
        "colab": {
          "base_uri": "https://localhost:8080/"
        },
        "id": "iybNs3ILv2vF",
        "outputId": "582f746e-2431-4e9c-d28b-25e906d1536a"
      },
      "outputs": [
        {
          "output_type": "stream",
          "name": "stdout",
          "text": [
            "total 443208\n",
            "-rw------- 1 root root   4144048 Mar 27 08:34 sample_submission.csv.zip\n",
            "-rw------- 1 root root 116236318 Mar 28 08:46 test.csv.zip\n",
            "-rw------- 1 root root 333463334 Mar 28 08:48 train.csv.zip\n"
          ]
        }
      ],
      "source": [
        "!ls /content/gdrive/\"My Drive\"/PyTorch/lesson3/data -la"
      ]
    },
    {
      "cell_type": "markdown",
      "metadata": {
        "id": "i-rlJe72u_g3"
      },
      "source": [
        "Просматриваем подключенные диски"
      ]
    },
    {
      "cell_type": "code",
      "execution_count": 6,
      "metadata": {
        "colab": {
          "base_uri": "https://localhost:8080/"
        },
        "id": "bL5Cxodfu1d9",
        "outputId": "44dd8dc9-8dbd-4330-ae88-2d55bbff8758"
      },
      "outputs": [
        {
          "output_type": "stream",
          "name": "stdout",
          "text": [
            "Filesystem      Size  Used Avail Use% Mounted on\n",
            "overlay         108G   40G   69G  37% /\n",
            "tmpfs            64M     0   64M   0% /dev\n",
            "shm             5.8G     0  5.8G   0% /dev/shm\n",
            "/dev/root       2.0G  1.2G  817M  59% /sbin/docker-init\n",
            "tmpfs           6.4G   32K  6.4G   1% /var/colab\n",
            "/dev/sda1        81G   44G   38G  54% /etc/hosts\n",
            "tmpfs           6.4G     0  6.4G   0% /proc/acpi\n",
            "tmpfs           6.4G     0  6.4G   0% /proc/scsi\n",
            "tmpfs           6.4G     0  6.4G   0% /sys/firmware\n",
            "drive            15G  3.3G   12G  22% /content/gdrive\n"
          ]
        }
      ],
      "source": [
        "!df -h"
      ]
    },
    {
      "cell_type": "code",
      "execution_count": 7,
      "metadata": {
        "colab": {
          "base_uri": "https://localhost:8080/"
        },
        "id": "w-m2qR9lvB_8",
        "outputId": "604cf226-fd29-48ce-940b-5c86fe87d998"
      },
      "outputs": [
        {
          "output_type": "stream",
          "name": "stdout",
          "text": [
            "/content\n"
          ]
        }
      ],
      "source": [
        "!pwd"
      ]
    },
    {
      "cell_type": "markdown",
      "metadata": {
        "id": "V4clA9MsvI69"
      },
      "source": [
        "Просматриваем содержимое диска"
      ]
    },
    {
      "cell_type": "code",
      "execution_count": 8,
      "metadata": {
        "colab": {
          "base_uri": "https://localhost:8080/"
        },
        "id": "atPSj1ExvFnn",
        "outputId": "f2536e39-bdf1-49db-bcb6-068f9de1b8b6"
      },
      "outputs": [
        {
          "output_type": "stream",
          "name": "stdout",
          "text": [
            "MyDrive\n"
          ]
        }
      ],
      "source": [
        "!ls /content/gdrive/"
      ]
    },
    {
      "cell_type": "code",
      "execution_count": 9,
      "metadata": {
        "colab": {
          "base_uri": "https://localhost:8080/"
        },
        "id": "24coLVDmvLlw",
        "outputId": "7c8672a1-e2ca-463f-d064-d763358e9ad7"
      },
      "outputs": [
        {
          "output_type": "stream",
          "name": "stdout",
          "text": [
            "total 443208\n",
            "-rw------- 1 root root   4144048 Mar 27 08:34 sample_submission.csv.zip\n",
            "-rw------- 1 root root 116236318 Mar 28 08:46 test.csv.zip\n",
            "-rw------- 1 root root 333463334 Mar 28 08:48 train.csv.zip\n"
          ]
        }
      ],
      "source": [
        "!ls /content/gdrive/\"My Drive\"/PyTorch/lesson3/data -la"
      ]
    },
    {
      "cell_type": "markdown",
      "metadata": {
        "id": "Xeeq8s0avTFM"
      },
      "source": [
        "Копирование данных с Google Drive на локальный диск виртуальной машины"
      ]
    },
    {
      "cell_type": "code",
      "execution_count": 10,
      "metadata": {
        "id": "m5hcoRySvOpq"
      },
      "outputs": [],
      "source": [
        "# !cp /content/gdrive/'My Drive'/PyTorch/lesson3/data/*.* .\n",
        "!cp /content/gdrive/'My Drive'/PyTorch/lesson3/data/train.csv.zip ."
      ]
    },
    {
      "cell_type": "code",
      "execution_count": 11,
      "metadata": {
        "colab": {
          "base_uri": "https://localhost:8080/"
        },
        "id": "qkD0nHtKx5b6",
        "outputId": "012f7ef0-2694-4226-9d10-f2e166211980"
      },
      "outputs": [
        {
          "output_type": "stream",
          "name": "stdout",
          "text": [
            "total 325676\n",
            "drwxr-xr-x 1 root root      4096 Mar 30 08:55 .\n",
            "drwxr-xr-x 1 root root      4096 Mar 30 08:53 ..\n",
            "drwxr-xr-x 4 root root      4096 Mar 23 14:21 .config\n",
            "drwxr-xr-x 3 root root      4096 Mar 30 08:54 drive\n",
            "drwx------ 5 root root      4096 Mar 30 08:55 gdrive\n",
            "drwxr-xr-x 1 root root      4096 Mar 23 14:22 sample_data\n",
            "-rw------- 1 root root 333463334 Mar 30 08:55 train.csv.zip\n"
          ]
        }
      ],
      "source": [
        "!ls -la"
      ]
    },
    {
      "cell_type": "code",
      "execution_count": 12,
      "metadata": {
        "id": "o5ozKn0EkIgn"
      },
      "outputs": [],
      "source": [
        "!mv train.csv.zip /content/drive/my_drive/data/train.csv.zip\n",
        "# !mv test.csv.zip /content/drive/my_drive/data/test.csv.zip\n",
        "# !mv sample_submission.csv.zip /content/drive/my_drive/data/sample_submission.csv.zip"
      ]
    },
    {
      "cell_type": "code",
      "execution_count": 13,
      "metadata": {
        "colab": {
          "base_uri": "https://localhost:8080/"
        },
        "id": "fGa44e5FwtCR",
        "outputId": "9630b243-341c-4e52-b56a-82209499cce7"
      },
      "outputs": [
        {
          "output_type": "stream",
          "name": "stdout",
          "text": [
            "total 24\n",
            "drwxr-xr-x 1 root root 4096 Mar 30 08:55 .\n",
            "drwxr-xr-x 1 root root 4096 Mar 30 08:53 ..\n",
            "drwxr-xr-x 4 root root 4096 Mar 23 14:21 .config\n",
            "drwxr-xr-x 3 root root 4096 Mar 30 08:54 drive\n",
            "drwx------ 5 root root 4096 Mar 30 08:55 gdrive\n",
            "drwxr-xr-x 1 root root 4096 Mar 23 14:22 sample_data\n"
          ]
        }
      ],
      "source": [
        "!ls -la"
      ]
    },
    {
      "cell_type": "markdown",
      "metadata": {
        "id": "VqupQHg5yUmh"
      },
      "source": [
        "Распаковка"
      ]
    },
    {
      "cell_type": "code",
      "execution_count": 14,
      "metadata": {
        "colab": {
          "base_uri": "https://localhost:8080/"
        },
        "id": "0VzRVyBoyigc",
        "outputId": "3ce55b51-981f-4483-8da0-6e8cf1eed4c0"
      },
      "outputs": [
        {
          "output_type": "stream",
          "name": "stdout",
          "text": [
            "total 325660\n",
            "drwxr-xr-x 2 root root      4096 Mar 30 08:55 .\n",
            "drwxr-xr-x 3 root root      4096 Mar 30 08:54 ..\n",
            "-rw------- 1 root root 333463334 Mar 30 08:55 train.csv.zip\n"
          ]
        }
      ],
      "source": [
        "!ls -la /content/drive/my_drive/data"
      ]
    },
    {
      "cell_type": "code",
      "execution_count": 15,
      "metadata": {
        "colab": {
          "base_uri": "https://localhost:8080/"
        },
        "id": "pg2q-RYJyR4k",
        "outputId": "f0ea674b-d533-4579-ac56-8c7ee4d21d59"
      },
      "outputs": [
        {
          "output_type": "stream",
          "name": "stdout",
          "text": [
            "Archive:  /content/drive/my_drive/data/train.csv.zip\n",
            "  inflating: /content/drive/my_drive/data/train.csv  \n"
          ]
        }
      ],
      "source": [
        "!unzip '/content/drive/my_drive/data/train.csv.zip' -d '/content/drive/my_drive/data'\n",
        "# !unzip '/content/drive/my_drive/data/test.csv.zip' -d '/content/drive/my_drive/data'\n",
        "# !unzip '/content/drive/my_drive/data/sample_submission.csv.zip' -d '/content/drive/my_drive/data'"
      ]
    },
    {
      "cell_type": "markdown",
      "metadata": {
        "id": "E00eppsLzSrN"
      },
      "source": [
        "# Import libs"
      ]
    },
    {
      "cell_type": "code",
      "execution_count": 16,
      "metadata": {
        "id": "7O9Stnyfy0fj"
      },
      "outputs": [],
      "source": [
        "import os, sys\n",
        "import numpy as np\n",
        "import pandas as pd\n",
        "\n",
        "import torch\n",
        "from torch import nn\n",
        "from torch import optim\n",
        "\n",
        "import torchvision\n",
        "import torchvision.transforms as transforms\n",
        "\n",
        "from tqdm import tqdm  # means \"progress\" in Arabic (taqadum)\n",
        "\n",
        "# import matplotlib.pyplot as plt ### воспользуемся для отображения изображения"
      ]
    },
    {
      "cell_type": "code",
      "execution_count": 17,
      "metadata": {
        "colab": {
          "base_uri": "https://localhost:8080/"
        },
        "id": "WsJIzHvEzgRM",
        "outputId": "78a51e5a-96c7-4361-dee9-afeba10272f7"
      },
      "outputs": [
        {
          "output_type": "stream",
          "name": "stdout",
          "text": [
            "/content\n"
          ]
        }
      ],
      "source": [
        "!pwd"
      ]
    },
    {
      "cell_type": "markdown",
      "metadata": {
        "id": "DbEg4o2QtrUO"
      },
      "source": [
        "## _File and column descriptions_\n",
        "\n",
        "### __train.csv__ - Train data.\n",
        "\n",
        "__item_id__ - Ad id.<br>\n",
        "__user_id__ - User id.<br>\n",
        "__region__ - Ad region.<br>\n",
        "__city__ - Ad city.<br>\n",
        "__parent_category_name__ - Top level ad category as classified by Avito's ad model.<br>\n",
        "__category_name__ - Fine grain ad category as classified by Avito's ad model.<br>\n",
        "__param_1__ - Optional parameter from Avito's ad model.<br>\n",
        "__param_2__ - Optional parameter from Avito's ad model.<br>\n",
        "__param_3__ - Optional parameter from Avito's ad model.<br>\n",
        "__title__ - Ad title.<br>\n",
        "__description__ - Ad description.<br>\n",
        "__price__ - Ad price.<br>\n",
        "__item_seq_number__ - Ad sequential number for user.<br>\n",
        "__activation_date__ - Date ad was placed.<br>\n",
        "__user_type__ - User type.<br>\n",
        "__image__ - Id code of image. Ties to a jpg file in train_jpg. Not every ad has an image.<br>\n",
        "__image_top_1__ - Avito's classification code for the image.<br>\n",
        "__deal_probability__ - The target variable.<br>\n",
        "\n",
        "This is the likelihood that an ad actually sold something. It's not possible to verify every transaction with certainty, so this column's value can be any float from zero to one."
      ]
    },
    {
      "cell_type": "markdown",
      "metadata": {
        "id": "dCy3PxEgrRVp"
      },
      "source": [
        "## 1 Data loading"
      ]
    },
    {
      "cell_type": "code",
      "execution_count": 18,
      "metadata": {
        "id": "Zq8i3ysizinE"
      },
      "outputs": [],
      "source": [
        "PATH_DATA = '/content/drive/my_drive/data/'"
      ]
    },
    {
      "cell_type": "markdown",
      "metadata": {
        "id": "iAsQJ-APrORD"
      },
      "source": [
        "### 1.1 Train data"
      ]
    },
    {
      "cell_type": "code",
      "execution_count": 19,
      "metadata": {
        "id": "4UbDjhL-q9vF"
      },
      "outputs": [],
      "source": [
        "data_train = pd.read_csv(PATH_DATA + \"train.csv\")\n",
        "# train = pd.read_csv(PATH_DATA + \"train.csv\")\n",
        "# data_train = train.head(3000)"
      ]
    },
    {
      "cell_type": "code",
      "execution_count": 20,
      "metadata": {
        "colab": {
          "base_uri": "https://localhost:8080/"
        },
        "id": "LMkTG70Qr0gY",
        "outputId": "a836bf39-075a-4514-daae-9c3a367da895"
      },
      "outputs": [
        {
          "output_type": "stream",
          "name": "stdout",
          "text": [
            "<class 'pandas.core.frame.DataFrame'>\n",
            "RangeIndex: 1503424 entries, 0 to 1503423\n",
            "Data columns (total 18 columns):\n",
            " #   Column                Non-Null Count    Dtype  \n",
            "---  ------                --------------    -----  \n",
            " 0   item_id               1503424 non-null  object \n",
            " 1   user_id               1503424 non-null  object \n",
            " 2   region                1503424 non-null  object \n",
            " 3   city                  1503424 non-null  object \n",
            " 4   parent_category_name  1503424 non-null  object \n",
            " 5   category_name         1503424 non-null  object \n",
            " 6   param_1               1441848 non-null  object \n",
            " 7   param_2               848882 non-null   object \n",
            " 8   param_3               640859 non-null   object \n",
            " 9   title                 1503424 non-null  object \n",
            " 10  description           1387148 non-null  object \n",
            " 11  price                 1418062 non-null  float64\n",
            " 12  item_seq_number       1503424 non-null  int64  \n",
            " 13  activation_date       1503424 non-null  object \n",
            " 14  user_type             1503424 non-null  object \n",
            " 15  image                 1390836 non-null  object \n",
            " 16  image_top_1           1390836 non-null  float64\n",
            " 17  deal_probability      1503424 non-null  float64\n",
            "dtypes: float64(3), int64(1), object(14)\n",
            "memory usage: 206.5+ MB\n"
          ]
        }
      ],
      "source": [
        "data_train.info()"
      ]
    },
    {
      "cell_type": "code",
      "execution_count": 21,
      "metadata": {
        "colab": {
          "base_uri": "https://localhost:8080/",
          "height": 311
        },
        "id": "UBN-v95Tr8U6",
        "outputId": "f7dea462-c227-4bc5-9473-35f7ec29d94f"
      },
      "outputs": [
        {
          "output_type": "execute_result",
          "data": {
            "text/plain": [
              "        item_id       user_id                region            city  \\\n",
              "0  b912c3c6a6ad  e00f8ff2eaf9  Свердловская область    Екатеринбург   \n",
              "1  2dac0150717d  39aeb48f0017     Самарская область          Самара   \n",
              "2  ba83aefab5dc  91e2f88dd6e3    Ростовская область  Ростов-на-Дону   \n",
              "\n",
              "  parent_category_name               category_name  \\\n",
              "0          Личные вещи  Товары для детей и игрушки   \n",
              "1      Для дома и дачи           Мебель и интерьер   \n",
              "2  Бытовая электроника               Аудио и видео   \n",
              "\n",
              "                       param_1 param_2 param_3                  title  \\\n",
              "0    Постельные принадлежности     NaN     NaN  Кокоби(кокон для сна)   \n",
              "1                       Другое     NaN     NaN      Стойка для Одежды   \n",
              "2  Видео, DVD и Blu-ray плееры     NaN     NaN         Philips bluray   \n",
              "\n",
              "                                         description   price  item_seq_number  \\\n",
              "0  Кокон для сна малыша,пользовались меньше месяц...   400.0                2   \n",
              "1          Стойка для одежды, под вешалки. С бутика.  3000.0               19   \n",
              "2  В хорошем состоянии, домашний кинотеатр с blu ...  4000.0                9   \n",
              "\n",
              "  activation_date user_type  \\\n",
              "0      2017-03-28   Private   \n",
              "1      2017-03-26   Private   \n",
              "2      2017-03-20   Private   \n",
              "\n",
              "                                               image  image_top_1  \\\n",
              "0  d10c7e016e03247a3bf2d13348fe959fe6f436c1caf64c...       1008.0   \n",
              "1  79c9392cc51a9c81c6eb91eceb8e552171db39d7142700...        692.0   \n",
              "2  b7f250ee3f39e1fedd77c141f273703f4a9be59db4b48a...       3032.0   \n",
              "\n",
              "   deal_probability  \n",
              "0           0.12789  \n",
              "1           0.00000  \n",
              "2           0.43177  "
            ],
            "text/html": [
              "\n",
              "  <div id=\"df-70b335fb-c48b-4000-ac5f-20cdd1cb1fb5\">\n",
              "    <div class=\"colab-df-container\">\n",
              "      <div>\n",
              "<style scoped>\n",
              "    .dataframe tbody tr th:only-of-type {\n",
              "        vertical-align: middle;\n",
              "    }\n",
              "\n",
              "    .dataframe tbody tr th {\n",
              "        vertical-align: top;\n",
              "    }\n",
              "\n",
              "    .dataframe thead th {\n",
              "        text-align: right;\n",
              "    }\n",
              "</style>\n",
              "<table border=\"1\" class=\"dataframe\">\n",
              "  <thead>\n",
              "    <tr style=\"text-align: right;\">\n",
              "      <th></th>\n",
              "      <th>item_id</th>\n",
              "      <th>user_id</th>\n",
              "      <th>region</th>\n",
              "      <th>city</th>\n",
              "      <th>parent_category_name</th>\n",
              "      <th>category_name</th>\n",
              "      <th>param_1</th>\n",
              "      <th>param_2</th>\n",
              "      <th>param_3</th>\n",
              "      <th>title</th>\n",
              "      <th>description</th>\n",
              "      <th>price</th>\n",
              "      <th>item_seq_number</th>\n",
              "      <th>activation_date</th>\n",
              "      <th>user_type</th>\n",
              "      <th>image</th>\n",
              "      <th>image_top_1</th>\n",
              "      <th>deal_probability</th>\n",
              "    </tr>\n",
              "  </thead>\n",
              "  <tbody>\n",
              "    <tr>\n",
              "      <th>0</th>\n",
              "      <td>b912c3c6a6ad</td>\n",
              "      <td>e00f8ff2eaf9</td>\n",
              "      <td>Свердловская область</td>\n",
              "      <td>Екатеринбург</td>\n",
              "      <td>Личные вещи</td>\n",
              "      <td>Товары для детей и игрушки</td>\n",
              "      <td>Постельные принадлежности</td>\n",
              "      <td>NaN</td>\n",
              "      <td>NaN</td>\n",
              "      <td>Кокоби(кокон для сна)</td>\n",
              "      <td>Кокон для сна малыша,пользовались меньше месяц...</td>\n",
              "      <td>400.0</td>\n",
              "      <td>2</td>\n",
              "      <td>2017-03-28</td>\n",
              "      <td>Private</td>\n",
              "      <td>d10c7e016e03247a3bf2d13348fe959fe6f436c1caf64c...</td>\n",
              "      <td>1008.0</td>\n",
              "      <td>0.12789</td>\n",
              "    </tr>\n",
              "    <tr>\n",
              "      <th>1</th>\n",
              "      <td>2dac0150717d</td>\n",
              "      <td>39aeb48f0017</td>\n",
              "      <td>Самарская область</td>\n",
              "      <td>Самара</td>\n",
              "      <td>Для дома и дачи</td>\n",
              "      <td>Мебель и интерьер</td>\n",
              "      <td>Другое</td>\n",
              "      <td>NaN</td>\n",
              "      <td>NaN</td>\n",
              "      <td>Стойка для Одежды</td>\n",
              "      <td>Стойка для одежды, под вешалки. С бутика.</td>\n",
              "      <td>3000.0</td>\n",
              "      <td>19</td>\n",
              "      <td>2017-03-26</td>\n",
              "      <td>Private</td>\n",
              "      <td>79c9392cc51a9c81c6eb91eceb8e552171db39d7142700...</td>\n",
              "      <td>692.0</td>\n",
              "      <td>0.00000</td>\n",
              "    </tr>\n",
              "    <tr>\n",
              "      <th>2</th>\n",
              "      <td>ba83aefab5dc</td>\n",
              "      <td>91e2f88dd6e3</td>\n",
              "      <td>Ростовская область</td>\n",
              "      <td>Ростов-на-Дону</td>\n",
              "      <td>Бытовая электроника</td>\n",
              "      <td>Аудио и видео</td>\n",
              "      <td>Видео, DVD и Blu-ray плееры</td>\n",
              "      <td>NaN</td>\n",
              "      <td>NaN</td>\n",
              "      <td>Philips bluray</td>\n",
              "      <td>В хорошем состоянии, домашний кинотеатр с blu ...</td>\n",
              "      <td>4000.0</td>\n",
              "      <td>9</td>\n",
              "      <td>2017-03-20</td>\n",
              "      <td>Private</td>\n",
              "      <td>b7f250ee3f39e1fedd77c141f273703f4a9be59db4b48a...</td>\n",
              "      <td>3032.0</td>\n",
              "      <td>0.43177</td>\n",
              "    </tr>\n",
              "  </tbody>\n",
              "</table>\n",
              "</div>\n",
              "      <button class=\"colab-df-convert\" onclick=\"convertToInteractive('df-70b335fb-c48b-4000-ac5f-20cdd1cb1fb5')\"\n",
              "              title=\"Convert this dataframe to an interactive table.\"\n",
              "              style=\"display:none;\">\n",
              "        \n",
              "  <svg xmlns=\"http://www.w3.org/2000/svg\" height=\"24px\"viewBox=\"0 0 24 24\"\n",
              "       width=\"24px\">\n",
              "    <path d=\"M0 0h24v24H0V0z\" fill=\"none\"/>\n",
              "    <path d=\"M18.56 5.44l.94 2.06.94-2.06 2.06-.94-2.06-.94-.94-2.06-.94 2.06-2.06.94zm-11 1L8.5 8.5l.94-2.06 2.06-.94-2.06-.94L8.5 2.5l-.94 2.06-2.06.94zm10 10l.94 2.06.94-2.06 2.06-.94-2.06-.94-.94-2.06-.94 2.06-2.06.94z\"/><path d=\"M17.41 7.96l-1.37-1.37c-.4-.4-.92-.59-1.43-.59-.52 0-1.04.2-1.43.59L10.3 9.45l-7.72 7.72c-.78.78-.78 2.05 0 2.83L4 21.41c.39.39.9.59 1.41.59.51 0 1.02-.2 1.41-.59l7.78-7.78 2.81-2.81c.8-.78.8-2.07 0-2.86zM5.41 20L4 18.59l7.72-7.72 1.47 1.35L5.41 20z\"/>\n",
              "  </svg>\n",
              "      </button>\n",
              "      \n",
              "  <style>\n",
              "    .colab-df-container {\n",
              "      display:flex;\n",
              "      flex-wrap:wrap;\n",
              "      gap: 12px;\n",
              "    }\n",
              "\n",
              "    .colab-df-convert {\n",
              "      background-color: #E8F0FE;\n",
              "      border: none;\n",
              "      border-radius: 50%;\n",
              "      cursor: pointer;\n",
              "      display: none;\n",
              "      fill: #1967D2;\n",
              "      height: 32px;\n",
              "      padding: 0 0 0 0;\n",
              "      width: 32px;\n",
              "    }\n",
              "\n",
              "    .colab-df-convert:hover {\n",
              "      background-color: #E2EBFA;\n",
              "      box-shadow: 0px 1px 2px rgba(60, 64, 67, 0.3), 0px 1px 3px 1px rgba(60, 64, 67, 0.15);\n",
              "      fill: #174EA6;\n",
              "    }\n",
              "\n",
              "    [theme=dark] .colab-df-convert {\n",
              "      background-color: #3B4455;\n",
              "      fill: #D2E3FC;\n",
              "    }\n",
              "\n",
              "    [theme=dark] .colab-df-convert:hover {\n",
              "      background-color: #434B5C;\n",
              "      box-shadow: 0px 1px 3px 1px rgba(0, 0, 0, 0.15);\n",
              "      filter: drop-shadow(0px 1px 2px rgba(0, 0, 0, 0.3));\n",
              "      fill: #FFFFFF;\n",
              "    }\n",
              "  </style>\n",
              "\n",
              "      <script>\n",
              "        const buttonEl =\n",
              "          document.querySelector('#df-70b335fb-c48b-4000-ac5f-20cdd1cb1fb5 button.colab-df-convert');\n",
              "        buttonEl.style.display =\n",
              "          google.colab.kernel.accessAllowed ? 'block' : 'none';\n",
              "\n",
              "        async function convertToInteractive(key) {\n",
              "          const element = document.querySelector('#df-70b335fb-c48b-4000-ac5f-20cdd1cb1fb5');\n",
              "          const dataTable =\n",
              "            await google.colab.kernel.invokeFunction('convertToInteractive',\n",
              "                                                     [key], {});\n",
              "          if (!dataTable) return;\n",
              "\n",
              "          const docLinkHtml = 'Like what you see? Visit the ' +\n",
              "            '<a target=\"_blank\" href=https://colab.research.google.com/notebooks/data_table.ipynb>data table notebook</a>'\n",
              "            + ' to learn more about interactive tables.';\n",
              "          element.innerHTML = '';\n",
              "          dataTable['output_type'] = 'display_data';\n",
              "          await google.colab.output.renderOutput(dataTable, element);\n",
              "          const docLink = document.createElement('div');\n",
              "          docLink.innerHTML = docLinkHtml;\n",
              "          element.appendChild(docLink);\n",
              "        }\n",
              "      </script>\n",
              "    </div>\n",
              "  </div>\n",
              "  "
            ]
          },
          "metadata": {},
          "execution_count": 21
        }
      ],
      "source": [
        "data_train.head(3)"
      ]
    },
    {
      "cell_type": "code",
      "execution_count": 22,
      "metadata": {
        "id": "t54g1KXnr8lB"
      },
      "outputs": [],
      "source": [
        "# data_train.dtypes"
      ]
    },
    {
      "cell_type": "code",
      "execution_count": 23,
      "metadata": {
        "id": "GbS83OzEr8pM"
      },
      "outputs": [],
      "source": [
        "data_train['activation_date_int'] = pd.to_numeric(data_train['activation_date'].str.replace(\"-\", \"\")).astype(int)\n",
        "data_train['activation_date'] = pd.to_datetime(data_train.activation_date)\n",
        "data_train['day_of_month'] = data_train.activation_date.apply(lambda x: x.day)\n",
        "data_train['day_of_week'] = data_train.activation_date.apply(lambda x: x.weekday())\n",
        "data_train['month'] = data_train.activation_date.apply(lambda x: x.month)\n",
        "# data_train['month'] = data_train['activation_date'].dt.month"
      ]
    },
    {
      "cell_type": "code",
      "execution_count": 24,
      "metadata": {
        "colab": {
          "base_uri": "https://localhost:8080/",
          "height": 206
        },
        "id": "oDriFro3a8KX",
        "outputId": "49839922-b5cf-4eba-c8a8-4a52c2e9b527"
      },
      "outputs": [
        {
          "output_type": "execute_result",
          "data": {
            "text/plain": [
              "  activation_date  activation_date_int  day_of_month  day_of_week  month\n",
              "0      2017-03-28             20170328            28            1      3\n",
              "1      2017-03-26             20170326            26            6      3\n",
              "2      2017-03-20             20170320            20            0      3\n",
              "3      2017-03-25             20170325            25            5      3\n",
              "4      2017-03-16             20170316            16            3      3"
            ],
            "text/html": [
              "\n",
              "  <div id=\"df-6029a504-d854-4179-97b3-c13357ffb863\">\n",
              "    <div class=\"colab-df-container\">\n",
              "      <div>\n",
              "<style scoped>\n",
              "    .dataframe tbody tr th:only-of-type {\n",
              "        vertical-align: middle;\n",
              "    }\n",
              "\n",
              "    .dataframe tbody tr th {\n",
              "        vertical-align: top;\n",
              "    }\n",
              "\n",
              "    .dataframe thead th {\n",
              "        text-align: right;\n",
              "    }\n",
              "</style>\n",
              "<table border=\"1\" class=\"dataframe\">\n",
              "  <thead>\n",
              "    <tr style=\"text-align: right;\">\n",
              "      <th></th>\n",
              "      <th>activation_date</th>\n",
              "      <th>activation_date_int</th>\n",
              "      <th>day_of_month</th>\n",
              "      <th>day_of_week</th>\n",
              "      <th>month</th>\n",
              "    </tr>\n",
              "  </thead>\n",
              "  <tbody>\n",
              "    <tr>\n",
              "      <th>0</th>\n",
              "      <td>2017-03-28</td>\n",
              "      <td>20170328</td>\n",
              "      <td>28</td>\n",
              "      <td>1</td>\n",
              "      <td>3</td>\n",
              "    </tr>\n",
              "    <tr>\n",
              "      <th>1</th>\n",
              "      <td>2017-03-26</td>\n",
              "      <td>20170326</td>\n",
              "      <td>26</td>\n",
              "      <td>6</td>\n",
              "      <td>3</td>\n",
              "    </tr>\n",
              "    <tr>\n",
              "      <th>2</th>\n",
              "      <td>2017-03-20</td>\n",
              "      <td>20170320</td>\n",
              "      <td>20</td>\n",
              "      <td>0</td>\n",
              "      <td>3</td>\n",
              "    </tr>\n",
              "    <tr>\n",
              "      <th>3</th>\n",
              "      <td>2017-03-25</td>\n",
              "      <td>20170325</td>\n",
              "      <td>25</td>\n",
              "      <td>5</td>\n",
              "      <td>3</td>\n",
              "    </tr>\n",
              "    <tr>\n",
              "      <th>4</th>\n",
              "      <td>2017-03-16</td>\n",
              "      <td>20170316</td>\n",
              "      <td>16</td>\n",
              "      <td>3</td>\n",
              "      <td>3</td>\n",
              "    </tr>\n",
              "  </tbody>\n",
              "</table>\n",
              "</div>\n",
              "      <button class=\"colab-df-convert\" onclick=\"convertToInteractive('df-6029a504-d854-4179-97b3-c13357ffb863')\"\n",
              "              title=\"Convert this dataframe to an interactive table.\"\n",
              "              style=\"display:none;\">\n",
              "        \n",
              "  <svg xmlns=\"http://www.w3.org/2000/svg\" height=\"24px\"viewBox=\"0 0 24 24\"\n",
              "       width=\"24px\">\n",
              "    <path d=\"M0 0h24v24H0V0z\" fill=\"none\"/>\n",
              "    <path d=\"M18.56 5.44l.94 2.06.94-2.06 2.06-.94-2.06-.94-.94-2.06-.94 2.06-2.06.94zm-11 1L8.5 8.5l.94-2.06 2.06-.94-2.06-.94L8.5 2.5l-.94 2.06-2.06.94zm10 10l.94 2.06.94-2.06 2.06-.94-2.06-.94-.94-2.06-.94 2.06-2.06.94z\"/><path d=\"M17.41 7.96l-1.37-1.37c-.4-.4-.92-.59-1.43-.59-.52 0-1.04.2-1.43.59L10.3 9.45l-7.72 7.72c-.78.78-.78 2.05 0 2.83L4 21.41c.39.39.9.59 1.41.59.51 0 1.02-.2 1.41-.59l7.78-7.78 2.81-2.81c.8-.78.8-2.07 0-2.86zM5.41 20L4 18.59l7.72-7.72 1.47 1.35L5.41 20z\"/>\n",
              "  </svg>\n",
              "      </button>\n",
              "      \n",
              "  <style>\n",
              "    .colab-df-container {\n",
              "      display:flex;\n",
              "      flex-wrap:wrap;\n",
              "      gap: 12px;\n",
              "    }\n",
              "\n",
              "    .colab-df-convert {\n",
              "      background-color: #E8F0FE;\n",
              "      border: none;\n",
              "      border-radius: 50%;\n",
              "      cursor: pointer;\n",
              "      display: none;\n",
              "      fill: #1967D2;\n",
              "      height: 32px;\n",
              "      padding: 0 0 0 0;\n",
              "      width: 32px;\n",
              "    }\n",
              "\n",
              "    .colab-df-convert:hover {\n",
              "      background-color: #E2EBFA;\n",
              "      box-shadow: 0px 1px 2px rgba(60, 64, 67, 0.3), 0px 1px 3px 1px rgba(60, 64, 67, 0.15);\n",
              "      fill: #174EA6;\n",
              "    }\n",
              "\n",
              "    [theme=dark] .colab-df-convert {\n",
              "      background-color: #3B4455;\n",
              "      fill: #D2E3FC;\n",
              "    }\n",
              "\n",
              "    [theme=dark] .colab-df-convert:hover {\n",
              "      background-color: #434B5C;\n",
              "      box-shadow: 0px 1px 3px 1px rgba(0, 0, 0, 0.15);\n",
              "      filter: drop-shadow(0px 1px 2px rgba(0, 0, 0, 0.3));\n",
              "      fill: #FFFFFF;\n",
              "    }\n",
              "  </style>\n",
              "\n",
              "      <script>\n",
              "        const buttonEl =\n",
              "          document.querySelector('#df-6029a504-d854-4179-97b3-c13357ffb863 button.colab-df-convert');\n",
              "        buttonEl.style.display =\n",
              "          google.colab.kernel.accessAllowed ? 'block' : 'none';\n",
              "\n",
              "        async function convertToInteractive(key) {\n",
              "          const element = document.querySelector('#df-6029a504-d854-4179-97b3-c13357ffb863');\n",
              "          const dataTable =\n",
              "            await google.colab.kernel.invokeFunction('convertToInteractive',\n",
              "                                                     [key], {});\n",
              "          if (!dataTable) return;\n",
              "\n",
              "          const docLinkHtml = 'Like what you see? Visit the ' +\n",
              "            '<a target=\"_blank\" href=https://colab.research.google.com/notebooks/data_table.ipynb>data table notebook</a>'\n",
              "            + ' to learn more about interactive tables.';\n",
              "          element.innerHTML = '';\n",
              "          dataTable['output_type'] = 'display_data';\n",
              "          await google.colab.output.renderOutput(dataTable, element);\n",
              "          const docLink = document.createElement('div');\n",
              "          docLink.innerHTML = docLinkHtml;\n",
              "          element.appendChild(docLink);\n",
              "        }\n",
              "      </script>\n",
              "    </div>\n",
              "  </div>\n",
              "  "
            ]
          },
          "metadata": {},
          "execution_count": 24
        }
      ],
      "source": [
        "data_train[['activation_date', 'activation_date_int', 'day_of_month', 'day_of_week', 'month']].head()"
      ]
    },
    {
      "cell_type": "code",
      "execution_count": 25,
      "metadata": {
        "colab": {
          "base_uri": "https://localhost:8080/"
        },
        "id": "37Y-ldeezOzJ",
        "outputId": "07a6dbda-e415-418e-ca3f-32da6342bca3"
      },
      "outputs": [
        {
          "output_type": "execute_result",
          "data": {
            "text/plain": [
              "region\n",
              "Алтайский край              41520\n",
              "Башкортостан                68291\n",
              "Белгородская область        28868\n",
              "Владимирская область        26741\n",
              "Волгоградская область       48998\n",
              "Воронежская область         44116\n",
              "Иркутская область           44030\n",
              "Калининградская область     32756\n",
              "Кемеровская область         44635\n",
              "Краснодарский край         141416\n",
              "Красноярский край           53442\n",
              "Нижегородская область       73643\n",
              "Новосибирская область       62486\n",
              "Омская область              42939\n",
              "Оренбургская область        29303\n",
              "Пермский край               62704\n",
              "Ростовская область          89995\n",
              "Самарская область           73407\n",
              "Саратовская область         49645\n",
              "Свердловская область        94475\n",
              "Ставропольский край         39187\n",
              "Татарстан                   81284\n",
              "Тульская область            25733\n",
              "Тюменская область           35411\n",
              "Удмуртия                    28537\n",
              "Ханты-Мансийский АО         28709\n",
              "Челябинская область         78339\n",
              "Ярославская область         32814\n",
              "Name: deal_probability, dtype: int64"
            ]
          },
          "metadata": {},
          "execution_count": 25
        }
      ],
      "source": [
        "group = data_train.groupby('region')['deal_probability']\n",
        "# group.all()\n",
        "group.count()"
      ]
    },
    {
      "cell_type": "code",
      "execution_count": 26,
      "metadata": {
        "colab": {
          "base_uri": "https://localhost:8080/",
          "height": 958
        },
        "id": "5iUpRLNIzR6b",
        "outputId": "e5b9ba5f-fcd0-4911-f6e5-176eea037ee8"
      },
      "outputs": [
        {
          "output_type": "execute_result",
          "data": {
            "text/plain": [
              "                            count      mean       std  min  25%  50%  \\\n",
              "region                                                                 \n",
              "Алтайский край            41520.0  0.136257  0.256975  0.0  0.0  0.0   \n",
              "Башкортостан              68291.0  0.148859  0.260909  0.0  0.0  0.0   \n",
              "Белгородская область      28868.0  0.145603  0.263102  0.0  0.0  0.0   \n",
              "Владимирская область      26741.0  0.140988  0.264097  0.0  0.0  0.0   \n",
              "Волгоградская область     48998.0  0.145908  0.267685  0.0  0.0  0.0   \n",
              "Воронежская область       44116.0  0.141007  0.265426  0.0  0.0  0.0   \n",
              "Иркутская область         44030.0  0.139679  0.255214  0.0  0.0  0.0   \n",
              "Калининградская область   32756.0  0.131574  0.262747  0.0  0.0  0.0   \n",
              "Кемеровская область       44635.0  0.135480  0.257080  0.0  0.0  0.0   \n",
              "Краснодарский край       141416.0  0.147066  0.258484  0.0  0.0  0.0   \n",
              "Красноярский край         53442.0  0.120357  0.243184  0.0  0.0  0.0   \n",
              "Нижегородская область     73643.0  0.146608  0.271104  0.0  0.0  0.0   \n",
              "Новосибирская область     62486.0  0.124689  0.255161  0.0  0.0  0.0   \n",
              "Омская область            42939.0  0.129185  0.261750  0.0  0.0  0.0   \n",
              "Оренбургская область      29303.0  0.155921  0.267722  0.0  0.0  0.0   \n",
              "Пермский край             62704.0  0.143685  0.266041  0.0  0.0  0.0   \n",
              "Ростовская область        89995.0  0.135944  0.254793  0.0  0.0  0.0   \n",
              "Самарская область         73407.0  0.136721  0.259018  0.0  0.0  0.0   \n",
              "Саратовская область       49645.0  0.145991  0.264041  0.0  0.0  0.0   \n",
              "Свердловская область      94475.0  0.122004  0.252559  0.0  0.0  0.0   \n",
              "Ставропольский край       39187.0  0.153586  0.259732  0.0  0.0  0.0   \n",
              "Татарстан                 81284.0  0.142602  0.259942  0.0  0.0  0.0   \n",
              "Тульская область          25733.0  0.143882  0.266509  0.0  0.0  0.0   \n",
              "Тюменская область         35411.0  0.124193  0.243614  0.0  0.0  0.0   \n",
              "Удмуртия                  28537.0  0.148130  0.264727  0.0  0.0  0.0   \n",
              "Ханты-Мансийский АО       28709.0  0.143696  0.260933  0.0  0.0  0.0   \n",
              "Челябинская область       78339.0  0.143229  0.266130  0.0  0.0  0.0   \n",
              "Ярославская область       32814.0  0.128844  0.260174  0.0  0.0  0.0   \n",
              "\n",
              "                              75%  max  \n",
              "region                                  \n",
              "Алтайский край           0.149830  1.0  \n",
              "Башкортостан             0.192910  1.0  \n",
              "Белгородская область     0.170920  1.0  \n",
              "Владимирская область     0.149830  1.0  \n",
              "Волгоградская область    0.161550  1.0  \n",
              "Воронежская область      0.146890  1.0  \n",
              "Иркутская область        0.160187  1.0  \n",
              "Калининградская область  0.124300  1.0  \n",
              "Кемеровская область      0.145020  1.0  \n",
              "Краснодарский край       0.180590  1.0  \n",
              "Красноярский край        0.124590  1.0  \n",
              "Нижегородская область    0.157350  1.0  \n",
              "Новосибирская область    0.118400  1.0  \n",
              "Омская область           0.118400  1.0  \n",
              "Оренбургская область     0.200000  1.0  \n",
              "Пермский край            0.157510  1.0  \n",
              "Ростовская область       0.149830  1.0  \n",
              "Самарская область        0.138820  1.0  \n",
              "Саратовская область      0.175760  1.0  \n",
              "Свердловская область     0.105110  1.0  \n",
              "Ставропольский край      0.200000  1.0  \n",
              "Татарстан                0.166670  1.0  \n",
              "Тульская область         0.156700  1.0  \n",
              "Тюменская область        0.127615  1.0  \n",
              "Удмуртия                 0.170360  1.0  \n",
              "Ханты-Мансийский АО      0.166670  1.0  \n",
              "Челябинская область      0.149890  1.0  \n",
              "Ярославская область      0.114940  1.0  "
            ],
            "text/html": [
              "\n",
              "  <div id=\"df-d20e04f8-e444-4ac9-93a5-685eda5088aa\">\n",
              "    <div class=\"colab-df-container\">\n",
              "      <div>\n",
              "<style scoped>\n",
              "    .dataframe tbody tr th:only-of-type {\n",
              "        vertical-align: middle;\n",
              "    }\n",
              "\n",
              "    .dataframe tbody tr th {\n",
              "        vertical-align: top;\n",
              "    }\n",
              "\n",
              "    .dataframe thead th {\n",
              "        text-align: right;\n",
              "    }\n",
              "</style>\n",
              "<table border=\"1\" class=\"dataframe\">\n",
              "  <thead>\n",
              "    <tr style=\"text-align: right;\">\n",
              "      <th></th>\n",
              "      <th>count</th>\n",
              "      <th>mean</th>\n",
              "      <th>std</th>\n",
              "      <th>min</th>\n",
              "      <th>25%</th>\n",
              "      <th>50%</th>\n",
              "      <th>75%</th>\n",
              "      <th>max</th>\n",
              "    </tr>\n",
              "    <tr>\n",
              "      <th>region</th>\n",
              "      <th></th>\n",
              "      <th></th>\n",
              "      <th></th>\n",
              "      <th></th>\n",
              "      <th></th>\n",
              "      <th></th>\n",
              "      <th></th>\n",
              "      <th></th>\n",
              "    </tr>\n",
              "  </thead>\n",
              "  <tbody>\n",
              "    <tr>\n",
              "      <th>Алтайский край</th>\n",
              "      <td>41520.0</td>\n",
              "      <td>0.136257</td>\n",
              "      <td>0.256975</td>\n",
              "      <td>0.0</td>\n",
              "      <td>0.0</td>\n",
              "      <td>0.0</td>\n",
              "      <td>0.149830</td>\n",
              "      <td>1.0</td>\n",
              "    </tr>\n",
              "    <tr>\n",
              "      <th>Башкортостан</th>\n",
              "      <td>68291.0</td>\n",
              "      <td>0.148859</td>\n",
              "      <td>0.260909</td>\n",
              "      <td>0.0</td>\n",
              "      <td>0.0</td>\n",
              "      <td>0.0</td>\n",
              "      <td>0.192910</td>\n",
              "      <td>1.0</td>\n",
              "    </tr>\n",
              "    <tr>\n",
              "      <th>Белгородская область</th>\n",
              "      <td>28868.0</td>\n",
              "      <td>0.145603</td>\n",
              "      <td>0.263102</td>\n",
              "      <td>0.0</td>\n",
              "      <td>0.0</td>\n",
              "      <td>0.0</td>\n",
              "      <td>0.170920</td>\n",
              "      <td>1.0</td>\n",
              "    </tr>\n",
              "    <tr>\n",
              "      <th>Владимирская область</th>\n",
              "      <td>26741.0</td>\n",
              "      <td>0.140988</td>\n",
              "      <td>0.264097</td>\n",
              "      <td>0.0</td>\n",
              "      <td>0.0</td>\n",
              "      <td>0.0</td>\n",
              "      <td>0.149830</td>\n",
              "      <td>1.0</td>\n",
              "    </tr>\n",
              "    <tr>\n",
              "      <th>Волгоградская область</th>\n",
              "      <td>48998.0</td>\n",
              "      <td>0.145908</td>\n",
              "      <td>0.267685</td>\n",
              "      <td>0.0</td>\n",
              "      <td>0.0</td>\n",
              "      <td>0.0</td>\n",
              "      <td>0.161550</td>\n",
              "      <td>1.0</td>\n",
              "    </tr>\n",
              "    <tr>\n",
              "      <th>Воронежская область</th>\n",
              "      <td>44116.0</td>\n",
              "      <td>0.141007</td>\n",
              "      <td>0.265426</td>\n",
              "      <td>0.0</td>\n",
              "      <td>0.0</td>\n",
              "      <td>0.0</td>\n",
              "      <td>0.146890</td>\n",
              "      <td>1.0</td>\n",
              "    </tr>\n",
              "    <tr>\n",
              "      <th>Иркутская область</th>\n",
              "      <td>44030.0</td>\n",
              "      <td>0.139679</td>\n",
              "      <td>0.255214</td>\n",
              "      <td>0.0</td>\n",
              "      <td>0.0</td>\n",
              "      <td>0.0</td>\n",
              "      <td>0.160187</td>\n",
              "      <td>1.0</td>\n",
              "    </tr>\n",
              "    <tr>\n",
              "      <th>Калининградская область</th>\n",
              "      <td>32756.0</td>\n",
              "      <td>0.131574</td>\n",
              "      <td>0.262747</td>\n",
              "      <td>0.0</td>\n",
              "      <td>0.0</td>\n",
              "      <td>0.0</td>\n",
              "      <td>0.124300</td>\n",
              "      <td>1.0</td>\n",
              "    </tr>\n",
              "    <tr>\n",
              "      <th>Кемеровская область</th>\n",
              "      <td>44635.0</td>\n",
              "      <td>0.135480</td>\n",
              "      <td>0.257080</td>\n",
              "      <td>0.0</td>\n",
              "      <td>0.0</td>\n",
              "      <td>0.0</td>\n",
              "      <td>0.145020</td>\n",
              "      <td>1.0</td>\n",
              "    </tr>\n",
              "    <tr>\n",
              "      <th>Краснодарский край</th>\n",
              "      <td>141416.0</td>\n",
              "      <td>0.147066</td>\n",
              "      <td>0.258484</td>\n",
              "      <td>0.0</td>\n",
              "      <td>0.0</td>\n",
              "      <td>0.0</td>\n",
              "      <td>0.180590</td>\n",
              "      <td>1.0</td>\n",
              "    </tr>\n",
              "    <tr>\n",
              "      <th>Красноярский край</th>\n",
              "      <td>53442.0</td>\n",
              "      <td>0.120357</td>\n",
              "      <td>0.243184</td>\n",
              "      <td>0.0</td>\n",
              "      <td>0.0</td>\n",
              "      <td>0.0</td>\n",
              "      <td>0.124590</td>\n",
              "      <td>1.0</td>\n",
              "    </tr>\n",
              "    <tr>\n",
              "      <th>Нижегородская область</th>\n",
              "      <td>73643.0</td>\n",
              "      <td>0.146608</td>\n",
              "      <td>0.271104</td>\n",
              "      <td>0.0</td>\n",
              "      <td>0.0</td>\n",
              "      <td>0.0</td>\n",
              "      <td>0.157350</td>\n",
              "      <td>1.0</td>\n",
              "    </tr>\n",
              "    <tr>\n",
              "      <th>Новосибирская область</th>\n",
              "      <td>62486.0</td>\n",
              "      <td>0.124689</td>\n",
              "      <td>0.255161</td>\n",
              "      <td>0.0</td>\n",
              "      <td>0.0</td>\n",
              "      <td>0.0</td>\n",
              "      <td>0.118400</td>\n",
              "      <td>1.0</td>\n",
              "    </tr>\n",
              "    <tr>\n",
              "      <th>Омская область</th>\n",
              "      <td>42939.0</td>\n",
              "      <td>0.129185</td>\n",
              "      <td>0.261750</td>\n",
              "      <td>0.0</td>\n",
              "      <td>0.0</td>\n",
              "      <td>0.0</td>\n",
              "      <td>0.118400</td>\n",
              "      <td>1.0</td>\n",
              "    </tr>\n",
              "    <tr>\n",
              "      <th>Оренбургская область</th>\n",
              "      <td>29303.0</td>\n",
              "      <td>0.155921</td>\n",
              "      <td>0.267722</td>\n",
              "      <td>0.0</td>\n",
              "      <td>0.0</td>\n",
              "      <td>0.0</td>\n",
              "      <td>0.200000</td>\n",
              "      <td>1.0</td>\n",
              "    </tr>\n",
              "    <tr>\n",
              "      <th>Пермский край</th>\n",
              "      <td>62704.0</td>\n",
              "      <td>0.143685</td>\n",
              "      <td>0.266041</td>\n",
              "      <td>0.0</td>\n",
              "      <td>0.0</td>\n",
              "      <td>0.0</td>\n",
              "      <td>0.157510</td>\n",
              "      <td>1.0</td>\n",
              "    </tr>\n",
              "    <tr>\n",
              "      <th>Ростовская область</th>\n",
              "      <td>89995.0</td>\n",
              "      <td>0.135944</td>\n",
              "      <td>0.254793</td>\n",
              "      <td>0.0</td>\n",
              "      <td>0.0</td>\n",
              "      <td>0.0</td>\n",
              "      <td>0.149830</td>\n",
              "      <td>1.0</td>\n",
              "    </tr>\n",
              "    <tr>\n",
              "      <th>Самарская область</th>\n",
              "      <td>73407.0</td>\n",
              "      <td>0.136721</td>\n",
              "      <td>0.259018</td>\n",
              "      <td>0.0</td>\n",
              "      <td>0.0</td>\n",
              "      <td>0.0</td>\n",
              "      <td>0.138820</td>\n",
              "      <td>1.0</td>\n",
              "    </tr>\n",
              "    <tr>\n",
              "      <th>Саратовская область</th>\n",
              "      <td>49645.0</td>\n",
              "      <td>0.145991</td>\n",
              "      <td>0.264041</td>\n",
              "      <td>0.0</td>\n",
              "      <td>0.0</td>\n",
              "      <td>0.0</td>\n",
              "      <td>0.175760</td>\n",
              "      <td>1.0</td>\n",
              "    </tr>\n",
              "    <tr>\n",
              "      <th>Свердловская область</th>\n",
              "      <td>94475.0</td>\n",
              "      <td>0.122004</td>\n",
              "      <td>0.252559</td>\n",
              "      <td>0.0</td>\n",
              "      <td>0.0</td>\n",
              "      <td>0.0</td>\n",
              "      <td>0.105110</td>\n",
              "      <td>1.0</td>\n",
              "    </tr>\n",
              "    <tr>\n",
              "      <th>Ставропольский край</th>\n",
              "      <td>39187.0</td>\n",
              "      <td>0.153586</td>\n",
              "      <td>0.259732</td>\n",
              "      <td>0.0</td>\n",
              "      <td>0.0</td>\n",
              "      <td>0.0</td>\n",
              "      <td>0.200000</td>\n",
              "      <td>1.0</td>\n",
              "    </tr>\n",
              "    <tr>\n",
              "      <th>Татарстан</th>\n",
              "      <td>81284.0</td>\n",
              "      <td>0.142602</td>\n",
              "      <td>0.259942</td>\n",
              "      <td>0.0</td>\n",
              "      <td>0.0</td>\n",
              "      <td>0.0</td>\n",
              "      <td>0.166670</td>\n",
              "      <td>1.0</td>\n",
              "    </tr>\n",
              "    <tr>\n",
              "      <th>Тульская область</th>\n",
              "      <td>25733.0</td>\n",
              "      <td>0.143882</td>\n",
              "      <td>0.266509</td>\n",
              "      <td>0.0</td>\n",
              "      <td>0.0</td>\n",
              "      <td>0.0</td>\n",
              "      <td>0.156700</td>\n",
              "      <td>1.0</td>\n",
              "    </tr>\n",
              "    <tr>\n",
              "      <th>Тюменская область</th>\n",
              "      <td>35411.0</td>\n",
              "      <td>0.124193</td>\n",
              "      <td>0.243614</td>\n",
              "      <td>0.0</td>\n",
              "      <td>0.0</td>\n",
              "      <td>0.0</td>\n",
              "      <td>0.127615</td>\n",
              "      <td>1.0</td>\n",
              "    </tr>\n",
              "    <tr>\n",
              "      <th>Удмуртия</th>\n",
              "      <td>28537.0</td>\n",
              "      <td>0.148130</td>\n",
              "      <td>0.264727</td>\n",
              "      <td>0.0</td>\n",
              "      <td>0.0</td>\n",
              "      <td>0.0</td>\n",
              "      <td>0.170360</td>\n",
              "      <td>1.0</td>\n",
              "    </tr>\n",
              "    <tr>\n",
              "      <th>Ханты-Мансийский АО</th>\n",
              "      <td>28709.0</td>\n",
              "      <td>0.143696</td>\n",
              "      <td>0.260933</td>\n",
              "      <td>0.0</td>\n",
              "      <td>0.0</td>\n",
              "      <td>0.0</td>\n",
              "      <td>0.166670</td>\n",
              "      <td>1.0</td>\n",
              "    </tr>\n",
              "    <tr>\n",
              "      <th>Челябинская область</th>\n",
              "      <td>78339.0</td>\n",
              "      <td>0.143229</td>\n",
              "      <td>0.266130</td>\n",
              "      <td>0.0</td>\n",
              "      <td>0.0</td>\n",
              "      <td>0.0</td>\n",
              "      <td>0.149890</td>\n",
              "      <td>1.0</td>\n",
              "    </tr>\n",
              "    <tr>\n",
              "      <th>Ярославская область</th>\n",
              "      <td>32814.0</td>\n",
              "      <td>0.128844</td>\n",
              "      <td>0.260174</td>\n",
              "      <td>0.0</td>\n",
              "      <td>0.0</td>\n",
              "      <td>0.0</td>\n",
              "      <td>0.114940</td>\n",
              "      <td>1.0</td>\n",
              "    </tr>\n",
              "  </tbody>\n",
              "</table>\n",
              "</div>\n",
              "      <button class=\"colab-df-convert\" onclick=\"convertToInteractive('df-d20e04f8-e444-4ac9-93a5-685eda5088aa')\"\n",
              "              title=\"Convert this dataframe to an interactive table.\"\n",
              "              style=\"display:none;\">\n",
              "        \n",
              "  <svg xmlns=\"http://www.w3.org/2000/svg\" height=\"24px\"viewBox=\"0 0 24 24\"\n",
              "       width=\"24px\">\n",
              "    <path d=\"M0 0h24v24H0V0z\" fill=\"none\"/>\n",
              "    <path d=\"M18.56 5.44l.94 2.06.94-2.06 2.06-.94-2.06-.94-.94-2.06-.94 2.06-2.06.94zm-11 1L8.5 8.5l.94-2.06 2.06-.94-2.06-.94L8.5 2.5l-.94 2.06-2.06.94zm10 10l.94 2.06.94-2.06 2.06-.94-2.06-.94-.94-2.06-.94 2.06-2.06.94z\"/><path d=\"M17.41 7.96l-1.37-1.37c-.4-.4-.92-.59-1.43-.59-.52 0-1.04.2-1.43.59L10.3 9.45l-7.72 7.72c-.78.78-.78 2.05 0 2.83L4 21.41c.39.39.9.59 1.41.59.51 0 1.02-.2 1.41-.59l7.78-7.78 2.81-2.81c.8-.78.8-2.07 0-2.86zM5.41 20L4 18.59l7.72-7.72 1.47 1.35L5.41 20z\"/>\n",
              "  </svg>\n",
              "      </button>\n",
              "      \n",
              "  <style>\n",
              "    .colab-df-container {\n",
              "      display:flex;\n",
              "      flex-wrap:wrap;\n",
              "      gap: 12px;\n",
              "    }\n",
              "\n",
              "    .colab-df-convert {\n",
              "      background-color: #E8F0FE;\n",
              "      border: none;\n",
              "      border-radius: 50%;\n",
              "      cursor: pointer;\n",
              "      display: none;\n",
              "      fill: #1967D2;\n",
              "      height: 32px;\n",
              "      padding: 0 0 0 0;\n",
              "      width: 32px;\n",
              "    }\n",
              "\n",
              "    .colab-df-convert:hover {\n",
              "      background-color: #E2EBFA;\n",
              "      box-shadow: 0px 1px 2px rgba(60, 64, 67, 0.3), 0px 1px 3px 1px rgba(60, 64, 67, 0.15);\n",
              "      fill: #174EA6;\n",
              "    }\n",
              "\n",
              "    [theme=dark] .colab-df-convert {\n",
              "      background-color: #3B4455;\n",
              "      fill: #D2E3FC;\n",
              "    }\n",
              "\n",
              "    [theme=dark] .colab-df-convert:hover {\n",
              "      background-color: #434B5C;\n",
              "      box-shadow: 0px 1px 3px 1px rgba(0, 0, 0, 0.15);\n",
              "      filter: drop-shadow(0px 1px 2px rgba(0, 0, 0, 0.3));\n",
              "      fill: #FFFFFF;\n",
              "    }\n",
              "  </style>\n",
              "\n",
              "      <script>\n",
              "        const buttonEl =\n",
              "          document.querySelector('#df-d20e04f8-e444-4ac9-93a5-685eda5088aa button.colab-df-convert');\n",
              "        buttonEl.style.display =\n",
              "          google.colab.kernel.accessAllowed ? 'block' : 'none';\n",
              "\n",
              "        async function convertToInteractive(key) {\n",
              "          const element = document.querySelector('#df-d20e04f8-e444-4ac9-93a5-685eda5088aa');\n",
              "          const dataTable =\n",
              "            await google.colab.kernel.invokeFunction('convertToInteractive',\n",
              "                                                     [key], {});\n",
              "          if (!dataTable) return;\n",
              "\n",
              "          const docLinkHtml = 'Like what you see? Visit the ' +\n",
              "            '<a target=\"_blank\" href=https://colab.research.google.com/notebooks/data_table.ipynb>data table notebook</a>'\n",
              "            + ' to learn more about interactive tables.';\n",
              "          element.innerHTML = '';\n",
              "          dataTable['output_type'] = 'display_data';\n",
              "          await google.colab.output.renderOutput(dataTable, element);\n",
              "          const docLink = document.createElement('div');\n",
              "          docLink.innerHTML = docLinkHtml;\n",
              "          element.appendChild(docLink);\n",
              "        }\n",
              "      </script>\n",
              "    </div>\n",
              "  </div>\n",
              "  "
            ]
          },
          "metadata": {},
          "execution_count": 26
        }
      ],
      "source": [
        "group.describe()"
      ]
    },
    {
      "cell_type": "code",
      "execution_count": 27,
      "metadata": {
        "colab": {
          "base_uri": "https://localhost:8080/",
          "height": 49,
          "referenced_widgets": [
            "cfcdda61231c4493915e1b485a6e203b",
            "4801fddc619a49abafb701273bea1c45",
            "4b65ccfa51bc4b5ca74b86252a49d59c",
            "3cfeab7b994749519be464fc28ca48a9",
            "cc11bfda7c2d4b759e987a74e0cf0ecb",
            "27af01cb33594e2e99504acdb43fcc31",
            "6e572c2b41f84d748dcd0ae6162b726c",
            "57c67055501b4d148274816de03ef1d8",
            "5407e70a81d44504ba3e543c093d97b5",
            "81e4c49232074dc58bf5fc619c3d0956",
            "2669073bf25c40b885505d797a97f867"
          ]
        },
        "id": "AsCu0wGcbChD",
        "outputId": "8fb68e03-5444-4e36-b578-ef653541517d"
      },
      "outputs": [
        {
          "output_type": "display_data",
          "data": {
            "text/plain": [
              "  0%|          | 0/4 [00:00<?, ?it/s]"
            ],
            "application/vnd.jupyter.widget-view+json": {
              "version_major": 2,
              "version_minor": 0,
              "model_id": "cfcdda61231c4493915e1b485a6e203b"
            }
          },
          "metadata": {}
        }
      ],
      "source": [
        "from tqdm import notebook  # IPython/Jupyter Notebook progressbar decorator for iterators.\n",
        "\n",
        "cols = ['region', 'city', 'category_name','user_type']\n",
        "\n",
        "for col in notebook.tqdm(cols):\n",
        "    group = data_train.groupby(col)['deal_probability']  # deal_probability - вероятность сделки\n",
        "    mean = group.mean()\n",
        "    data_train[col + '__deal_probability_avg'] = data_train[col].map(mean)  # convert the data to the desired format\n",
        "\n",
        "data_train['_deal_probability'] = data_train['deal_probability']"
      ]
    },
    {
      "cell_type": "code",
      "execution_count": 28,
      "metadata": {
        "id": "SuMfJcJuoNlu"
      },
      "outputs": [],
      "source": [
        "data_train = data_train.drop([\n",
        "'item_id',\n",
        "'user_id',\n",
        "'region',\n",
        "'city',\n",
        "'parent_category_name',\n",
        "'category_name',\n",
        "'param_1',\n",
        "'param_2',\n",
        "'param_3',\n",
        "'title',\n",
        "'description',\n",
        "# 'price',\n",
        "# 'item_seq_number',\n",
        "'activation_date',\n",
        "'user_type',\n",
        "'image',\n",
        "# 'image_top_1',\n",
        "'deal_probability'\n",
        "], axis=1)"
      ]
    },
    {
      "cell_type": "code",
      "execution_count": 29,
      "metadata": {
        "colab": {
          "base_uri": "https://localhost:8080/"
        },
        "id": "uOH6_zLp0Jo8",
        "outputId": "4c99b706-83f4-4134-bcfc-f259563c8f8c"
      },
      "outputs": [
        {
          "output_type": "execute_result",
          "data": {
            "text/plain": [
              "['region', 'city', 'category_name', 'user_type']"
            ]
          },
          "metadata": {},
          "execution_count": 29
        }
      ],
      "source": [
        "cols"
      ]
    },
    {
      "cell_type": "code",
      "execution_count": 30,
      "metadata": {
        "colab": {
          "base_uri": "https://localhost:8080/",
          "height": 207
        },
        "id": "4BT1EQ12bCxW",
        "outputId": "e0df405b-a881-4a82-e48d-c2dddbc69b36"
      },
      "outputs": [
        {
          "output_type": "execute_result",
          "data": {
            "text/plain": [
              "    price  item_seq_number  image_top_1  activation_date_int  day_of_month  \\\n",
              "0   400.0                2       1008.0             20170328            28   \n",
              "1  3000.0               19        692.0             20170326            26   \n",
              "2  4000.0                9       3032.0             20170320            20   \n",
              "\n",
              "   day_of_week  month  region__deal_probability_avg  \\\n",
              "0            1      3                      0.122004   \n",
              "1            6      3                      0.136721   \n",
              "2            0      3                      0.135944   \n",
              "\n",
              "   city__deal_probability_avg  category_name__deal_probability_avg  \\\n",
              "0                    0.123397                             0.198445   \n",
              "1                    0.139400                             0.191848   \n",
              "2                    0.124881                             0.171572   \n",
              "\n",
              "   user_type__deal_probability_avg  _deal_probability  \n",
              "0                         0.149557            0.12789  \n",
              "1                         0.149557            0.00000  \n",
              "2                         0.149557            0.43177  "
            ],
            "text/html": [
              "\n",
              "  <div id=\"df-03a36316-b86a-4e60-b2a6-5c3378598f0b\">\n",
              "    <div class=\"colab-df-container\">\n",
              "      <div>\n",
              "<style scoped>\n",
              "    .dataframe tbody tr th:only-of-type {\n",
              "        vertical-align: middle;\n",
              "    }\n",
              "\n",
              "    .dataframe tbody tr th {\n",
              "        vertical-align: top;\n",
              "    }\n",
              "\n",
              "    .dataframe thead th {\n",
              "        text-align: right;\n",
              "    }\n",
              "</style>\n",
              "<table border=\"1\" class=\"dataframe\">\n",
              "  <thead>\n",
              "    <tr style=\"text-align: right;\">\n",
              "      <th></th>\n",
              "      <th>price</th>\n",
              "      <th>item_seq_number</th>\n",
              "      <th>image_top_1</th>\n",
              "      <th>activation_date_int</th>\n",
              "      <th>day_of_month</th>\n",
              "      <th>day_of_week</th>\n",
              "      <th>month</th>\n",
              "      <th>region__deal_probability_avg</th>\n",
              "      <th>city__deal_probability_avg</th>\n",
              "      <th>category_name__deal_probability_avg</th>\n",
              "      <th>user_type__deal_probability_avg</th>\n",
              "      <th>_deal_probability</th>\n",
              "    </tr>\n",
              "  </thead>\n",
              "  <tbody>\n",
              "    <tr>\n",
              "      <th>0</th>\n",
              "      <td>400.0</td>\n",
              "      <td>2</td>\n",
              "      <td>1008.0</td>\n",
              "      <td>20170328</td>\n",
              "      <td>28</td>\n",
              "      <td>1</td>\n",
              "      <td>3</td>\n",
              "      <td>0.122004</td>\n",
              "      <td>0.123397</td>\n",
              "      <td>0.198445</td>\n",
              "      <td>0.149557</td>\n",
              "      <td>0.12789</td>\n",
              "    </tr>\n",
              "    <tr>\n",
              "      <th>1</th>\n",
              "      <td>3000.0</td>\n",
              "      <td>19</td>\n",
              "      <td>692.0</td>\n",
              "      <td>20170326</td>\n",
              "      <td>26</td>\n",
              "      <td>6</td>\n",
              "      <td>3</td>\n",
              "      <td>0.136721</td>\n",
              "      <td>0.139400</td>\n",
              "      <td>0.191848</td>\n",
              "      <td>0.149557</td>\n",
              "      <td>0.00000</td>\n",
              "    </tr>\n",
              "    <tr>\n",
              "      <th>2</th>\n",
              "      <td>4000.0</td>\n",
              "      <td>9</td>\n",
              "      <td>3032.0</td>\n",
              "      <td>20170320</td>\n",
              "      <td>20</td>\n",
              "      <td>0</td>\n",
              "      <td>3</td>\n",
              "      <td>0.135944</td>\n",
              "      <td>0.124881</td>\n",
              "      <td>0.171572</td>\n",
              "      <td>0.149557</td>\n",
              "      <td>0.43177</td>\n",
              "    </tr>\n",
              "  </tbody>\n",
              "</table>\n",
              "</div>\n",
              "      <button class=\"colab-df-convert\" onclick=\"convertToInteractive('df-03a36316-b86a-4e60-b2a6-5c3378598f0b')\"\n",
              "              title=\"Convert this dataframe to an interactive table.\"\n",
              "              style=\"display:none;\">\n",
              "        \n",
              "  <svg xmlns=\"http://www.w3.org/2000/svg\" height=\"24px\"viewBox=\"0 0 24 24\"\n",
              "       width=\"24px\">\n",
              "    <path d=\"M0 0h24v24H0V0z\" fill=\"none\"/>\n",
              "    <path d=\"M18.56 5.44l.94 2.06.94-2.06 2.06-.94-2.06-.94-.94-2.06-.94 2.06-2.06.94zm-11 1L8.5 8.5l.94-2.06 2.06-.94-2.06-.94L8.5 2.5l-.94 2.06-2.06.94zm10 10l.94 2.06.94-2.06 2.06-.94-2.06-.94-.94-2.06-.94 2.06-2.06.94z\"/><path d=\"M17.41 7.96l-1.37-1.37c-.4-.4-.92-.59-1.43-.59-.52 0-1.04.2-1.43.59L10.3 9.45l-7.72 7.72c-.78.78-.78 2.05 0 2.83L4 21.41c.39.39.9.59 1.41.59.51 0 1.02-.2 1.41-.59l7.78-7.78 2.81-2.81c.8-.78.8-2.07 0-2.86zM5.41 20L4 18.59l7.72-7.72 1.47 1.35L5.41 20z\"/>\n",
              "  </svg>\n",
              "      </button>\n",
              "      \n",
              "  <style>\n",
              "    .colab-df-container {\n",
              "      display:flex;\n",
              "      flex-wrap:wrap;\n",
              "      gap: 12px;\n",
              "    }\n",
              "\n",
              "    .colab-df-convert {\n",
              "      background-color: #E8F0FE;\n",
              "      border: none;\n",
              "      border-radius: 50%;\n",
              "      cursor: pointer;\n",
              "      display: none;\n",
              "      fill: #1967D2;\n",
              "      height: 32px;\n",
              "      padding: 0 0 0 0;\n",
              "      width: 32px;\n",
              "    }\n",
              "\n",
              "    .colab-df-convert:hover {\n",
              "      background-color: #E2EBFA;\n",
              "      box-shadow: 0px 1px 2px rgba(60, 64, 67, 0.3), 0px 1px 3px 1px rgba(60, 64, 67, 0.15);\n",
              "      fill: #174EA6;\n",
              "    }\n",
              "\n",
              "    [theme=dark] .colab-df-convert {\n",
              "      background-color: #3B4455;\n",
              "      fill: #D2E3FC;\n",
              "    }\n",
              "\n",
              "    [theme=dark] .colab-df-convert:hover {\n",
              "      background-color: #434B5C;\n",
              "      box-shadow: 0px 1px 3px 1px rgba(0, 0, 0, 0.15);\n",
              "      filter: drop-shadow(0px 1px 2px rgba(0, 0, 0, 0.3));\n",
              "      fill: #FFFFFF;\n",
              "    }\n",
              "  </style>\n",
              "\n",
              "      <script>\n",
              "        const buttonEl =\n",
              "          document.querySelector('#df-03a36316-b86a-4e60-b2a6-5c3378598f0b button.colab-df-convert');\n",
              "        buttonEl.style.display =\n",
              "          google.colab.kernel.accessAllowed ? 'block' : 'none';\n",
              "\n",
              "        async function convertToInteractive(key) {\n",
              "          const element = document.querySelector('#df-03a36316-b86a-4e60-b2a6-5c3378598f0b');\n",
              "          const dataTable =\n",
              "            await google.colab.kernel.invokeFunction('convertToInteractive',\n",
              "                                                     [key], {});\n",
              "          if (!dataTable) return;\n",
              "\n",
              "          const docLinkHtml = 'Like what you see? Visit the ' +\n",
              "            '<a target=\"_blank\" href=https://colab.research.google.com/notebooks/data_table.ipynb>data table notebook</a>'\n",
              "            + ' to learn more about interactive tables.';\n",
              "          element.innerHTML = '';\n",
              "          dataTable['output_type'] = 'display_data';\n",
              "          await google.colab.output.renderOutput(dataTable, element);\n",
              "          const docLink = document.createElement('div');\n",
              "          docLink.innerHTML = docLinkHtml;\n",
              "          element.appendChild(docLink);\n",
              "        }\n",
              "      </script>\n",
              "    </div>\n",
              "  </div>\n",
              "  "
            ]
          },
          "metadata": {},
          "execution_count": 30
        }
      ],
      "source": [
        "for col in data_train.columns:\n",
        "    if data_train[col].isna().sum() > 0:\n",
        "        data_train[col].fillna(data_train[col].median(), inplace=True)\n",
        "\n",
        "# В итоге получаем\n",
        "data_train.head(3)"
      ]
    },
    {
      "cell_type": "markdown",
      "metadata": {
        "id": "SmmpO24DCh_p"
      },
      "source": [
        "# __1. Создать Dataset для загрузки данных__ (используем только числовые данные)"
      ]
    },
    {
      "cell_type": "code",
      "execution_count": 31,
      "metadata": {
        "id": "d5DAzHbrKLQG"
      },
      "outputs": [],
      "source": [
        "from sklearn.model_selection import train_test_split\n",
        "from sklearn.preprocessing import MinMaxScaler"
      ]
    },
    {
      "cell_type": "markdown",
      "source": [
        ""
      ],
      "metadata": {
        "id": "XkOj4HxQBhmP"
      }
    },
    {
      "cell_type": "code",
      "source": [
        "# data_train = data_train.head(10000)"
      ],
      "metadata": {
        "id": "NEXKGHVonvX8"
      },
      "execution_count": 32,
      "outputs": []
    },
    {
      "cell_type": "code",
      "execution_count": 33,
      "metadata": {
        "colab": {
          "base_uri": "https://localhost:8080/",
          "height": 207
        },
        "id": "k2S_6R3RKLiF",
        "outputId": "6919fd02-7cff-4792-fc40-e64e0bd4c792"
      },
      "outputs": [
        {
          "output_type": "execute_result",
          "data": {
            "text/plain": [
              "            price  item_seq_number  image_top_1  activation_date_int  \\\n",
              "31723      1300.0                6       1056.0             20170323   \n",
              "929954     1300.0               16        399.0             20170328   \n",
              "1143227  140000.0                1       1055.0             20170324   \n",
              "\n",
              "         day_of_month  day_of_week  month  region__deal_probability_avg  \\\n",
              "31723              23            3      3                      0.147066   \n",
              "929954             28            1      3                      0.122004   \n",
              "1143227            24            4      3                      0.122004   \n",
              "\n",
              "         city__deal_probability_avg  category_name__deal_probability_avg  \\\n",
              "31723                      0.189069                             0.178480   \n",
              "929954                     0.123397                             0.046447   \n",
              "1143227                    0.123397                             0.278427   \n",
              "\n",
              "         user_type__deal_probability_avg  _deal_probability  \n",
              "31723                           0.149557             0.0000  \n",
              "929954                          0.149557             0.0000  \n",
              "1143227                         0.149557             0.7376  "
            ],
            "text/html": [
              "\n",
              "  <div id=\"df-4f69b8d0-c80e-418e-b865-177d26c0b7fe\">\n",
              "    <div class=\"colab-df-container\">\n",
              "      <div>\n",
              "<style scoped>\n",
              "    .dataframe tbody tr th:only-of-type {\n",
              "        vertical-align: middle;\n",
              "    }\n",
              "\n",
              "    .dataframe tbody tr th {\n",
              "        vertical-align: top;\n",
              "    }\n",
              "\n",
              "    .dataframe thead th {\n",
              "        text-align: right;\n",
              "    }\n",
              "</style>\n",
              "<table border=\"1\" class=\"dataframe\">\n",
              "  <thead>\n",
              "    <tr style=\"text-align: right;\">\n",
              "      <th></th>\n",
              "      <th>price</th>\n",
              "      <th>item_seq_number</th>\n",
              "      <th>image_top_1</th>\n",
              "      <th>activation_date_int</th>\n",
              "      <th>day_of_month</th>\n",
              "      <th>day_of_week</th>\n",
              "      <th>month</th>\n",
              "      <th>region__deal_probability_avg</th>\n",
              "      <th>city__deal_probability_avg</th>\n",
              "      <th>category_name__deal_probability_avg</th>\n",
              "      <th>user_type__deal_probability_avg</th>\n",
              "      <th>_deal_probability</th>\n",
              "    </tr>\n",
              "  </thead>\n",
              "  <tbody>\n",
              "    <tr>\n",
              "      <th>31723</th>\n",
              "      <td>1300.0</td>\n",
              "      <td>6</td>\n",
              "      <td>1056.0</td>\n",
              "      <td>20170323</td>\n",
              "      <td>23</td>\n",
              "      <td>3</td>\n",
              "      <td>3</td>\n",
              "      <td>0.147066</td>\n",
              "      <td>0.189069</td>\n",
              "      <td>0.178480</td>\n",
              "      <td>0.149557</td>\n",
              "      <td>0.0000</td>\n",
              "    </tr>\n",
              "    <tr>\n",
              "      <th>929954</th>\n",
              "      <td>1300.0</td>\n",
              "      <td>16</td>\n",
              "      <td>399.0</td>\n",
              "      <td>20170328</td>\n",
              "      <td>28</td>\n",
              "      <td>1</td>\n",
              "      <td>3</td>\n",
              "      <td>0.122004</td>\n",
              "      <td>0.123397</td>\n",
              "      <td>0.046447</td>\n",
              "      <td>0.149557</td>\n",
              "      <td>0.0000</td>\n",
              "    </tr>\n",
              "    <tr>\n",
              "      <th>1143227</th>\n",
              "      <td>140000.0</td>\n",
              "      <td>1</td>\n",
              "      <td>1055.0</td>\n",
              "      <td>20170324</td>\n",
              "      <td>24</td>\n",
              "      <td>4</td>\n",
              "      <td>3</td>\n",
              "      <td>0.122004</td>\n",
              "      <td>0.123397</td>\n",
              "      <td>0.278427</td>\n",
              "      <td>0.149557</td>\n",
              "      <td>0.7376</td>\n",
              "    </tr>\n",
              "  </tbody>\n",
              "</table>\n",
              "</div>\n",
              "      <button class=\"colab-df-convert\" onclick=\"convertToInteractive('df-4f69b8d0-c80e-418e-b865-177d26c0b7fe')\"\n",
              "              title=\"Convert this dataframe to an interactive table.\"\n",
              "              style=\"display:none;\">\n",
              "        \n",
              "  <svg xmlns=\"http://www.w3.org/2000/svg\" height=\"24px\"viewBox=\"0 0 24 24\"\n",
              "       width=\"24px\">\n",
              "    <path d=\"M0 0h24v24H0V0z\" fill=\"none\"/>\n",
              "    <path d=\"M18.56 5.44l.94 2.06.94-2.06 2.06-.94-2.06-.94-.94-2.06-.94 2.06-2.06.94zm-11 1L8.5 8.5l.94-2.06 2.06-.94-2.06-.94L8.5 2.5l-.94 2.06-2.06.94zm10 10l.94 2.06.94-2.06 2.06-.94-2.06-.94-.94-2.06-.94 2.06-2.06.94z\"/><path d=\"M17.41 7.96l-1.37-1.37c-.4-.4-.92-.59-1.43-.59-.52 0-1.04.2-1.43.59L10.3 9.45l-7.72 7.72c-.78.78-.78 2.05 0 2.83L4 21.41c.39.39.9.59 1.41.59.51 0 1.02-.2 1.41-.59l7.78-7.78 2.81-2.81c.8-.78.8-2.07 0-2.86zM5.41 20L4 18.59l7.72-7.72 1.47 1.35L5.41 20z\"/>\n",
              "  </svg>\n",
              "      </button>\n",
              "      \n",
              "  <style>\n",
              "    .colab-df-container {\n",
              "      display:flex;\n",
              "      flex-wrap:wrap;\n",
              "      gap: 12px;\n",
              "    }\n",
              "\n",
              "    .colab-df-convert {\n",
              "      background-color: #E8F0FE;\n",
              "      border: none;\n",
              "      border-radius: 50%;\n",
              "      cursor: pointer;\n",
              "      display: none;\n",
              "      fill: #1967D2;\n",
              "      height: 32px;\n",
              "      padding: 0 0 0 0;\n",
              "      width: 32px;\n",
              "    }\n",
              "\n",
              "    .colab-df-convert:hover {\n",
              "      background-color: #E2EBFA;\n",
              "      box-shadow: 0px 1px 2px rgba(60, 64, 67, 0.3), 0px 1px 3px 1px rgba(60, 64, 67, 0.15);\n",
              "      fill: #174EA6;\n",
              "    }\n",
              "\n",
              "    [theme=dark] .colab-df-convert {\n",
              "      background-color: #3B4455;\n",
              "      fill: #D2E3FC;\n",
              "    }\n",
              "\n",
              "    [theme=dark] .colab-df-convert:hover {\n",
              "      background-color: #434B5C;\n",
              "      box-shadow: 0px 1px 3px 1px rgba(0, 0, 0, 0.15);\n",
              "      filter: drop-shadow(0px 1px 2px rgba(0, 0, 0, 0.3));\n",
              "      fill: #FFFFFF;\n",
              "    }\n",
              "  </style>\n",
              "\n",
              "      <script>\n",
              "        const buttonEl =\n",
              "          document.querySelector('#df-4f69b8d0-c80e-418e-b865-177d26c0b7fe button.colab-df-convert');\n",
              "        buttonEl.style.display =\n",
              "          google.colab.kernel.accessAllowed ? 'block' : 'none';\n",
              "\n",
              "        async function convertToInteractive(key) {\n",
              "          const element = document.querySelector('#df-4f69b8d0-c80e-418e-b865-177d26c0b7fe');\n",
              "          const dataTable =\n",
              "            await google.colab.kernel.invokeFunction('convertToInteractive',\n",
              "                                                     [key], {});\n",
              "          if (!dataTable) return;\n",
              "\n",
              "          const docLinkHtml = 'Like what you see? Visit the ' +\n",
              "            '<a target=\"_blank\" href=https://colab.research.google.com/notebooks/data_table.ipynb>data table notebook</a>'\n",
              "            + ' to learn more about interactive tables.';\n",
              "          element.innerHTML = '';\n",
              "          dataTable['output_type'] = 'display_data';\n",
              "          await google.colab.output.renderOutput(dataTable, element);\n",
              "          const docLink = document.createElement('div');\n",
              "          docLink.innerHTML = docLinkHtml;\n",
              "          element.appendChild(docLink);\n",
              "        }\n",
              "      </script>\n",
              "    </div>\n",
              "  </div>\n",
              "  "
            ]
          },
          "metadata": {},
          "execution_count": 33
        }
      ],
      "source": [
        "# разделим данные на train/test\n",
        "# train-test разделение нужно сделать с помощью sklearn random_state=13, test_size = 0.25\n",
        "X_train, X_test = train_test_split(data_train, test_size =0.25, random_state=13)\n",
        "\n",
        "X_train.head(3)"
      ]
    },
    {
      "cell_type": "code",
      "execution_count": 34,
      "metadata": {
        "colab": {
          "base_uri": "https://localhost:8080/"
        },
        "id": "2rCNerB1xJPO",
        "outputId": "a2d582f4-38f8-49ca-c7e5-983d734dc57e"
      },
      "outputs": [
        {
          "output_type": "stream",
          "name": "stdout",
          "text": [
            "_deal_probability    0.0\n",
            "Name: 31723, dtype: float64\n",
            "price                                  1.300000e+03\n",
            "item_seq_number                        6.000000e+00\n",
            "image_top_1                            1.056000e+03\n",
            "activation_date_int                    2.017032e+07\n",
            "day_of_month                           2.300000e+01\n",
            "day_of_week                            3.000000e+00\n",
            "month                                  3.000000e+00\n",
            "region__deal_probability_avg           1.470655e-01\n",
            "city__deal_probability_avg             1.890690e-01\n",
            "category_name__deal_probability_avg    1.784801e-01\n",
            "user_type__deal_probability_avg        1.495572e-01\n",
            "Name: 31723, dtype: float64\n"
          ]
        }
      ],
      "source": [
        "idx=0\n",
        "y_0 = X_train.iloc[idx, -1:]\n",
        "print(y_0)\n",
        "x_0 = X_train.iloc[idx, 0:-1]\n",
        "print(x_0)"
      ]
    },
    {
      "cell_type": "code",
      "execution_count": 35,
      "metadata": {
        "id": "CFacJWSsKLtb"
      },
      "outputs": [],
      "source": [
        "from torch.utils.data import Dataset\n",
        "\n",
        "class AvitoDataset(Dataset):\n",
        "    def __init__(self, init_dataset, normalize=False, transform=None):\n",
        "      self._base_dataset = init_dataset\n",
        "      self.normalize = normalize\n",
        "      self.transform = transform\n",
        "\n",
        "    def __len__(self):\n",
        "      return len(self._base_dataset)\n",
        "\n",
        "    def __getitem__(self, idx):\n",
        "      \"\"\" Основной метод-точка входа для наборов данных PyTorch\n",
        "      \n",
        "      Аргументы:\n",
        "          idx (int): индекс данных\n",
        "      Возвращает:\n",
        "          словарь признаков (x_data) и метки (y_target) данных\n",
        "      \"\"\"\n",
        "      y = self._base_dataset.iloc[idx, -1:]\n",
        "      # y = torch.tensor(y.values, dtype=torch.float)\n",
        "      y = torch.FloatTensor(y.values)\n",
        "      row = torch.FloatTensor(self._base_dataset.iloc[idx, 0:-1].values)\n",
        "\n",
        "      return row, y"
      ]
    },
    {
      "cell_type": "code",
      "execution_count": 36,
      "metadata": {
        "id": "ItFM8zbFFjf1"
      },
      "outputs": [],
      "source": [
        "df_train, df_test = AvitoDataset(X_train), AvitoDataset(X_test)"
      ]
    },
    {
      "cell_type": "markdown",
      "metadata": {
        "id": "KAwcpNfWCiPE"
      },
      "source": [
        "# __2. Обернуть его в Dataloader__\n"
      ]
    },
    {
      "cell_type": "markdown",
      "source": [
        ""
      ],
      "metadata": {
        "id": "_wE6rEGrujSC"
      }
    },
    {
      "cell_type": "code",
      "execution_count": 37,
      "metadata": {
        "id": "s8WHsvpiFU3C"
      },
      "outputs": [],
      "source": [
        "BATCH_SIZE = 1024\n",
        "train_loader = torch.utils.data.DataLoader(df_train,\n",
        "                                           batch_size=BATCH_SIZE,\n",
        "                                           shuffle=True,\n",
        "                                           num_workers=1)\n",
        "\n",
        "test_loader = torch.utils.data.DataLoader(df_test,\n",
        "                                          batch_size=BATCH_SIZE,\n",
        "                                          shuffle=True,\n",
        "                                          num_workers=1)"
      ]
    },
    {
      "cell_type": "markdown",
      "metadata": {
        "id": "IHitUmZSCiRs"
      },
      "source": [
        "# __3. Написать архитектуру сети__, которая предсказывает число показов на основании числовых данных (вы всегда можете нагенерить дополнительных факторов). Сеть должна включать BatchNorm слои и Dropout (или НЕ включать, но нужно обосновать)"
      ]
    },
    {
      "cell_type": "code",
      "execution_count": 38,
      "metadata": {
        "id": "64WTGmxFEgAe"
      },
      "outputs": [],
      "source": [
        "# import torch.nn.functional as F\n",
        "\n",
        "# class FeedForwardNN(nn.Module):\n",
        "#     def __init__(self, input_dim, hidden_dim):\n",
        "#         ''' В init() - делаем необходимые настройки.\n",
        "        \n",
        "#         Аргументы:\n",
        "#           input_dim - размерность вектора входных данных\n",
        "#           hidden_dim - параметр для настройки скрытых слоёв\n",
        "#         '''\n",
        "#         super(FeedForwardNN, self).__init__()\n",
        "\n",
        "#         self.bn1 = nn.BatchNorm1d(input_dim)\n",
        "#         self.fc1 = nn.Linear(input_dim, 4*hidden_dim)\n",
        "#         self.dp1 = nn.Dropout(0.25)\n",
        "        \n",
        "#         self.bn2 = nn.BatchNorm1d(4*hidden_dim)\n",
        "#         self.fc2 = nn.Linear(4*hidden_dim, 3*hidden_dim)\n",
        "#         self.dp2 = nn.Dropout(0.15)\n",
        "\n",
        "#         self.bn3 = nn.BatchNorm1d(3*hidden_dim)\n",
        "#         self.fc3 = nn.Linear(3*hidden_dim, 2*hidden_dim)\n",
        "#         self.dp3 = nn.Dropout(0.15)\n",
        "\n",
        "#         self.bn4 = nn.BatchNorm1d(2*hidden_dim)\n",
        "#         self.fc4 = nn.Linear(2*hidden_dim, 1)\n",
        "        \n",
        "#     def forward(self, x):\n",
        "#         x = self.bn1(x)\n",
        "#         x = self.fc1(x)\n",
        "#         # Задаём функцию потерь Leaky_relu\n",
        "#         # x = F.leaky_relu(x, 0.05)\n",
        "#         x = torch.tanh(x)\n",
        "#         x = self.dp1(x)\n",
        "\n",
        "#         x = self.bn2(x)\n",
        "#         x = self.fc2(x)\n",
        "#         # Задаём функцию потерь Leaky_relu\n",
        "#         # x = F.leaky_relu(x, 0.05)\n",
        "#         x = torch.tanh(x)\n",
        "#         x = self.dp2(x)\n",
        "\n",
        "#         x = self.bn3(x)\n",
        "#         x = self.fc3(x)\n",
        "#         # Задаём функцию потерь Leaky_relu\n",
        "#         # x = F.leaky_relu(x, 0.05)\n",
        "#         x = torch.tanh(x)\n",
        "#         x = self.dp3(x)\n",
        "\n",
        "#         x = self.bn4(x)\n",
        "#         x = self.fc4(x)\n",
        "#         x = torch.sigmoid(x)\n",
        "\n",
        "#         return x\n",
        "\n",
        "    # def predict(self, x):\n",
        "    #     x = self.forward(x)\n",
        "    #     x = F.softmax(x)\n",
        "    #     return x   \n",
        "\n",
        "# net = FeedForwardNN(11, 4)\n",
        "# print(net) "
      ]
    },
    {
      "cell_type": "code",
      "source": [
        "class FeedForwardNN(nn.Module):\n",
        "    def __init__(self, input_dim, hidden_dim):\n",
        "        super(FeedForwardNN, self).__init__()\n",
        "        \n",
        "        self.bn1 = nn.BatchNorm1d(input_dim)\n",
        "        self.fc1 = nn.Linear(input_dim, 8*hidden_dim)\n",
        "        self.dp1 = nn.Dropout(0.25)\n",
        "\n",
        "        self.bn2 = nn.BatchNorm1d(8*hidden_dim)\n",
        "        self.fc2 = nn.Linear(8*hidden_dim, 4*hidden_dim)\n",
        "        self.dp2 = nn.Dropout(0.15)\n",
        "\n",
        "        self.bn3 = nn.BatchNorm1d(4*hidden_dim)\n",
        "        self.fc3 = nn.Linear(4*hidden_dim, 2*hidden_dim)\n",
        "        self.dp3 = nn.Dropout(0.15)\n",
        "\n",
        "        self.bn4 = nn.BatchNorm1d(2*hidden_dim)\n",
        "        self.fc4 = nn.Linear(2*hidden_dim, 1)\n",
        "\n",
        "    def forward(self, x):\n",
        "        x = self.bn1(x)\n",
        "        x = self.fc1(x)\n",
        "        x = torch.tanh(x)\n",
        "        x = self.dp1(x)\n",
        "\n",
        "        x = self.bn2(x)\n",
        "        x = self.fc2(x)\n",
        "        x = torch.tanh(x)\n",
        "        x = self.dp2(x)\n",
        "\n",
        "        x = self.bn3(x)\n",
        "        x = self.fc3(x)\n",
        "        x = torch.tanh(x)\n",
        "        x = self.dp3(x)\n",
        "\n",
        "        x = self.bn4(x)\n",
        "        x = self.fc4(x)\n",
        "        x = torch.sigmoid(x)\n",
        "\n",
        "        return x"
      ],
      "metadata": {
        "id": "8U01J2LrupJy"
      },
      "execution_count": 39,
      "outputs": []
    },
    {
      "cell_type": "markdown",
      "metadata": {
        "id": "K6ad4MBWCiU1"
      },
      "source": [
        "# __4. Учить будем на функцию потерь с кагла (log RMSE)__ - нужно её реализовать\n",
        "\n",
        "$$RMSLE=\\sqrt{\\frac{1}{n}\\sum\\limits_{i=1}^{n}(\\log{y_i}-\\log{\\hat{y_i}})^2},$$"
      ]
    },
    {
      "cell_type": "code",
      "source": [
        "def log_rmse(y_pred, y_true):\n",
        "    loss = torch.sqrt(torch.mean(\n",
        "        (torch.log(y_pred+1)-torch.log(y_true+1))**2)\n",
        "    )\n",
        "    return loss"
      ],
      "metadata": {
        "id": "qnHKVsEv_BeM"
      },
      "execution_count": 40,
      "outputs": []
    },
    {
      "cell_type": "code",
      "execution_count": 41,
      "metadata": {
        "id": "Ifu8-dAlVppT"
      },
      "outputs": [],
      "source": [
        "# def log_rmse(y_pred, y_true):\n",
        "#       RMSLE = torch.sqrt(torch.mean(\n",
        "#           (torch.log(y_pred)-torch.log(y_true))**2\n",
        "#       ))\n",
        "      \n",
        "#       return RMSLE\n",
        "\n",
        "# def log_rmse(y_true, y_pred):\n",
        "#     d_i = (K.log(y_pred) -  K.log(y_true))\n",
        "#     loss1 = K.mean(K.square(d_i))\n",
        "#     loss2 = K.square(K.sum(K.flatten(d_i),axis=-1))/(K.cast_to_floatx(2) * K.square(K.cast_to_floatx(K.int_shape(K.flatten(d_i))[0])))\n",
        "#     loss = loss1 - loss2\n",
        "#     return loss"
      ]
    },
    {
      "cell_type": "markdown",
      "metadata": {
        "id": "VNtMSHhXCjBr"
      },
      "source": [
        "# __5. Сравните сходимость (Оптимизаторы) Adam, RMSProp и SGD, сделайте вывод по качеству работы модели__\n",
        "\n",
        "train-test разделение нужно сделать с помощью sklearn random_state=13, test_size = 0.25"
      ]
    },
    {
      "cell_type": "code",
      "execution_count": 42,
      "metadata": {
        "id": "3CfbKZ5-4cFy",
        "colab": {
          "base_uri": "https://localhost:8080/"
        },
        "outputId": "d1708b41-f7e0-42fe-ee39-89e89e7c64e1"
      },
      "outputs": [
        {
          "output_type": "stream",
          "name": "stdout",
          "text": [
            "torch.Size([1024, 11])\n"
          ]
        }
      ],
      "source": [
        "epochs = 5\n",
        "lr = 0.01\n",
        "for batch, label in train_loader:\n",
        "    print(batch.shape)\n",
        "    break"
      ]
    },
    {
      "cell_type": "code",
      "source": [
        "def tr_loss(test_loader, model):\n",
        "\n",
        "    batches = len(test_loader)\n",
        "    loss = 0\n",
        "\n",
        "    with torch.no_grad():\n",
        "        for X, y in test_loader:\n",
        "            y_pred = model(X)\n",
        "            loss += log_rmse(y_pred, y)\n",
        "\n",
        "    loss /= batches\n",
        "\n",
        "    return loss"
      ],
      "metadata": {
        "id": "mrNhpCHL67Kp"
      },
      "execution_count": 43,
      "outputs": []
    },
    {
      "cell_type": "code",
      "source": [
        "def train_proc(train_loader, test_loader, model, optimizer):\n",
        "\n",
        "    for i, data in enumerate(train_loader):\n",
        "        inputs, labels = data[0], data[1]  \n",
        "   \n",
        "        y_pred = model(inputs)\n",
        "        loss = log_rmse(y_pred, labels)\n",
        "\n",
        "        # обнуляем градиент\n",
        "        optimizer.zero_grad()\n",
        "        loss.backward()\n",
        "        optimizer.step()\n",
        "    \n",
        "    return tr_loss(test_loader, model)"
      ],
      "metadata": {
        "id": "TUpXzbzQ6_9Z"
      },
      "execution_count": 44,
      "outputs": []
    },
    {
      "cell_type": "markdown",
      "metadata": {
        "id": "QA44F4vi3xC8"
      },
      "source": [
        "## ADAM"
      ]
    },
    {
      "cell_type": "code",
      "source": [
        "model = FeedForwardNN(11, 8)\n",
        "print(model)  "
      ],
      "metadata": {
        "colab": {
          "base_uri": "https://localhost:8080/"
        },
        "id": "grlBoL3_9Qjr",
        "outputId": "936b2afa-26d1-4560-8fec-be6f47df07dc"
      },
      "execution_count": 45,
      "outputs": [
        {
          "output_type": "stream",
          "name": "stdout",
          "text": [
            "FeedForwardNN(\n",
            "  (bn1): BatchNorm1d(11, eps=1e-05, momentum=0.1, affine=True, track_running_stats=True)\n",
            "  (fc1): Linear(in_features=11, out_features=64, bias=True)\n",
            "  (dp1): Dropout(p=0.25, inplace=False)\n",
            "  (bn2): BatchNorm1d(64, eps=1e-05, momentum=0.1, affine=True, track_running_stats=True)\n",
            "  (fc2): Linear(in_features=64, out_features=32, bias=True)\n",
            "  (dp2): Dropout(p=0.15, inplace=False)\n",
            "  (bn3): BatchNorm1d(32, eps=1e-05, momentum=0.1, affine=True, track_running_stats=True)\n",
            "  (fc3): Linear(in_features=32, out_features=16, bias=True)\n",
            "  (dp3): Dropout(p=0.15, inplace=False)\n",
            "  (bn4): BatchNorm1d(16, eps=1e-05, momentum=0.1, affine=True, track_running_stats=True)\n",
            "  (fc4): Linear(in_features=16, out_features=1, bias=True)\n",
            ")\n"
          ]
        }
      ]
    },
    {
      "cell_type": "code",
      "source": [
        "optimizer = torch.optim.RMSprop(model.parameters(), lr=lr)\n",
        "print(f'ADAM:\\n')\n",
        "for epoch in tqdm(range(epochs)):  \n",
        "    result = train_proc(train_loader,\n",
        "                             test_loader,\n",
        "                             model,\n",
        "                             optimizer\n",
        "                             )\n",
        "    \n",
        "    print(f'Test_loss={result}')"
      ],
      "metadata": {
        "colab": {
          "base_uri": "https://localhost:8080/"
        },
        "id": "MqduERiq1K58",
        "outputId": "24424adb-0d17-4cd2-a895-286f1b1a360a"
      },
      "execution_count": 46,
      "outputs": [
        {
          "output_type": "stream",
          "name": "stdout",
          "text": [
            "ADAM:\n",
            "\n"
          ]
        },
        {
          "output_type": "stream",
          "name": "stderr",
          "text": [
            " 20%|██        | 1/5 [11:24<45:36, 684.04s/it]"
          ]
        },
        {
          "output_type": "stream",
          "name": "stdout",
          "text": [
            "Test_loss=0.18010510504245758\n"
          ]
        },
        {
          "output_type": "stream",
          "name": "stderr",
          "text": [
            "\r 40%|████      | 2/5 [22:52<34:20, 686.85s/it]"
          ]
        },
        {
          "output_type": "stream",
          "name": "stdout",
          "text": [
            "Test_loss=0.1796482801437378\n"
          ]
        },
        {
          "output_type": "stream",
          "name": "stderr",
          "text": [
            "\r 60%|██████    | 3/5 [34:31<23:04, 692.17s/it]"
          ]
        },
        {
          "output_type": "stream",
          "name": "stdout",
          "text": [
            "Test_loss=0.1796303391456604\n"
          ]
        },
        {
          "output_type": "stream",
          "name": "stderr",
          "text": [
            "\r 80%|████████  | 4/5 [46:23<11:40, 700.17s/it]"
          ]
        },
        {
          "output_type": "stream",
          "name": "stdout",
          "text": [
            "Test_loss=0.17977136373519897\n"
          ]
        },
        {
          "output_type": "stream",
          "name": "stderr",
          "text": [
            "100%|██████████| 5/5 [58:27<00:00, 701.51s/it]"
          ]
        },
        {
          "output_type": "stream",
          "name": "stdout",
          "text": [
            "Test_loss=0.18032890558242798\n"
          ]
        },
        {
          "output_type": "stream",
          "name": "stderr",
          "text": [
            "\n"
          ]
        }
      ]
    },
    {
      "cell_type": "markdown",
      "source": [
        "## RMSProp"
      ],
      "metadata": {
        "id": "WcTtsg2D-Afi"
      }
    },
    {
      "cell_type": "code",
      "source": [
        "model = FeedForwardNN(11, 8)\n",
        "optimizer = torch.optim.Adam(model.parameters(), lr=lr)\n",
        "print(f'RMSprop:\\n')\n",
        "\n",
        "for epoch in tqdm(range(epochs)):  \n",
        "    result = train_proc(train_loader,\n",
        "                             test_loader,\n",
        "                             model,\n",
        "                             optimizer\n",
        "                             )\n",
        "    \n",
        "    print(f'Test_loss={result}')"
      ],
      "metadata": {
        "colab": {
          "base_uri": "https://localhost:8080/"
        },
        "id": "iZ-S31Mb-BHP",
        "outputId": "928f9cd5-79da-4d04-c749-fd5f87e0fc09"
      },
      "execution_count": 47,
      "outputs": [
        {
          "output_type": "stream",
          "name": "stdout",
          "text": [
            "RMSprop:\n",
            "\n"
          ]
        },
        {
          "output_type": "stream",
          "name": "stderr",
          "text": [
            " 20%|██        | 1/5 [11:52<47:28, 712.18s/it]"
          ]
        },
        {
          "output_type": "stream",
          "name": "stdout",
          "text": [
            "Test_loss=0.1798865646123886\n"
          ]
        },
        {
          "output_type": "stream",
          "name": "stderr",
          "text": [
            "\r 40%|████      | 2/5 [23:56<35:58, 719.39s/it]"
          ]
        },
        {
          "output_type": "stream",
          "name": "stdout",
          "text": [
            "Test_loss=0.17945596575737\n"
          ]
        },
        {
          "output_type": "stream",
          "name": "stderr",
          "text": [
            "\r 60%|██████    | 3/5 [35:57<24:00, 720.25s/it]"
          ]
        },
        {
          "output_type": "stream",
          "name": "stdout",
          "text": [
            "Test_loss=0.17960643768310547\n"
          ]
        },
        {
          "output_type": "stream",
          "name": "stderr",
          "text": [
            "\r 80%|████████  | 4/5 [47:46<11:55, 715.83s/it]"
          ]
        },
        {
          "output_type": "stream",
          "name": "stdout",
          "text": [
            "Test_loss=0.17945215106010437\n"
          ]
        },
        {
          "output_type": "stream",
          "name": "stderr",
          "text": [
            "100%|██████████| 5/5 [59:31<00:00, 714.30s/it]"
          ]
        },
        {
          "output_type": "stream",
          "name": "stdout",
          "text": [
            "Test_loss=0.17936037480831146\n"
          ]
        },
        {
          "output_type": "stream",
          "name": "stderr",
          "text": [
            "\n"
          ]
        }
      ]
    },
    {
      "cell_type": "markdown",
      "source": [
        "## SGD"
      ],
      "metadata": {
        "id": "vMNw9sKg9CtY"
      }
    },
    {
      "cell_type": "code",
      "source": [
        "model = FeedForwardNN(11, 8)\n",
        "optimizer = torch.optim.SGD(model.parameters(), lr=lr)\n",
        "print(f'SGD:\\n')\n",
        "\n",
        "for epoch in tqdm(range(epochs)):  \n",
        "    result = train_proc(train_loader,\n",
        "                             test_loader,\n",
        "                             model,\n",
        "                             optimizer\n",
        "                             )\n",
        "    print(f'Test_loss: {result}')"
      ],
      "metadata": {
        "colab": {
          "base_uri": "https://localhost:8080/"
        },
        "id": "ik7qAv7p9JXj",
        "outputId": "696bf4c0-a3b1-4c2a-9ff1-106eccf8f7bc"
      },
      "execution_count": 48,
      "outputs": [
        {
          "output_type": "stream",
          "name": "stdout",
          "text": [
            "SGD:\n",
            "\n"
          ]
        },
        {
          "output_type": "stream",
          "name": "stderr",
          "text": [
            " 20%|██        | 1/5 [11:40<46:42, 700.52s/it]"
          ]
        },
        {
          "output_type": "stream",
          "name": "stdout",
          "text": [
            "Test_loss: 0.19872649013996124\n"
          ]
        },
        {
          "output_type": "stream",
          "name": "stderr",
          "text": [
            "\r 40%|████      | 2/5 [23:29<35:16, 705.33s/it]"
          ]
        },
        {
          "output_type": "stream",
          "name": "stdout",
          "text": [
            "Test_loss: 0.18643750250339508\n"
          ]
        },
        {
          "output_type": "stream",
          "name": "stderr",
          "text": [
            "\r 60%|██████    | 3/5 [35:04<23:21, 700.80s/it]"
          ]
        },
        {
          "output_type": "stream",
          "name": "stdout",
          "text": [
            "Test_loss: 0.1849292516708374\n"
          ]
        },
        {
          "output_type": "stream",
          "name": "stderr",
          "text": [
            "\r 80%|████████  | 4/5 [46:41<11:39, 699.26s/it]"
          ]
        },
        {
          "output_type": "stream",
          "name": "stdout",
          "text": [
            "Test_loss: 0.18434157967567444\n"
          ]
        },
        {
          "output_type": "stream",
          "name": "stderr",
          "text": [
            "100%|██████████| 5/5 [58:12<00:00, 698.50s/it]"
          ]
        },
        {
          "output_type": "stream",
          "name": "stdout",
          "text": [
            "Test_loss: 0.1837015599012375\n"
          ]
        },
        {
          "output_type": "stream",
          "name": "stderr",
          "text": [
            "\n"
          ]
        }
      ]
    },
    {
      "cell_type": "markdown",
      "source": [
        "## Вывод:\n",
        "\n",
        "Наилучшую сходимость и лучший результат наблюдаем при использовании оптимизатора RMSProp"
      ],
      "metadata": {
        "id": "BNpfKNYc-dk9"
      }
    },
    {
      "cell_type": "code",
      "execution_count": 84,
      "metadata": {
        "id": "9S8btEadY-AX"
      },
      "outputs": [],
      "source": [
        "# for epoch in tqdm(range(epochs)):  \n",
        "#     running_loss = 0.0\n",
        "#     for i, data in enumerate(train_loader):\n",
        "#         inputs, labels = data[0], data[1]  \n",
        "\n",
        "#         # обнуляем градиент\n",
        "#         optimizer.zero_grad()\n",
        "\n",
        "#         outputs = model(inputs)\n",
        "#         loss = log_rmse(outputs, labels)\n",
        "#         loss.backward()\n",
        "#         optimizer.step()\n",
        "\n",
        "#         # выводим статистику о процессе обучения\n",
        "#         running_loss += loss.item()\n",
        "#         if i % 300 == 0:    # печатаем каждые 300 mini-batches\n",
        "#             print('[%d, %5d] loss: %.3f' %\n",
        "#                   (epoch + 1, i + 1, running_loss / 300))\n",
        "#             running_loss = 0.0\n",
        "\n",
        "# print('Training is finished!')"
      ]
    },
    {
      "cell_type": "markdown",
      "metadata": {
        "id": "RPIZSLJxYIOl"
      },
      "source": [
        "Root Mean Squared Error (RMSE)\n",
        "Submissions are scored on the root mean squared error. RMSE is defined as:\n",
        "\n",
        "$$RMSE=\\sqrt{\\frac{1}{n}\\sum\\nolimits_{i=1}^{n}(y_i-\\hat{y_i})^2},$$\n",
        "where y hat is the predicted value and y is the original value.\n",
        "\n",
        "<img src=\"RMSE.jpg\">"
      ]
    },
    {
      "cell_type": "code",
      "execution_count": null,
      "metadata": {
        "id": "Fvvmv_nAYeNr"
      },
      "outputs": [],
      "source": [
        ""
      ]
    }
  ],
  "metadata": {
    "colab": {
      "collapsed_sections": [],
      "name": "lesson_3_pt_hw.ipynb",
      "provenance": []
    },
    "kernelspec": {
      "display_name": "Python 3",
      "name": "python3"
    },
    "language_info": {
      "name": "python"
    },
    "widgets": {
      "application/vnd.jupyter.widget-state+json": {
        "cfcdda61231c4493915e1b485a6e203b": {
          "model_module": "@jupyter-widgets/controls",
          "model_name": "HBoxModel",
          "model_module_version": "1.5.0",
          "state": {
            "_dom_classes": [],
            "_model_module": "@jupyter-widgets/controls",
            "_model_module_version": "1.5.0",
            "_model_name": "HBoxModel",
            "_view_count": null,
            "_view_module": "@jupyter-widgets/controls",
            "_view_module_version": "1.5.0",
            "_view_name": "HBoxView",
            "box_style": "",
            "children": [
              "IPY_MODEL_4801fddc619a49abafb701273bea1c45",
              "IPY_MODEL_4b65ccfa51bc4b5ca74b86252a49d59c",
              "IPY_MODEL_3cfeab7b994749519be464fc28ca48a9"
            ],
            "layout": "IPY_MODEL_cc11bfda7c2d4b759e987a74e0cf0ecb"
          }
        },
        "4801fddc619a49abafb701273bea1c45": {
          "model_module": "@jupyter-widgets/controls",
          "model_name": "HTMLModel",
          "model_module_version": "1.5.0",
          "state": {
            "_dom_classes": [],
            "_model_module": "@jupyter-widgets/controls",
            "_model_module_version": "1.5.0",
            "_model_name": "HTMLModel",
            "_view_count": null,
            "_view_module": "@jupyter-widgets/controls",
            "_view_module_version": "1.5.0",
            "_view_name": "HTMLView",
            "description": "",
            "description_tooltip": null,
            "layout": "IPY_MODEL_27af01cb33594e2e99504acdb43fcc31",
            "placeholder": "​",
            "style": "IPY_MODEL_6e572c2b41f84d748dcd0ae6162b726c",
            "value": "100%"
          }
        },
        "4b65ccfa51bc4b5ca74b86252a49d59c": {
          "model_module": "@jupyter-widgets/controls",
          "model_name": "FloatProgressModel",
          "model_module_version": "1.5.0",
          "state": {
            "_dom_classes": [],
            "_model_module": "@jupyter-widgets/controls",
            "_model_module_version": "1.5.0",
            "_model_name": "FloatProgressModel",
            "_view_count": null,
            "_view_module": "@jupyter-widgets/controls",
            "_view_module_version": "1.5.0",
            "_view_name": "ProgressView",
            "bar_style": "success",
            "description": "",
            "description_tooltip": null,
            "layout": "IPY_MODEL_57c67055501b4d148274816de03ef1d8",
            "max": 4,
            "min": 0,
            "orientation": "horizontal",
            "style": "IPY_MODEL_5407e70a81d44504ba3e543c093d97b5",
            "value": 4
          }
        },
        "3cfeab7b994749519be464fc28ca48a9": {
          "model_module": "@jupyter-widgets/controls",
          "model_name": "HTMLModel",
          "model_module_version": "1.5.0",
          "state": {
            "_dom_classes": [],
            "_model_module": "@jupyter-widgets/controls",
            "_model_module_version": "1.5.0",
            "_model_name": "HTMLModel",
            "_view_count": null,
            "_view_module": "@jupyter-widgets/controls",
            "_view_module_version": "1.5.0",
            "_view_name": "HTMLView",
            "description": "",
            "description_tooltip": null,
            "layout": "IPY_MODEL_81e4c49232074dc58bf5fc619c3d0956",
            "placeholder": "​",
            "style": "IPY_MODEL_2669073bf25c40b885505d797a97f867",
            "value": " 4/4 [00:01&lt;00:00,  3.85it/s]"
          }
        },
        "cc11bfda7c2d4b759e987a74e0cf0ecb": {
          "model_module": "@jupyter-widgets/base",
          "model_name": "LayoutModel",
          "model_module_version": "1.2.0",
          "state": {
            "_model_module": "@jupyter-widgets/base",
            "_model_module_version": "1.2.0",
            "_model_name": "LayoutModel",
            "_view_count": null,
            "_view_module": "@jupyter-widgets/base",
            "_view_module_version": "1.2.0",
            "_view_name": "LayoutView",
            "align_content": null,
            "align_items": null,
            "align_self": null,
            "border": null,
            "bottom": null,
            "display": null,
            "flex": null,
            "flex_flow": null,
            "grid_area": null,
            "grid_auto_columns": null,
            "grid_auto_flow": null,
            "grid_auto_rows": null,
            "grid_column": null,
            "grid_gap": null,
            "grid_row": null,
            "grid_template_areas": null,
            "grid_template_columns": null,
            "grid_template_rows": null,
            "height": null,
            "justify_content": null,
            "justify_items": null,
            "left": null,
            "margin": null,
            "max_height": null,
            "max_width": null,
            "min_height": null,
            "min_width": null,
            "object_fit": null,
            "object_position": null,
            "order": null,
            "overflow": null,
            "overflow_x": null,
            "overflow_y": null,
            "padding": null,
            "right": null,
            "top": null,
            "visibility": null,
            "width": null
          }
        },
        "27af01cb33594e2e99504acdb43fcc31": {
          "model_module": "@jupyter-widgets/base",
          "model_name": "LayoutModel",
          "model_module_version": "1.2.0",
          "state": {
            "_model_module": "@jupyter-widgets/base",
            "_model_module_version": "1.2.0",
            "_model_name": "LayoutModel",
            "_view_count": null,
            "_view_module": "@jupyter-widgets/base",
            "_view_module_version": "1.2.0",
            "_view_name": "LayoutView",
            "align_content": null,
            "align_items": null,
            "align_self": null,
            "border": null,
            "bottom": null,
            "display": null,
            "flex": null,
            "flex_flow": null,
            "grid_area": null,
            "grid_auto_columns": null,
            "grid_auto_flow": null,
            "grid_auto_rows": null,
            "grid_column": null,
            "grid_gap": null,
            "grid_row": null,
            "grid_template_areas": null,
            "grid_template_columns": null,
            "grid_template_rows": null,
            "height": null,
            "justify_content": null,
            "justify_items": null,
            "left": null,
            "margin": null,
            "max_height": null,
            "max_width": null,
            "min_height": null,
            "min_width": null,
            "object_fit": null,
            "object_position": null,
            "order": null,
            "overflow": null,
            "overflow_x": null,
            "overflow_y": null,
            "padding": null,
            "right": null,
            "top": null,
            "visibility": null,
            "width": null
          }
        },
        "6e572c2b41f84d748dcd0ae6162b726c": {
          "model_module": "@jupyter-widgets/controls",
          "model_name": "DescriptionStyleModel",
          "model_module_version": "1.5.0",
          "state": {
            "_model_module": "@jupyter-widgets/controls",
            "_model_module_version": "1.5.0",
            "_model_name": "DescriptionStyleModel",
            "_view_count": null,
            "_view_module": "@jupyter-widgets/base",
            "_view_module_version": "1.2.0",
            "_view_name": "StyleView",
            "description_width": ""
          }
        },
        "57c67055501b4d148274816de03ef1d8": {
          "model_module": "@jupyter-widgets/base",
          "model_name": "LayoutModel",
          "model_module_version": "1.2.0",
          "state": {
            "_model_module": "@jupyter-widgets/base",
            "_model_module_version": "1.2.0",
            "_model_name": "LayoutModel",
            "_view_count": null,
            "_view_module": "@jupyter-widgets/base",
            "_view_module_version": "1.2.0",
            "_view_name": "LayoutView",
            "align_content": null,
            "align_items": null,
            "align_self": null,
            "border": null,
            "bottom": null,
            "display": null,
            "flex": null,
            "flex_flow": null,
            "grid_area": null,
            "grid_auto_columns": null,
            "grid_auto_flow": null,
            "grid_auto_rows": null,
            "grid_column": null,
            "grid_gap": null,
            "grid_row": null,
            "grid_template_areas": null,
            "grid_template_columns": null,
            "grid_template_rows": null,
            "height": null,
            "justify_content": null,
            "justify_items": null,
            "left": null,
            "margin": null,
            "max_height": null,
            "max_width": null,
            "min_height": null,
            "min_width": null,
            "object_fit": null,
            "object_position": null,
            "order": null,
            "overflow": null,
            "overflow_x": null,
            "overflow_y": null,
            "padding": null,
            "right": null,
            "top": null,
            "visibility": null,
            "width": null
          }
        },
        "5407e70a81d44504ba3e543c093d97b5": {
          "model_module": "@jupyter-widgets/controls",
          "model_name": "ProgressStyleModel",
          "model_module_version": "1.5.0",
          "state": {
            "_model_module": "@jupyter-widgets/controls",
            "_model_module_version": "1.5.0",
            "_model_name": "ProgressStyleModel",
            "_view_count": null,
            "_view_module": "@jupyter-widgets/base",
            "_view_module_version": "1.2.0",
            "_view_name": "StyleView",
            "bar_color": null,
            "description_width": ""
          }
        },
        "81e4c49232074dc58bf5fc619c3d0956": {
          "model_module": "@jupyter-widgets/base",
          "model_name": "LayoutModel",
          "model_module_version": "1.2.0",
          "state": {
            "_model_module": "@jupyter-widgets/base",
            "_model_module_version": "1.2.0",
            "_model_name": "LayoutModel",
            "_view_count": null,
            "_view_module": "@jupyter-widgets/base",
            "_view_module_version": "1.2.0",
            "_view_name": "LayoutView",
            "align_content": null,
            "align_items": null,
            "align_self": null,
            "border": null,
            "bottom": null,
            "display": null,
            "flex": null,
            "flex_flow": null,
            "grid_area": null,
            "grid_auto_columns": null,
            "grid_auto_flow": null,
            "grid_auto_rows": null,
            "grid_column": null,
            "grid_gap": null,
            "grid_row": null,
            "grid_template_areas": null,
            "grid_template_columns": null,
            "grid_template_rows": null,
            "height": null,
            "justify_content": null,
            "justify_items": null,
            "left": null,
            "margin": null,
            "max_height": null,
            "max_width": null,
            "min_height": null,
            "min_width": null,
            "object_fit": null,
            "object_position": null,
            "order": null,
            "overflow": null,
            "overflow_x": null,
            "overflow_y": null,
            "padding": null,
            "right": null,
            "top": null,
            "visibility": null,
            "width": null
          }
        },
        "2669073bf25c40b885505d797a97f867": {
          "model_module": "@jupyter-widgets/controls",
          "model_name": "DescriptionStyleModel",
          "model_module_version": "1.5.0",
          "state": {
            "_model_module": "@jupyter-widgets/controls",
            "_model_module_version": "1.5.0",
            "_model_name": "DescriptionStyleModel",
            "_view_count": null,
            "_view_module": "@jupyter-widgets/base",
            "_view_module_version": "1.2.0",
            "_view_name": "StyleView",
            "description_width": ""
          }
        }
      }
    }
  },
  "nbformat": 4,
  "nbformat_minor": 0
}